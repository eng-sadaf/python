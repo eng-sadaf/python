{
 "cells": [
  {
   "cell_type": "markdown",
   "id": "e39c0ae8",
   "metadata": {},
   "source": [
    "# 8-1. Message: \n",
    "Write a function called display_message() that prints one sentence telling everyone what you are learning about in this chapter. Call the function, and make sure the message displays correctly."
   ]
  },
  {
   "cell_type": "code",
   "execution_count": 1,
   "id": "0e1c08f7",
   "metadata": {},
   "outputs": [
    {
     "name": "stdout",
     "output_type": "stream",
     "text": [
      "Your are learning about functions in this chapter.\n"
     ]
    }
   ],
   "source": [
    "def display_message():\n",
    "    \"\"\"Printing a simple message\"\"\"\n",
    "    print(\"Your are learning about functions in this chapter.\")\n",
    "display_message()"
   ]
  },
  {
   "cell_type": "markdown",
   "id": "acfc2b4e",
   "metadata": {},
   "source": [
    "# 8-2. Favorite Book: \n",
    "Write a function called favorite_book() that accepts one parameter, title. The function should print a message, such as One of my favorite books is Alice in Wonderland. Call the function, making sure to\n",
    "include a book title as an argument in the function call."
   ]
  },
  {
   "cell_type": "code",
   "execution_count": 2,
   "id": "7fa7eaa9",
   "metadata": {},
   "outputs": [
    {
     "name": "stdout",
     "output_type": "stream",
     "text": [
      "One of my favourite book is Alice In Wonderland\n"
     ]
    }
   ],
   "source": [
    "def favorite_book(title):\n",
    "    \"\"\"Printing simple message by taking arguments on function call \"\"\"\n",
    "    print(f\"One of my favourite book is {title.title()}\")\n",
    "    \n",
    "favorite_book('Alice in Wonderland')\n",
    "    "
   ]
  },
  {
   "cell_type": "markdown",
   "id": "c6012dd4",
   "metadata": {},
   "source": [
    "# 8-3. T-Shirt: \n",
    "Write a function called make_shirt() that accepts a size and the text of a message that should be printed on the shirt. The function should print a sentence summarizing the size of the shirt and the message printed on it.\n",
    "Call the function once using positional arguments to make a shirt. Call the function a second time using keyword arguments."
   ]
  },
  {
   "cell_type": "code",
   "execution_count": 4,
   "id": "c6431db3",
   "metadata": {},
   "outputs": [
    {
     "name": "stdout",
     "output_type": "stream",
     "text": [
      "The shirt size is 25 and printed message is Cool Duude!\n",
      "The shirt size is 30 and printed message is I Like Python!\n"
     ]
    }
   ],
   "source": [
    "def make_shirt(size,message):\n",
    "    print(f\"The shirt size is {size} and printed message is {message.title()}\")\n",
    "make_shirt(25,\"Cool Duude!\")\n",
    "make_shirt(size = 30,message = 'I like Python!')"
   ]
  },
  {
   "cell_type": "markdown",
   "id": "c5c9bb98",
   "metadata": {},
   "source": [
    "# 8-4. Large Shirts: \n",
    "Modify the make_shirt() function so that shirts are large by default with a message that reads I love Python. Make a large shirt and a medium shirt with the default message, and a shirt of any size with a different message."
   ]
  },
  {
   "cell_type": "code",
   "execution_count": 9,
   "id": "e9127371",
   "metadata": {},
   "outputs": [
    {
     "name": "stdout",
     "output_type": "stream",
     "text": [
      "The shirt size is Large and printed message is I Love Python!\n",
      "The shirt size is Medium and printed message is I Love Python!\n",
      "The shirt size is Small and printed message is Hello Python!\n"
     ]
    }
   ],
   "source": [
    "def make_shirt(size='Large',message=''):\n",
    "    print(f\"The shirt size is {size} and printed message is {message.title()}\")\n",
    "    \n",
    "make_shirt(size='Large',message='I love Python!')\n",
    "make_shirt(size = 'Medium',message = 'I love Python!')\n",
    "make_shirt(size = 'Small',message = 'Hello python!')"
   ]
  },
  {
   "cell_type": "markdown",
   "id": "f56daabb",
   "metadata": {},
   "source": [
    "# 8-5. Cities: \n",
    "Write a function called describe_city() that accepts the name of a city and its country. The function should print a simple sentence, such as Reykjavik is in Iceland. Give the parameter for the country a default value.  Call your function for three different cities, at least one of which is not in the\n",
    "default country."
   ]
  },
  {
   "cell_type": "code",
   "execution_count": 12,
   "id": "6922ad5a",
   "metadata": {},
   "outputs": [
    {
     "name": "stdout",
     "output_type": "stream",
     "text": [
      "Kópavogur is in Iceland\n",
      "Akureyri is in Iceland\n",
      "Toronto is in Canada\n"
     ]
    }
   ],
   "source": [
    "def describe_city(city_name='',country='iceland'):\n",
    "    print(f\"{city_name.title()} is in {country.title()}\")\n",
    "\n",
    "describe_city('Kópavogur')\n",
    "describe_city('Akureyri')\n",
    "describe_city('Toronto',country='Canada')\n",
    "    "
   ]
  },
  {
   "cell_type": "markdown",
   "id": "3096d494",
   "metadata": {},
   "source": [
    "# 8-6. City Names: \n",
    "Write a function called city_country() that takes in the name of a city and its country. The function should return a string formatted like this:\n",
    "\"Santiago, Chile\"\n",
    "Call your function with at least three city-country pairs, and print the values that are returned."
   ]
  },
  {
   "cell_type": "code",
   "execution_count": 30,
   "id": "c05369ab",
   "metadata": {},
   "outputs": [
    {
     "name": "stdout",
     "output_type": "stream",
     "text": [
      "\"Santiago, Chile\"\n",
      "\"Yaren, Nauru\"\n",
      "\"Funafuti, Tuvalu\"\n"
     ]
    }
   ],
   "source": [
    "def city_country(city,country):\n",
    "    name = f\"{city}, {country}\"\n",
    "    return name.title()\n",
    "\n",
    "c_and_c = city_country('\"Santiago','Chile\"')\n",
    "print(c_and_c)\n",
    "c_and_c = city_country('\"Yaren','Nauru\"')\n",
    "print(c_and_c)\n",
    "c_and_c = city_country('\"Funafuti','Tuvalu\"')\n",
    "print(c_and_c)"
   ]
  },
  {
   "cell_type": "markdown",
   "id": "85bfae98",
   "metadata": {},
   "source": [
    "# 8-7. Album: \n",
    "Write a function called make_album() that builds a dictionary describing a music album. The function should take in an artist name and an album title, and it should return a dictionary containing these two pieces of information. Use the function to make three dictionaries representing different\n",
    "albums. Print each return value to show that the dictionaries are storing the album information correctly.\n",
    "Use None to add an optional parameter to make_album() that allows you to store the number of songs on an album. If the calling line includes a value for the number of songs, add that value to the album’s dictionary. Make at least one new function call that includes the number of songs on an album."
   ]
  },
  {
   "cell_type": "code",
   "execution_count": 37,
   "id": "7d645488",
   "metadata": {},
   "outputs": [
    {
     "name": "stdout",
     "output_type": "stream",
     "text": [
      "{'name': 'Whitney Houston', 'title': 'The Bodyguard', 'songs': 12}\n",
      "{'name': 'Michael Jackson', 'title': 'Thriller', 'songs': 9}\n",
      "{'name': 'Eagles', 'title': 'Their Greatest Hits (1971–1975)'}\n"
     ]
    }
   ],
   "source": [
    "def make_album(artist_name,album_title,num_of_songs= None):\n",
    "    music_album = {'name':artist_name,'title':album_title}\n",
    "    if num_of_songs:\n",
    "        music_album['songs'] = num_of_songs\n",
    "    return music_album\n",
    "\n",
    "obj1 = make_album('Whitney Houston','The Bodyguard',12)\n",
    "print(obj1)\n",
    "obj2 = make_album('Michael Jackson','Thriller',9)\n",
    "print(obj2)\n",
    "obj3 = make_album('Eagles','Their Greatest Hits (1971–1975)')\n",
    "print(obj3)"
   ]
  },
  {
   "cell_type": "markdown",
   "id": "1f98066c",
   "metadata": {},
   "source": [
    "# 8-8. User Albums: \n",
    "Start with your program from Exercise 8-7. Write a while loop that allows users to enter an album’s artist and title. Once you have that information, call make_album() with the user’s input and print the dictionary that’s created. Be sure to include a quit value in the while loop."
   ]
  },
  {
   "cell_type": "code",
   "execution_count": 70,
   "id": "8819d77b",
   "metadata": {},
   "outputs": [
    {
     "name": "stdout",
     "output_type": "stream",
     "text": [
      "(Enter 'q' at any time to quit)\n",
      "\n",
      "Who's your favourite artist: micheal\n",
      "Which album are to thinking of: thriller\n",
      "\n",
      "Hello, {'artist_name': 'Micheal', 'album_title': 'Thriller'}!\n",
      "(Enter 'q' at any time to quit)\n",
      "\n",
      "Who's your favourite artist: atif\n",
      "Which album are to thinking of: dua\n",
      "\n",
      "Hello, {'artist_name': 'Atif', 'album_title': 'Dua'}!\n",
      "(Enter 'q' at any time to quit)\n",
      "\n",
      "Who's your favourite artist: q\n",
      "Thanks for responding\n"
     ]
    }
   ],
   "source": [
    "def make_album(artist_name,album_title):\n",
    "    music_album = {\n",
    "        'artist_name' : artist_name.title(),\n",
    "        'album_title' : album_title.title()\n",
    "    }\n",
    "    return music_album\n",
    "\n",
    "while True:\n",
    "    print(\"(Enter 'q' at any time to quit)\")\n",
    "    artist_name = input(\"\\nWho's your favourite artist: \")\n",
    "    if artist_name == 'q':\n",
    "        break\n",
    "    album_title= input(\"Which album are to thinking of: \")\n",
    "    if album_title == 'q':\n",
    "        break\n",
    "    music_data = make_album(artist_name,album_title)\n",
    "    print(f\"\\nHello, {music_data}!\")\n",
    "print(\"Thanks for responding\")"
   ]
  },
  {
   "cell_type": "markdown",
   "id": "a05d6b84",
   "metadata": {},
   "source": [
    "# 8-9. Messages: \n",
    "Make a list containing a series of short text messages. Pass the list to a function called show_messages(), which prints each text message."
   ]
  },
  {
   "cell_type": "code",
   "execution_count": 73,
   "id": "8fe5ae80",
   "metadata": {},
   "outputs": [
    {
     "name": "stdout",
     "output_type": "stream",
     "text": [
      "Hello world!\n",
      "Pakistan zindabad\n",
      "I love Pakistan\n"
     ]
    }
   ],
   "source": [
    "def show_messages(short_messages):\n",
    "    for msgs in short_messages:\n",
    "        print(msgs)\n",
    "        \n",
    "short_messages = [\n",
    "    'Hello world!',\n",
    "    'Pakistan zindabad',\n",
    "    'I love Pakistan'\n",
    "]\n",
    "\n",
    "show_messages(short_messages)"
   ]
  },
  {
   "cell_type": "markdown",
   "id": "274601a9",
   "metadata": {},
   "source": [
    "# 8-10. Sending Messages: \n",
    "Start with a copy of your program from Exercise 8-9. Write a function called send_messages() that prints each text message and moves each message to a new list called sent_messages as it’s printed. After calling the function, print both of your lists to make sure the messages were moved correctly."
   ]
  },
  {
   "cell_type": "code",
   "execution_count": 79,
   "id": "ddba347c",
   "metadata": {},
   "outputs": [
    {
     "name": "stdout",
     "output_type": "stream",
     "text": [
      "Sending msgs I love Pakistan....\n",
      "Sending msgs Pakistan zindabad....\n",
      "Sending msgs Hello world!....\n",
      "\n",
      "The following messages have been sent :\n",
      "\n",
      "I love Pakistan\n",
      "Pakistan zindabad\n",
      "Hello world!\n",
      "\n",
      "List of short messages :  []\n",
      "List of sent messages :  ['I love Pakistan', 'Pakistan zindabad', 'Hello world!']\n"
     ]
    }
   ],
   "source": [
    "def show_messages(short_messages,sent_messages):\n",
    "    while short_messages:\n",
    "        msgs = short_messages.pop()\n",
    "        print(f\"Sending msgs {msgs}....\")\n",
    "        sent_messages.append(msgs)\n",
    "        \n",
    "def send_messages(sent_messages):\n",
    "    print(\"\\nThe following messages have been sent :\\n\")\n",
    "    for s_msgs in sent_messages:\n",
    "        print(s_msgs)\n",
    "        \n",
    "short_messages = [\n",
    "    'Hello world!',\n",
    "    'Pakistan zindabad',\n",
    "    'I love Pakistan'\n",
    "]\n",
    "sent_messages = []\n",
    "\n",
    "show_messages(short_messages,sent_messages)\n",
    "send_messages(sent_messages)\n",
    "\n",
    "print(\"\\nList of short messages : \",short_messages)\n",
    "print(\"List of sent messages : \",sent_messages)"
   ]
  },
  {
   "cell_type": "markdown",
   "id": "cdbe6b87",
   "metadata": {},
   "source": [
    "# 8-11. Archived Messages: \n",
    "Start with your work from Exercise 8-10. Call the function send_messages() with a copy of the list of messages. After calling the function, print both of your lists to show that the original list has retained its messages."
   ]
  },
  {
   "cell_type": "code",
   "execution_count": 80,
   "id": "6b818575",
   "metadata": {},
   "outputs": [
    {
     "name": "stdout",
     "output_type": "stream",
     "text": [
      "Sending msgs I love Pakistan....\n",
      "Sending msgs Pakistan zindabad....\n",
      "Sending msgs Hello world!....\n",
      "\n",
      "The following messages have been sent :\n",
      "\n",
      "I love Pakistan\n",
      "Pakistan zindabad\n",
      "Hello world!\n",
      "\n",
      "List of short messages :  ['Hello world!', 'Pakistan zindabad', 'I love Pakistan']\n",
      "List of sent messages :  ['I love Pakistan', 'Pakistan zindabad', 'Hello world!']\n"
     ]
    }
   ],
   "source": [
    "def show_messages(short_messages,sent_messages):\n",
    "    while short_messages:\n",
    "        msgs = short_messages.pop()\n",
    "        print(f\"Sending msgs {msgs}....\")\n",
    "        sent_messages.append(msgs)\n",
    "        \n",
    "def send_messages(sent_messages):\n",
    "    print(\"\\nThe following messages have been sent :\\n\")\n",
    "    for s_msgs in sent_messages:\n",
    "        print(s_msgs)\n",
    "        \n",
    "short_messages = [\n",
    "    'Hello world!',\n",
    "    'Pakistan zindabad',\n",
    "    'I love Pakistan'\n",
    "]\n",
    "sent_messages = []\n",
    "# making copy file to change and dont want to change the original list then add [:] in copied list\n",
    "show_messages(short_messages[:],sent_messages)\n",
    "send_messages(sent_messages)\n",
    "\n",
    "print(\"\\nList of short messages : \",short_messages)\n",
    "print(\"List of sent messages : \",sent_messages)"
   ]
  },
  {
   "cell_type": "markdown",
   "id": "7601f7f6",
   "metadata": {},
   "source": [
    "# 8-12. Sandwiches: \n",
    "Write a function that accepts a list of items a person wants on a sandwich. The function should have one parameter that collects as many items as the function call provides, and it should print a summary of the sandwich that’s being ordered. Call the function three times, using a different number\n",
    "of arguments each time."
   ]
  },
  {
   "cell_type": "code",
   "execution_count": 3,
   "id": "9a12b97f",
   "metadata": {},
   "outputs": [
    {
     "name": "stdout",
     "output_type": "stream",
     "text": [
      "\n",
      "This is the summary of sandwitches that's being ordered: \n",
      "- Mayoneese\n",
      "- Chicken\n",
      "\n",
      "This is the summary of sandwitches that's being ordered: \n",
      "- Muttoon\n",
      "- Mayoneese\n",
      "- Vegetables\n",
      "\n",
      "This is the summary of sandwitches that's being ordered: \n",
      "- Meat\n",
      "- Ketchup\n",
      "- BBQ\n",
      "- Spices\n"
     ]
    }
   ],
   "source": [
    "def sandwitches(*items):\n",
    "    \"\"\"Printing list of items by taking multiple args on function call \"\"\"\n",
    "    print(f\"\\nThis is the summary of sandwitches that's being ordered: \")\n",
    "    for item in items:\n",
    "        print(f\"- {item}\")\n",
    "        \n",
    "\n",
    "sandwitches('Mayoneese','Chicken')\n",
    "sandwitches('Muttoon','Mayoneese','Vegetables')\n",
    "sandwitches('Meat','Ketchup','BBQ','Spices')\n"
   ]
  },
  {
   "cell_type": "markdown",
   "id": "6c18414b",
   "metadata": {},
   "source": [
    "# 8-13. User Profile: \n",
    "Start with a copy of user_profile.py from page 149. Build a profile of yourself by calling build_profile(), using your first and last names and three other key-value pairs that describe you."
   ]
  },
  {
   "cell_type": "code",
   "execution_count": 12,
   "id": "68f97536",
   "metadata": {},
   "outputs": [
    {
     "name": "stdout",
     "output_type": "stream",
     "text": [
      "{'location': 'Pakistan', 'field': 'Python', 'status': 'Married', 'first_name': 'Sadaf', 'last_name': 'Hina'}\n"
     ]
    }
   ],
   "source": [
    "def build_profile(first, last, **user_info):\n",
    "    user_info['first_name'] = first\n",
    "    user_info['last_name'] = last\n",
    "    return user_info\n",
    "\n",
    "user_profile = build_profile('Sadaf','Hina',\n",
    "                             location='Pakistan',\n",
    "                             field='Python',\n",
    "                             status='Married')\n",
    "print(user_profile)"
   ]
  },
  {
   "cell_type": "markdown",
   "id": "32554542",
   "metadata": {},
   "source": [
    "# 8-14. Cars: \n",
    "Write a function that stores information about a car in a dictionary. The function should always receive a manufacturer and a model name. It should then accept an arbitrary number of keyword arguments. Call the function with the required information and two other name-value pairs, such as a\n",
    "color or an optional feature. Your function should work for a call like this one:\n",
    "\n",
    "car = make_car('subaru', 'outback', color='blue', tow_package=True)\n",
    "\n",
    "Print the dictionary that’s returned to make sure all the information was stored correctly."
   ]
  },
  {
   "cell_type": "code",
   "execution_count": 15,
   "id": "cd97f1ee",
   "metadata": {},
   "outputs": [
    {
     "name": "stdout",
     "output_type": "stream",
     "text": [
      "{'color': 'blue', 'tow_package': True, 'manufacture': 'subaru', 'name': 'outback'}\n"
     ]
    }
   ],
   "source": [
    "def make_car(manufacturer,model_name,**more_info):\n",
    "    more_info['manufacture'] = manufacturer\n",
    "    more_info['name'] = model_name\n",
    "    return more_info\n",
    "\n",
    "car = make_car('subaru', 'outback', color='blue', tow_package=True)\n",
    "print(car)"
   ]
  },
  {
   "cell_type": "markdown",
   "id": "14f43ca7",
   "metadata": {},
   "source": [
    "# 8-15. Printing Models: \n",
    "Put the functions for the example printing_models.py in a separate file called printing_functions.py. Write an import statement at the top of printing_models.py, and modify the file to use the imported functions. \n",
    "\n",
    "(in vscode)"
   ]
  },
  {
   "cell_type": "markdown",
   "id": "e234c9cb",
   "metadata": {},
   "source": [
    "# 8-16. Imports: \n",
    "Using a program you wrote that has one function in it, store that function in a separate file. Import the function into your main program file, and call the function using each of these approaches:\n",
    "import module_name\n",
    "from module_name import function_name\n",
    "from module_name import function_name as fn\n",
    "import module_name as mn\n",
    "from module_name import *\n",
    "\n",
    "(in vscode)"
   ]
  },
  {
   "cell_type": "markdown",
   "id": "ff7783e3",
   "metadata": {},
   "source": [
    "# 8-17. Styling Functions: \n",
    "Choose any three programs you wrote for this chapter, and make sure they follow the styling guidelines described in this section.\n",
    "\n",
    "(see 8.1, 8.2,8.12)"
   ]
  }
 ],
 "metadata": {
  "kernelspec": {
   "display_name": "Python 3 (ipykernel)",
   "language": "python",
   "name": "python3"
  },
  "language_info": {
   "codemirror_mode": {
    "name": "ipython",
    "version": 3
   },
   "file_extension": ".py",
   "mimetype": "text/x-python",
   "name": "python",
   "nbconvert_exporter": "python",
   "pygments_lexer": "ipython3",
   "version": "3.9.12"
  }
 },
 "nbformat": 4,
 "nbformat_minor": 5
}
