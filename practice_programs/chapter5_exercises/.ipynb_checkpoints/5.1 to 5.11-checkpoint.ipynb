{
 "cells": [
  {
   "cell_type": "markdown",
   "id": "d8533b7e",
   "metadata": {},
   "source": [
    "# Conditional Tests:\n",
    "Write a series of conditional tests. Print a statement describing each test and your prediction for the results of each test. Your code should look something like this:\n",
    "car = 'subaru'\n",
    "print(\"Is car == 'subaru'? I predict True.\")\n",
    "print(car == 'subaru')\n",
    "print(\"\\nIs car == 'audi'? I predict False.\")\n",
    "print(car == 'audi')\n",
    "• Look closely at your results, and make sure you understand why each line evaluates to True or False.\n",
    "• Create at least ten tests. Have at least five tests evaluate to True and another five tests evaluate to False."
   ]
  },
  {
   "cell_type": "code",
   "execution_count": 5,
   "id": "87081e1e",
   "metadata": {},
   "outputs": [
    {
     "name": "stdout",
     "output_type": "stream",
     "text": [
      "Is car == 'subaru'? I predict True.\n",
      "True\n",
      "\n",
      "Is car == 'audi'? I predict False.\n",
      "False\n",
      "\n",
      "Is 1 == 1 ? I predict True.\n",
      "True\n",
      "\n",
      "Is 1 == 2 ? I predict False.\n",
      "False\n"
     ]
    }
   ],
   "source": [
    "car = 'subaru'\n",
    "1 == 1\n",
    "print(\"Is car == 'subaru'? I predict True.\")\n",
    "print(car == 'subaru')\n",
    "print(\"\\nIs car == 'audi'? I predict False.\")\n",
    "print(car == 'audi')\n",
    "print(\"\\nIs 1 == 1 ? I predict True.\")\n",
    "print(1==1)\n",
    "print(\"\\nIs 1 == 2 ? I predict False.\")\n",
    "print(1==2)\n",
    "\n",
    "#same examples like this"
   ]
  },
  {
   "cell_type": "markdown",
   "id": "40323d31",
   "metadata": {},
   "source": [
    "# 5-2. More Conditional Tests: \n",
    "You don’t have to limit the number of tests you create to ten. If you want to try more comparisons, write more tests and add them to conditional_tests.py. Have at least one True and one False result for each of the following:\n",
    "• Tests for equality and inequality with strings\n",
    "• Tests using the lower() method\n",
    "• Numerical tests involving equality and inequality, greater than and less than, greater than or equal to, and less than or equal to\n",
    "• Tests using the and keyword and the or keyword\n",
    "• Test whether an item is in a list\n",
    "• Test whether an item is not in a list"
   ]
  },
  {
   "cell_type": "code",
   "execution_count": 6,
   "id": "05999c32",
   "metadata": {},
   "outputs": [
    {
     "name": "stdout",
     "output_type": "stream",
     "text": [
      "This is true.\n",
      "True\n",
      "\n",
      "This is False.\n",
      "False\n",
      "\n",
      "This is True\n",
      "True\n",
      "\n",
      "This is False\n",
      "False\n",
      "\n",
      "This is True. 20\n",
      "True\n",
      "\n",
      "This is False bcz a is : 20\n",
      "False\n",
      "\n",
      "True\n"
     ]
    }
   ],
   "source": [
    "#1\n",
    "car = 'subaru'\n",
    "print(\"This is true.\")\n",
    "print(car == 'subaru')\n",
    "print(\"\\nThis is False.\")\n",
    "print(car == 'audi') \n",
    "\n",
    "#2\n",
    "car ='BMW'\n",
    "print (\"\\nThis is True\")\n",
    "print (car == 'BMW')\n",
    "print (\"\\nThis is False\")\n",
    "print(car == 'bmw')\n",
    "\n",
    "#3\n",
    "a = 20\n",
    "print (\"\\nThis is True.\",a)\n",
    "print (a==20)\n",
    "print (\"\\nThis is False bcz a is :\",a)\n",
    "print (a==10)\n"
   ]
  },
  {
   "cell_type": "code",
   "execution_count": 48,
   "id": "1da8725c",
   "metadata": {},
   "outputs": [
    {
     "name": "stdout",
     "output_type": "stream",
     "text": [
      "True. b is greater than a\n",
      "\n",
      "False\n",
      "done\n",
      "\n",
      "True. Bcz both conditions are true.\n",
      "\n",
      "True. bcz one condition is true\n",
      "\n",
      "apple is found\n",
      "\n",
      "mango is not in list \n"
     ]
    }
   ],
   "source": [
    "a = 33\n",
    "b = 200\n",
    "\n",
    "if b > a:\n",
    "  print(\"True. b is greater than a\")\n",
    "if b < a:\n",
    "  print(\"\\nFalse. b is not smaller than a\")\n",
    "if b >= a:\n",
    "  print(\"\\nFalse\")\n",
    "if b <= a:\n",
    "  print(\"\\nFalse\")\n",
    "else:\n",
    "  print(\"done\")\n",
    "\n",
    "# and , Or\n",
    "b = 200\n",
    "a = 30\n",
    "if b == 200 and a ==30:\n",
    " print(\"\\nTrue. Bcz both conditions are true.\")\n",
    "if b == 10 or a ==30:\n",
    " print(\"\\nTrue. bcz one condition is true\")   \n",
    "\n",
    "#\n",
    "list = ['apple','ornage','banana']\n",
    "\n",
    "if 'apple' in list:\n",
    " print(\"\\napple is found\")\n",
    "if \"mango\" != list:\n",
    " print(\"\\nmango is not in list \")"
   ]
  },
  {
   "cell_type": "markdown",
   "id": "4831e2fa",
   "metadata": {},
   "source": [
    "# 5-3. Alien Colors #1:\n",
    "Imagine an alien was just shot down in a game. Create a variable called alien_color and assign it a value of 'green', 'yellow', or 'red'.\n",
    "• Write an if statement to test whether the alien’s color is green. If it is, print a message that the player just earned 5 points.\n",
    "• Write one version of this program that passes the if test and another that fails. (The version that fails will have no output.)"
   ]
  },
  {
   "cell_type": "code",
   "execution_count": 47,
   "id": "5da9bf0b",
   "metadata": {},
   "outputs": [
    {
     "name": "stdout",
     "output_type": "stream",
     "text": [
      "The player just earned 5 points.\n"
     ]
    }
   ],
   "source": [
    "\n",
    "alien_color = 'green'\n",
    "\n",
    "if alien_color == 'green':\n",
    " print(\"The player just earned 5 points.\")\n",
    "\n",
    "if alien_color == 'red':\n",
    " print(\"The player loose the point.\")  #no output"
   ]
  },
  {
   "cell_type": "markdown",
   "id": "7be6325c",
   "metadata": {},
   "source": [
    "# 5-4. Alien Colors #2: \n",
    "Choose a color for an alien as you did in Exercise 5-3, and write an if-else chain.\n",
    "• If the alien’s color is green, print a statement that the player just earned 5 points for shooting the alien.\n",
    "• If the alien’s color isn’t green, print a statement that the player just earned 10 points.\n",
    "• Write one version of this program that runs the if block and another that runs the else block."
   ]
  },
  {
   "cell_type": "code",
   "execution_count": 49,
   "id": "8e89409b",
   "metadata": {},
   "outputs": [
    {
     "name": "stdout",
     "output_type": "stream",
     "text": [
      "The player just earned 5 points for shooting the alien.\n"
     ]
    }
   ],
   "source": [
    "alien_color = 'green'\n",
    "\n",
    "if alien_color == 'green':\n",
    " print(\"The player just earned 5 points for shooting the alien.\")\n",
    "\n",
    "else:\n",
    " print(\"Player just earned 10 points.\")     #no output"
   ]
  },
  {
   "cell_type": "markdown",
   "id": "ce22ea65",
   "metadata": {},
   "source": [
    "# 5-5. Alien Colors #3: \n",
    "Turn your if-else chain from Exercise 5-4 into an if-elifelse chain.\n",
    "• If the alien is green, print a message that the player earned 5 points.\n",
    "• If the alien is yellow, print a message that the player earned 10 points.\n",
    "• If the alien is red, print a message that the player earned 15 points.\n",
    "• Write three versions of this program, making sure each message is printed for the appropriate color alien."
   ]
  },
  {
   "cell_type": "code",
   "execution_count": 51,
   "id": "31321cf5",
   "metadata": {},
   "outputs": [
    {
     "name": "stdout",
     "output_type": "stream",
     "text": [
      "The player just earned 5 points for shooting the alien.\n"
     ]
    }
   ],
   "source": [
    "alien_color = 'green'\n",
    "\n",
    "if alien_color == 'green':\n",
    " print(\"The player just earned 5 points for shooting the alien.\")\n",
    "\n",
    "elif alien_color == 'yellow':\n",
    " print(\"The player earned 10 points.\")   #no output\n",
    "elif alien_color == 'red':\n",
    " print(\"The player earned 15 points.\")   #no output\n",
    "else:\n",
    " print(\"Player just earned 10 points.\")     #no output"
   ]
  },
  {
   "cell_type": "markdown",
   "id": "3ca2c356",
   "metadata": {},
   "source": [
    "# 5-6. Stages of Life: \n",
    "Write an if-elif-else chain that determines a person’s stage of life. Set a value for the variable age, and then:\n",
    "• If the person is less than 2 years old, print a message that the person is a baby.\n",
    "• If the person is at least 2 years old but less than 4, print a message that the person is a toddler.\n",
    "• If the person is at least 4 years old but less than 13, print a message that the person is a kid.\n",
    "• If the person is at least 13 years old but less than 20, print a message that the person is a teenager.\n",
    "• If the person is at least 20 years old but less than 65, print a message that the person is an adult.\n",
    "• If the person is age 65 or older, print a message that the person is an elder."
   ]
  },
  {
   "cell_type": "code",
   "execution_count": 15,
   "id": "4f53b0ad",
   "metadata": {},
   "outputs": [
    {
     "name": "stdout",
     "output_type": "stream",
     "text": [
      "The person is an adult.\n"
     ]
    }
   ],
   "source": [
    "age = 45\n",
    "if age <= 2 :\n",
    "    print (\"The person is a baby.\")\n",
    "elif age <= 4:\n",
    "    print (\"The person is a toddler.\")\n",
    "    \n",
    "elif age <= 13:\n",
    "    print(\"The person is a kid.\")\n",
    "elif age <= 20:\n",
    "    print(\"The person is a teenager.\")\n",
    "elif age <= 65:\n",
    "    print(\"The person is an adult.\")\n",
    "else:\n",
    "    print(\"The person is an Elder.\")\n",
    "    \n",
    "    \n"
   ]
  },
  {
   "cell_type": "markdown",
   "id": "5eeb1de0",
   "metadata": {},
   "source": [
    "# 5-7. Favorite Fruit: \n",
    "Make a list of your favorite fruits, and then write a series of independent if statements that check for certain fruits in your list.\n",
    "• Make a list of your three favorite fruits and call it favorite_fruits.\n",
    "• Write five if statements. Each should check whether a certain kind of fruit is in your list. If the fruit is in your list, the if block should print a statement, such as You really like bananas!"
   ]
  },
  {
   "cell_type": "code",
   "execution_count": 19,
   "id": "7986b8b0",
   "metadata": {},
   "outputs": [
    {
     "name": "stdout",
     "output_type": "stream",
     "text": [
      "i love Mango\n",
      "i Really like orange\n",
      "I Really like grapes.\n",
      "These are my favourite fruits\n"
     ]
    }
   ],
   "source": [
    "\n",
    "favourite_fruits = [\"mango\",\"orange\",\"grapes\"]\n",
    "\n",
    "if 'mango' in favourite_fruits:\n",
    "    print(\"i love Mango\")\n",
    "if 'apple' in favourite_fruits:\n",
    "    print(\"I Reall like apple\")\n",
    "if 'orange' in favourite_fruits:\n",
    "    print(\"i Really like orange\")\n",
    "if 'banana' in favourite_fruits:\n",
    "    print(\"I Really like bananas\")\n",
    "if 'grapes'in favourite_fruits:\n",
    "    print(\"I Really like grapes.\")\n",
    "\n",
    "print(\"These are my favourite fruits\")"
   ]
  },
  {
   "cell_type": "markdown",
   "id": "732d99e4",
   "metadata": {},
   "source": [
    "# 5-8. Hello Admin: \n",
    "Make a list of five or more usernames, including the name 'admin'. Imagine you are writing code that will print a greeting to each user after they log in to a website. Loop through the list, and print a greeting to each user:\n",
    "• If the username is 'admin', print a special greeting, such as Hello admin, would you like to see a status report?\n",
    "• Otherwise, print a generic greeting, such as Hello Jaden, thank you for logging in again."
   ]
  },
  {
   "cell_type": "code",
   "execution_count": 26,
   "id": "513a9f3d",
   "metadata": {},
   "outputs": [
    {
     "name": "stdout",
     "output_type": "stream",
     "text": [
      "\n",
      "Welcome user: Sadaf thank you for logging in again.\n",
      "\n",
      "Welcome user: Sidra thank you for logging in again.\n",
      "\n",
      "Hello admin, would you like to see a status report?\n",
      "\n",
      "Welcome user: Sadia thank you for logging in again.\n",
      "\n",
      "Welcome user: Rabia thank you for logging in again.\n",
      "\n",
      "Welcome user: Hina thank you for logging in again.\n"
     ]
    }
   ],
   "source": [
    "user_name = ['Sadaf','Sidra','Admin','Sadia','Rabia','Hina']\n",
    "for users in user_name:\n",
    "    if 'Admin' in users:\n",
    "        print(\"\\nHello admin, would you like to see a status report?\")\n",
    "    else:\n",
    "        print(f\"\\nWelcome user: {users} thank you for logging in again.\")\n",
    "    "
   ]
  },
  {
   "cell_type": "code",
   "execution_count": 29,
   "id": "585d4aba",
   "metadata": {},
   "outputs": [
    {
     "name": "stdout",
     "output_type": "stream",
     "text": [
      "We need to find some users!\n"
     ]
    }
   ],
   "source": [
    "user_name = []\n",
    "\n",
    "if not user_name:\n",
    "        print(\"We need to find some users!\")\n"
   ]
  },
  {
   "cell_type": "markdown",
   "id": "e0577309",
   "metadata": {},
   "source": [
    "# 5-10. Checking Usernames: \n",
    "Do the following to create a program that simulates how websites ensure that everyone has a unique username.\n",
    "• Make a list of five or more usernames called current_users.\n",
    "• Make another list of five usernames called new_users. Make sure one or two of the new usernames are also in the current_users list.\n",
    "• Loop through the new_users list to see if each new username has already been used. If it has, print a message that the person will need to enter a new username. If a username has not been used, print a message saying that the username is available.\n",
    "• Make sure your comparison is case insensitive. If 'John' has been used, 'JOHN' should not be accepted. (To do this, you’ll need to make a copy of current_users containing the lowercase versions of all existing users.)"
   ]
  },
  {
   "cell_type": "code",
   "execution_count": 40,
   "id": "921158b0",
   "metadata": {},
   "outputs": [
    {
     "name": "stdout",
     "output_type": "stream",
     "text": [
      "Great, Sadaf is still available.\n",
      "Sorry annie, that name is taken.\n",
      "Great, Sadia is still available.\n",
      "Great, Rabia is still available.\n",
      "Sorry caroline, that name is taken.\n"
     ]
    }
   ],
   "source": [
    "current_users = ['Joe','David','Annie','Jenny','Caroline']\n",
    "current_users_lower = [user.lower() for user in current_users]\n",
    "new_users = ['Sadaf','annie','Sadia','Rabia','caroline']\n",
    "\n",
    "for new_user in new_users:\n",
    "    if new_user.lower() in current_users_lower:\n",
    "        print(\"Sorry \" + new_user + \", that name is taken.\")\n",
    "    else:\n",
    "        print(\"Great, \" + new_user + \" is still available.\")\n",
    "        \n"
   ]
  },
  {
   "cell_type": "markdown",
   "id": "bdc51a5c",
   "metadata": {},
   "source": [
    "# 5-11. Ordinal Numbers: \n",
    "Ordinal numbers indicate their position in a list, such as 1st or 2nd. Most ordinal numbers end in th, except 1, 2, and 3.\n",
    "• Store the numbers 1 through 9 in a list.\n",
    "• Loop through the list.\n",
    "• Use an if-elif-else chain inside the loop to print the proper ordinal ending for each number. Your output should read \"1st 2nd 3rd 4th 5th 6th 7th 8th 9th\", and each result should be on a separate line."
   ]
  },
  {
   "cell_type": "code",
   "execution_count": 39,
   "id": "589177ac",
   "metadata": {},
   "outputs": [
    {
     "name": "stdout",
     "output_type": "stream",
     "text": [
      "1st\n",
      "2nd\n",
      "3rd\n",
      "4th\n",
      "5th\n",
      "6th\n",
      "7th\n",
      "8th\n",
      "9th\n"
     ]
    }
   ],
   "source": [
    "ordinal_num = 1,2,3,4,5,6,7,8,9\n",
    "for num in ordinal_num:\n",
    "    if num == 1:\n",
    "        print(str(num)+\"st\")\n",
    "    elif num == 2:\n",
    "        print(str(num)+\"nd\")\n",
    "    elif num == 3:\n",
    "        print(str(num)+\"rd\")\n",
    "    else:\n",
    "        print (str(num)+\"th\")"
   ]
  },
  {
   "cell_type": "code",
   "execution_count": null,
   "id": "7bcb59a7",
   "metadata": {},
   "outputs": [],
   "source": []
  },
  {
   "cell_type": "code",
   "execution_count": null,
   "id": "f9b5e741",
   "metadata": {},
   "outputs": [],
   "source": []
  }
 ],
 "metadata": {
  "kernelspec": {
   "display_name": "Python 3 (ipykernel)",
   "language": "python",
   "name": "python3"
  },
  "language_info": {
   "codemirror_mode": {
    "name": "ipython",
    "version": 3
   },
   "file_extension": ".py",
   "mimetype": "text/x-python",
   "name": "python",
   "nbconvert_exporter": "python",
   "pygments_lexer": "ipython3",
   "version": "3.9.12"
  }
 },
 "nbformat": 4,
 "nbformat_minor": 5
}
