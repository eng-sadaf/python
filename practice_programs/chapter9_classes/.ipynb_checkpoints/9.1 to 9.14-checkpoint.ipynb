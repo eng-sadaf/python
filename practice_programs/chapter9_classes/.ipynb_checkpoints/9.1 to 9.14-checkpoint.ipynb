{
 "cells": [
  {
   "cell_type": "markdown",
   "id": "06e1ed2b",
   "metadata": {},
   "source": [
    "## 9-1. Restaurant: \n",
    "Make a class called Restaurant. The __init__() method for Restaurant should store two attributes: a restaurant_name and a cuisine_type. Make a method called describe_restaurant() that prints these two pieces of information, and a method called open_restaurant() that prints a message indicating\n",
    "that the restaurant is open.\n",
    "Make an instance called restaurant from your class. Print the two attributes individually, and then call both methods."
   ]
  },
  {
   "cell_type": "code",
   "execution_count": 10,
   "id": "4d508616",
   "metadata": {},
   "outputs": [
    {
     "name": "stdout",
     "output_type": "stream",
     "text": [
      "My Restaurant name is Food Corner .\n",
      "Punjabi is our cuisine.\n",
      "The Food Corner is open now.\n"
     ]
    }
   ],
   "source": [
    "class Restaurant:\n",
    "    def __init__(self, restaurant_name, cuisine_type):\n",
    "        self.restaurant_name = restaurant_name\n",
    "        self.cuisine_type = cuisine_type\n",
    "    \n",
    "    def describe_restaurant(self):\n",
    "        print(f\"My Restaurant name is {self.restaurant_name} .\")\n",
    "        print(f\"{self.cuisine_type} is our cuisine.\")\n",
    "    \n",
    "    def open_restaurant(self):\n",
    "        print(f\"The {self.restaurant_name} is open now.\")\n",
    "        \n",
    "my_restaurant = Restaurant('Food Corner','Punjabi')\n",
    "my_restaurant.describe_restaurant()\n",
    "my_restaurant.open_restaurant()\n",
    "        "
   ]
  },
  {
   "cell_type": "markdown",
   "id": "a383c921",
   "metadata": {},
   "source": [
    "# 9-2. Three Restaurants: \n",
    "Start with your class from Exercise 9-1. Create three different instances from the class, and call describe_restaurant() for each instance."
   ]
  },
  {
   "cell_type": "code",
   "execution_count": 7,
   "id": "d2670b8d",
   "metadata": {},
   "outputs": [
    {
     "name": "stdout",
     "output_type": "stream",
     "text": [
      "My Restaurant name is Food Corner .\n",
      "Punjabi is our cuisine.\n",
      "My Restaurant name is China Castle .\n",
      "Chineese is our cuisine.\n",
      "My Restaurant name is Côte Rôtie .\n",
      "French is our cuisine.\n"
     ]
    }
   ],
   "source": [
    "my_restaurant1 = Restaurant('Food Corner','Punjabi')\n",
    "my_restaurant2 = Restaurant('China Castle','Chineese')\n",
    "my_restaurant3 = Restaurant('Côte Rôtie','French')\n",
    "\n",
    "my_restaurant1.describe_restaurant()\n",
    "my_restaurant2.describe_restaurant()\n",
    "my_restaurant3.describe_restaurant()"
   ]
  },
  {
   "cell_type": "markdown",
   "id": "bfc56351",
   "metadata": {},
   "source": [
    "# 9-3. Users: \n",
    "Make a class called User. Create two attributes called first_name and last_name, and then create several other attributes that are typically stored in a user profile. Make a method called describe_user() that prints a summary of the user’s information. Make another method called greet_user() that prints a personalized greeting to the user.\n",
    "Create several instances representing different users, and call both methods for each user."
   ]
  },
  {
   "cell_type": "code",
   "execution_count": 18,
   "id": "043e2279",
   "metadata": {},
   "outputs": [
    {
     "name": "stdout",
     "output_type": "stream",
     "text": [
      "Name : Saba Aslam\n",
      "Gender : Female\n",
      "Age : 22\n",
      "Education : Matric\n",
      "Welcome Saba Aslam. We are glad to see you here... \n",
      "\n",
      "Name : Rabia Ashraf\n",
      "Gender : Female\n",
      "Age : 32\n",
      "Education : BS\n",
      "Welcome Rabia Ashraf. We are glad to see you here... \n",
      "\n",
      "Name : Iqra Akram\n",
      "Gender : Female\n",
      "Age : 28\n",
      "Education : Intermediate\n",
      "Welcome Iqra Akram. We are glad to see you here... \n",
      "\n"
     ]
    }
   ],
   "source": [
    "class User:\n",
    "    def __init__(self, first_name, last_name, gender, age, education):\n",
    "        self.first_name = first_name\n",
    "        self.last_name = last_name\n",
    "        self.gender = gender\n",
    "        self.age = age\n",
    "        self.education = education\n",
    "    \n",
    "    def describe_user(self):\n",
    "        full_name = f\"{self.first_name} {self.last_name}\"\n",
    "        print(f\"Name : {full_name.title()}\")\n",
    "        print(f\"Gender : {self.gender}\")\n",
    "        print(f\"Age : {self.age}\")\n",
    "        print(f\"Education : {self.education}\")\n",
    "        \n",
    "    def greet_user(self):\n",
    "        full_name = f\"{self.first_name} {self.last_name}\"\n",
    "        print(f\"Welcome {full_name.title()}. We are glad to see you here... \\n\")\n",
    "        \n",
    "\n",
    "user1 = User('Saba','Aslam','Female',22,'Matric')\n",
    "user1.describe_user()\n",
    "user1.greet_user()\n",
    "\n",
    "user2 = User('Rabia','Ashraf','Female',32,'BS')\n",
    "user2.describe_user()\n",
    "user2.greet_user()\n",
    "\n",
    "user3 = User('Iqra','Akram','Female',28,'Intermediate')\n",
    "user3.describe_user()\n",
    "user3.greet_user()\n",
    "        "
   ]
  },
  {
   "cell_type": "markdown",
   "id": "b372d90b",
   "metadata": {},
   "source": [
    "# 9-4. Number Served: \n",
    "Start with your program from Exercise 9-1 (page 162). Add an attribute called number_served with a default value of 0. Create an instance called restaurant from this class. Print the number of customers the restaurant has served, and then change this value and print it again.\n",
    "Add a method called set_number_served() that lets you set the number of customers that have been served. Call this method with a new number and print the value again.\n",
    "Add a method called increment_number_served() that lets you increment the number of customers who’ve been served. Call this method with any number you like that could represent how many customers were served in, say, a day of business."
   ]
  },
  {
   "cell_type": "code",
   "execution_count": 14,
   "id": "98139176",
   "metadata": {},
   "outputs": [
    {
     "name": "stdout",
     "output_type": "stream",
     "text": [
      "My Restaurant name is Food Corner .\n",
      "Punjabi is our cuisine.\n",
      "The Food Corner is open now.\n",
      "We have served 0 people.\n",
      "We have served 50 people.\n",
      "We have served 70 people.\n",
      "Today is the day of Business...\n"
     ]
    }
   ],
   "source": [
    "class Restaurant:\n",
    "    def __init__(self, restaurant_name, cuisine_type):\n",
    "        self.restaurant_name = restaurant_name\n",
    "        self.cuisine_type = cuisine_type\n",
    "        self.number_served = 0\n",
    "    \n",
    "    def describe_restaurant(self):\n",
    "        print(f\"My Restaurant name is {self.restaurant_name} .\")\n",
    "        print(f\"{self.cuisine_type} is our cuisine.\")\n",
    "    \n",
    "    def open_restaurant(self):\n",
    "        print(f\"The {self.restaurant_name} is open now.\")\n",
    "        \n",
    "    def set_number_served(self):\n",
    "        print(f\"We have served {self.number_served} people.\")\n",
    "    \n",
    "    def increment_number_served(self,add_people):\n",
    "        self.number_served += add_people\n",
    "        \n",
    "    \n",
    "my_restaurant = Restaurant('Food Corner','Punjabi')\n",
    "my_restaurant.describe_restaurant()\n",
    "my_restaurant.open_restaurant()\n",
    "my_restaurant.set_number_served()\n",
    "\n",
    "my_restaurant.number_served = 50\n",
    "my_restaurant.set_number_served()\n",
    "\n",
    "my_restaurant.increment_number_served(20)\n",
    "my_restaurant.set_number_served()\n",
    "print(\"Today is the day of Business...\")"
   ]
  },
  {
   "cell_type": "markdown",
   "id": "a418a8aa",
   "metadata": {},
   "source": [
    "# 9-5. Login Attempts: \n",
    "Add an attribute called login_attempts to your User class from Exercise 9-3 (page 162). Write a method called increment_login _attempts() that increments the value of login_attempts by 1. Write another\n",
    "method called reset_login_attempts() that resets the value of login_attempts to 0.\n",
    "\n",
    "\n",
    "Make an instance of the User class and call increment_login_attempts() several times. Print the value of login_attempts to make sure it was incremented properly, and then call reset_login_attempts(). Print login_attempts again to make sure it was reset to 0."
   ]
  },
  {
   "cell_type": "code",
   "execution_count": 26,
   "id": "94095484",
   "metadata": {},
   "outputs": [
    {
     "name": "stdout",
     "output_type": "stream",
     "text": [
      "Name : Saba Aslam\n",
      "Gender : Female\n",
      "Age : 22\n",
      "Education : Matric\n",
      "Welcome Saba Aslam. We are glad to see you here... \n",
      "\n",
      "Num of attempts to login:\n",
      "1\n",
      "Num of attempts to login:\n",
      "2\n",
      "Num of attempts to login:\n",
      "3\n",
      "Num of attempts to login:\n",
      "4\n",
      "Num of attempts to login:\n",
      "5\n",
      "Num of attempts to login:\n",
      "1\n"
     ]
    }
   ],
   "source": [
    "class User:\n",
    "    def __init__(self, first_name, last_name, gender, age, education):\n",
    "        self.first_name = first_name\n",
    "        self.last_name = last_name\n",
    "        self.gender = gender\n",
    "        self.age = age\n",
    "        self.education = education\n",
    "        self.login_attempts = 0\n",
    "    \n",
    "    def describe_user(self):\n",
    "        full_name = f\"{self.first_name} {self.last_name}\"\n",
    "        print(f\"Name : {full_name.title()}\")\n",
    "        print(f\"Gender : {self.gender}\")\n",
    "        print(f\"Age : {self.age}\")\n",
    "        print(f\"Education : {self.education}\")\n",
    "        \n",
    "    def greet_user(self):\n",
    "        full_name = f\"{self.first_name} {self.last_name}\"\n",
    "        print(f\"Welcome {full_name.title()}. We are glad to see you here... \\n\")\n",
    "        \n",
    "    def increment_login_attempts(self):\n",
    "        self.login_attempts += 1\n",
    "        print(f\"Num of attempts to login:\\n{self.login_attempts}\")\n",
    "        \n",
    "    def reset_login_attempts(self):\n",
    "        self.login_attempts = 0\n",
    "        \n",
    "\n",
    "user1 = User('Saba','Aslam','Female',22,'Matric')\n",
    "user1.describe_user()\n",
    "user1.greet_user()\n",
    "\n",
    "user1.increment_login_attempts()\n",
    "user1.increment_login_attempts()\n",
    "user1.increment_login_attempts()\n",
    "user1.increment_login_attempts()\n",
    "user1.increment_login_attempts()\n",
    "\n",
    "user1.reset_login_attempts()\n",
    "# this line is just for testing the value\n",
    "user1.increment_login_attempts()"
   ]
  },
  {
   "cell_type": "markdown",
   "id": "6f7d41fc",
   "metadata": {},
   "source": [
    "# 9-6. Ice Cream Stand: \n",
    "An ice cream stand is a specific kind of restaurant. Write a class called IceCreamStand that inherits from the Restaurant class you wrote in Exercise 9-1 (page 162) or Exercise 9-4 (page 167). Either version of the class will work; just pick the one you like better. Add an attribute called flavors that stores a list of ice cream flavors. Write a method that displays these flavors. Create an instance of IceCreamStand, and call this method."
   ]
  },
  {
   "cell_type": "code",
   "execution_count": 2,
   "id": "b616eb4a",
   "metadata": {},
   "outputs": [
    {
     "name": "stdout",
     "output_type": "stream",
     "text": [
      "My Restaurant name is Alpine Gelato .\n",
      "ice_cream is our cuisine.\n",
      "\n",
      "We have the following flavors available:\n",
      "- Vanilla\n",
      "- Chocolate\n",
      "- Strawberry\n"
     ]
    }
   ],
   "source": [
    "class Restaurant:\n",
    "    def __init__(self, restaurant_name, cuisine_type):\n",
    "        self.restaurant_name = restaurant_name\n",
    "        self.cuisine_type = cuisine_type\n",
    "    \n",
    "    def describe_restaurant(self):\n",
    "        print(f\"My Restaurant name is {self.restaurant_name} .\")\n",
    "        print(f\"{self.cuisine_type} is our cuisine.\")\n",
    "    \n",
    "    def open_restaurant(self):\n",
    "        print(f\"The {self.restaurant_name} is open now.\")\n",
    "\n",
    "\n",
    "class IceCreamStand(Restaurant):\n",
    "    \"\"\"Represent an ice cream stand.\"\"\"\n",
    "\n",
    "    def __init__(self, restaurant_name, cuisine_type='ice_cream'):\n",
    "        \"\"\"Initialize an ice cream stand.\"\"\"\n",
    "        super().__init__(restaurant_name, cuisine_type)\n",
    "        self.flavors = []\n",
    "\n",
    "    def show_flavors(self):\n",
    "        \"\"\"Display the flavors available.\"\"\"\n",
    "        print(\"\\nWe have the following flavors available:\")\n",
    "        for flavor in self.flavors:\n",
    "            print(\"- \" + flavor.title())\n",
    "\n",
    "\n",
    "my_restaurant = IceCreamStand('Alpine Gelato')\n",
    "my_restaurant.flavors = ['vanilla', 'chocolate', 'strawberry']\n",
    "\n",
    "my_restaurant.describe_restaurant()\n",
    "my_restaurant.show_flavors()"
   ]
  },
  {
   "cell_type": "markdown",
   "id": "8aa53fd7",
   "metadata": {},
   "source": [
    "# 9-7. Admin: \n",
    "An administrator is a special kind of user. Write a class called Admin that inherits from the User class you wrote in Exercise 9-3 (page 162) or Exercise 9-5 (page 167). Add an attribute, privileges, that stores a list of strings like \"can add post\", \"can delete post\", \"can ban user\", and so on.\n",
    "Write a method called show_privileges() that lists the administrator’s set of privileges. Create an instance of Admin, and call your method."
   ]
  },
  {
   "cell_type": "code",
   "execution_count": 4,
   "id": "00f26e86",
   "metadata": {},
   "outputs": [
    {
     "name": "stdout",
     "output_type": "stream",
     "text": [
      "Name : Sadaf Hina\n",
      "Email : abc@gmail.com\n",
      "City : Karachi\n",
      "Admin privileges are : \n",
      "\t- Can Add Post\n",
      "\t- Can Delete Post\n",
      "\t- Can Add/Delete User\n"
     ]
    }
   ],
   "source": [
    "class User:\n",
    "    def __init__(self, first_name, last_name, email, city):\n",
    "        self.first_name = first_name\n",
    "        self.last_name = last_name\n",
    "        self.email = email\n",
    "        self.city = city\n",
    "    \n",
    "    def describe_user(self):\n",
    "        full_name = f\"{self.first_name} {self.last_name}\"\n",
    "        print(f\"Name : {full_name.title()}\")\n",
    "        print(f\"Email : {self.email}\")\n",
    "        print(f\"City : {self.city}\")\n",
    "        \n",
    "\n",
    "class Admin(User):\n",
    "        def __init__(self, first_name, last_name, email, city):\n",
    "            super().__init__(first_name, last_name, email, city)\n",
    "            self.privileges = []\n",
    "            \n",
    "        def show_privileges(self):\n",
    "            print(\"Admin privileges are : \")\n",
    "            for privilege in self.privileges:\n",
    "                print(f\"\\t- {privilege.title()}\")\n",
    "            \n",
    "\n",
    "admin_rights = Admin('Sadaf','Hina', 'abc@gmail.com','Karachi')\n",
    "admin_rights.describe_user()\n",
    "admin_rights.privileges = ['can add post','can delete post','can add/delete user']\n",
    "admin_rights.show_privileges()\n",
    "\n",
    "            \n",
    "            "
   ]
  },
  {
   "cell_type": "markdown",
   "id": "ba9590d2",
   "metadata": {},
   "source": [
    "# 9-8. Privileges: \n",
    "Write a separate Privileges class. The class should have one attribute, privileges, that stores a list of strings as described in Exercise 9-7. Move the show_privileges() method to this class. Make a Privileges instance as an attribute in the Admin class. Create a new instance of Admin and use your\n",
    "method to show its privileges."
   ]
  },
  {
   "cell_type": "code",
   "execution_count": 2,
   "id": "4c1a8a70",
   "metadata": {},
   "outputs": [
    {
     "name": "stdout",
     "output_type": "stream",
     "text": [
      "Name : Sadaf Hina\n",
      "Email : abc@gmail.com\n",
      "City : Karachi\n",
      "Admin privileges are : \n",
      "\t- Can Change Password\n",
      "\t- Can Hide Files\n",
      "\t- Can Add/Delete User\n"
     ]
    }
   ],
   "source": [
    "class User:\n",
    "    def __init__(self, first_name, last_name, email, city):\n",
    "        self.first_name = first_name\n",
    "        self.last_name = last_name\n",
    "        self.email = email\n",
    "        self.city = city\n",
    "    \n",
    "    def describe_user(self):\n",
    "        full_name = f\"{self.first_name} {self.last_name}\"\n",
    "        print(f\"Name : {full_name.title()}\")\n",
    "        print(f\"Email : {self.email}\")\n",
    "        print(f\"City : {self.city}\")\n",
    "        \n",
    "\n",
    "class Admin(User):\n",
    "        def __init__(self, first_name, last_name, email, city):\n",
    "            super().__init__(first_name, last_name, email, city)\n",
    "#             self.privileges = []\n",
    "            \n",
    "            self.privileges = Privileges()\n",
    "       \n",
    "            \n",
    "class Privileges:\n",
    "    \n",
    "    def __init__(self):\n",
    "        self.privileges = []  \n",
    "        \n",
    "    def show_privileges(self):\n",
    "            print(\"Admin privileges are : \")\n",
    "            for privilege in self.privileges:\n",
    "                print(f\"\\t- {privilege.title()}\")    \n",
    "\n",
    "                \n",
    "admin_rights = Admin('Sadaf','Hina', 'abc@gmail.com','Karachi')\n",
    "admin_rights.describe_user()\n",
    "admin_rights.privileges.privileges = ['can change password','can hide files','can add/delete user']\n",
    "admin_rights.privileges.show_privileges()\n",
    "\n",
    "                "
   ]
  },
  {
   "cell_type": "markdown",
   "id": "a8be7179",
   "metadata": {},
   "source": [
    "# 9-9. Battery Upgrade: \n",
    "Use the final version of electric_car.py from this section. Add a method to the Battery class called upgrade_battery(). This method should check the battery size and set the capacity to 100 if it isn’t already. Make an electric car with a default battery size, call get_range() once, and then call get_range() a second time after upgrading the battery. You should see an increase in the car’s range."
   ]
  },
  {
   "cell_type": "code",
   "execution_count": 18,
   "id": "d87c5093",
   "metadata": {},
   "outputs": [
    {
     "name": "stdout",
     "output_type": "stream",
     "text": [
      "2019 Tesla Model S\n",
      "\n",
      "Car with default battery.\n",
      "This car has a 75-kWh battery.\n",
      "This car can go about 260 miles on a full charge.\n",
      "\n",
      "Upgrading Battery...\n",
      "This car has a 100-kWh battery.\n",
      "This car can go about 315 miles on a full charge.\n",
      "\n",
      "Upgrading second time.\n",
      "Battery is already upgraded to full.\n"
     ]
    }
   ],
   "source": [
    "class Car:\n",
    "    def __init__(self, manufacturer, model, year):\n",
    "        self.manufacturer = manufacturer\n",
    "        self.model = model\n",
    "        self.year = year\n",
    "        self.odometer_reading = 0\n",
    "    \n",
    "    def get_descriptive_name(self):\n",
    "        long_name = f\"{self.year} {self.manufacturer} {self.model}\"\n",
    "        return long_name.title()\n",
    "    \n",
    "    def read_odometer(self):\n",
    "        print(f\"This car has {self.odometer_reading} miles on it.\")\n",
    "\n",
    "    def update_odometer(self, mileage):\n",
    "        if mileage >= self.odometer_reading:\n",
    "            self.odometer_reading = mileage\n",
    "        else:\n",
    "            print(\"You can't roll back an odometer!\")\n",
    "\n",
    "    def increment_odometer(self, miles):\n",
    "        self.odometer_reading += miles\n",
    "\n",
    "class Battery:\n",
    "    def __init__(self, battery_size=75):\n",
    "        self.battery_size = battery_size\n",
    "    def describe_battery(self):\n",
    "        print(f\"This car has a {self.battery_size}-kWh battery.\")\n",
    "        \n",
    "    def get_range(self):\n",
    "        if self.battery_size == 75:\n",
    "            range = 260\n",
    "        elif self.battery_size == 100:\n",
    "            range = 315\n",
    "            \n",
    "        print(f\"This car can go about {range} miles on a full charge.\") \n",
    "        \n",
    "    def upgrade_battery(self):\n",
    "        if self.battery_size == 75:\n",
    "            self.battery_size = 100\n",
    "            print(\"\\nUpgrading Battery...\")\n",
    "        else:\n",
    "            print(\"Battery is already upgraded to full.\")\n",
    "        \n",
    "class ElectricCar(Car,Battery):\n",
    "    def __init__(self, make, model, year):\n",
    "        super().__init__(make, model, year)\n",
    "        self.battery_size = 75\n",
    "        \n",
    "    def describe_battery(self):\n",
    "        print(f\"This car has a {self.battery_size}-kWh battery.\")\n",
    "\n",
    "\n",
    "my_tesla = ElectricCar('tesla', 'model s', 2019)\n",
    "print(my_tesla.get_descriptive_name())\n",
    "print(\"\\nCar with default battery.\")\n",
    "my_tesla.describe_battery()\n",
    "my_tesla.get_range()\n",
    "my_tesla.upgrade_battery()\n",
    "my_tesla.describe_battery()\n",
    "my_tesla.get_range()\n",
    "print(\"\\nUpgrading second time.\")\n",
    "my_tesla.upgrade_battery()"
   ]
  },
  {
   "cell_type": "markdown",
   "id": "8d1be787",
   "metadata": {},
   "source": [
    "# 9-10. Imported Restaurant: \n",
    "Using your latest Restaurant class, store it in a module. Make a separate file that imports Restaurant. Make a Restaurant instance, and call one of Restaurant’s methods to show that the import statement is working properly.\n",
    "(vs code)\n"
   ]
  },
  {
   "cell_type": "markdown",
   "id": "b3858d72",
   "metadata": {},
   "source": [
    "# 9-11. Imported Admin: \n",
    "Start with your work from Exercise 9-8 (page 173). Store the classes User, Privileges, and Admin in one module. Create a separate file, make an Admin instance, and call show_privileges() to show that\n",
    "everything is working correctly.\n",
    "\n",
    "(vs code)"
   ]
  },
  {
   "cell_type": "markdown",
   "id": "cb76cf05",
   "metadata": {},
   "source": [
    "# 9-12. Multiple Modules:\n",
    "Store the User class in one module, and store the Privileges and Admin classes in a separate module. In a separate file, create an Admin instance and call show_privileges() to show that everything is still working correctly.\n",
    "\n",
    "(vscode)"
   ]
  },
  {
   "cell_type": "markdown",
   "id": "386a47b5",
   "metadata": {},
   "source": [
    "# 9-13. Dice: \n",
    "Make a class Die with one attribute called sides, which has a default value of 6. Write a method called roll_die() that prints a random number between 1 and the number of sides the die has. Make a 6-sided die and roll it 10 times.\n",
    "Make a 10-sided die and a 20-sided die. Roll each die 10 times."
   ]
  },
  {
   "cell_type": "code",
   "execution_count": 46,
   "id": "28aa5f01",
   "metadata": {},
   "outputs": [
    {
     "name": "stdout",
     "output_type": "stream",
     "text": [
      "Printing 10 rolls of 6 sided die...\n",
      "[4, 3, 6, 2, 4, 6, 5, 3, 1, 3]\n",
      "\n",
      "Printing 10 rolls of 10 sided die...\n",
      "[7, 1, 8, 5, 10, 6, 4, 5, 9, 9]\n",
      "\n",
      "Printing 10 rolls of 20 sided die...\n",
      "[13, 13, 12, 19, 6, 12, 1, 3, 19, 18]\n"
     ]
    }
   ],
   "source": [
    "import random\n",
    "from random import randint\n",
    "\n",
    "class Die:\n",
    "    def __init__(self, sides=6):\n",
    "        self.sides = sides\n",
    "        \n",
    "    def roll_die(self):\n",
    "        return randint(1,self.sides)\n",
    "    \n",
    "\n",
    "d_r6 = Die()\n",
    "results =  []\n",
    "for num in range(10):\n",
    "    result = d_r6.roll_die()\n",
    "    results.append(result)\n",
    "print(\"Printing 10 rolls of 6 sided die...\")\n",
    "print(results)\n",
    "\n",
    "\n",
    "d_r10 = Die(10)\n",
    "results = []\n",
    "for num in range(10):\n",
    "    result =d_r10.roll_die()\n",
    "    results.append(result)\n",
    "print(\"\\nPrinting 10 rolls of 10 sided die...\")\n",
    "print(results)    \n",
    "\n",
    "\n",
    "d_r20 = Die(20)\n",
    "results = []\n",
    "for num in range(10):\n",
    "    result =d_r20.roll_die()\n",
    "    results.append(result)\n",
    "print(\"\\nPrinting 10 rolls of 20 sided die...\")\n",
    "print(results)    \n"
   ]
  },
  {
   "cell_type": "markdown",
   "id": "a75bb260",
   "metadata": {},
   "source": [
    "# 9-14. Lottery: \n",
    "Make a list or tuple containing a series of 10 numbers and five letters. Randomly select four numbers or letters from the list and print a message saying that any ticket matching these four numbers or letters wins a prize."
   ]
  },
  {
   "cell_type": "code",
   "execution_count": 50,
   "id": "281819e7",
   "metadata": {},
   "outputs": [
    {
     "name": "stdout",
     "output_type": "stream",
     "text": [
      "Let's see what the winning ticket is...\n",
      "  We pulled a 7!\n",
      "  We pulled a 3!\n",
      "  We pulled a 1!\n",
      "  We pulled a a!\n"
     ]
    }
   ],
   "source": [
    "from random import choice\n",
    "\n",
    "possibilities = [1, 2, 3, 4, 5, 6, 7, 8, 9, 10, 'a', 'b', 'c', 'd', 'e']\n",
    "\n",
    "winning_ticket = []\n",
    "print(\"Let's see what the winning ticket is...\")\n",
    "\n",
    "# We don't want to repeat winning numbers or letters, so we'll use a\n",
    "#   while loop.\n",
    "while len(winning_ticket) < 4:\n",
    "    pulled_item = choice(possibilities)\n",
    "\n",
    "    # Only add the pulled item to the winning ticket if it hasn't\n",
    "    #   already been pulled.\n",
    "    if pulled_item not in winning_ticket:\n",
    "        print(f\"  We pulled a {pulled_item}!\")\n",
    "        winning_ticket.append(pulled_item)"
   ]
  },
  {
   "cell_type": "markdown",
   "id": "dd67c912",
   "metadata": {},
   "source": [
    "# 9-15. Lottery Analysis: \n",
    "You can use a loop to see how hard it might be to win the kind of lottery you just modeled. Make a list or tuple called my_ticket. Write a loop that keeps pulling numbers until your ticket wins. Print a message reporting how many times the loop had to run to give you a winning ticket."
   ]
  },
  {
   "cell_type": "code",
   "execution_count": 59,
   "id": "fa05c514",
   "metadata": {},
   "outputs": [
    {
     "name": "stdout",
     "output_type": "stream",
     "text": [
      "c\n",
      "[2]\n"
     ]
    }
   ],
   "source": [
    "my_token = choice(possibilities)\n",
    "print(my_token)\n",
    "\n",
    "my_ticket = []\n",
    "while my_token in possibilities:\n",
    "    number = choice(possibilities)\n",
    "    my_ticket.append(number)\n",
    "    \n",
    "    \n",
    "print(my_ticket)    "
   ]
  },
  {
   "cell_type": "markdown",
   "id": "7a51aa8b",
   "metadata": {},
   "source": [
    "# 9-16. Python Module of the Week: \n",
    "One excellent resource for exploring the Python standard library is a site called Python Module of the Week. Go to https://pymotw.com/ and look at the table of contents. Find a module that\n",
    "looks interesting to you and read about it, perhaps starting with the random module."
   ]
  },
  {
   "cell_type": "code",
   "execution_count": 1,
   "id": "6a1b4a01",
   "metadata": {},
   "outputs": [
    {
     "name": "stdout",
     "output_type": "stream",
     "text": [
      "2022-10-02\n",
      "ctime  : Sun Oct  2 00:00:00 2022\n",
      "tuple  : tm_year  = 2022\n",
      "         tm_mon   = 10\n",
      "         tm_mday  = 2\n",
      "         tm_hour  = 0\n",
      "         tm_min   = 0\n",
      "         tm_sec   = 0\n",
      "         tm_wday  = 6\n",
      "         tm_yday  = 275\n",
      "         tm_isdst = -1\n",
      "ordinal: 738430\n",
      "Year   : 2022\n",
      "Mon    : 10\n",
      "Day    : 2\n"
     ]
    }
   ],
   "source": [
    "import datetime\n",
    "\n",
    "today = datetime.date.today()\n",
    "print(today)\n",
    "print('ctime  :', today.ctime())\n",
    "tt = today.timetuple()\n",
    "print('tuple  : tm_year  =', tt.tm_year)\n",
    "print('         tm_mon   =', tt.tm_mon)\n",
    "print('         tm_mday  =', tt.tm_mday)\n",
    "print('         tm_hour  =', tt.tm_hour)\n",
    "print('         tm_min   =', tt.tm_min)\n",
    "print('         tm_sec   =', tt.tm_sec)\n",
    "print('         tm_wday  =', tt.tm_wday)\n",
    "print('         tm_yday  =', tt.tm_yday)\n",
    "print('         tm_isdst =', tt.tm_isdst)\n",
    "print('ordinal:', today.toordinal())\n",
    "print('Year   :', today.year)\n",
    "print('Mon    :', today.month)\n",
    "print('Day    :', today.day)"
   ]
  },
  {
   "cell_type": "code",
   "execution_count": null,
   "id": "269009fd",
   "metadata": {},
   "outputs": [],
   "source": []
  }
 ],
 "metadata": {
  "kernelspec": {
   "display_name": "Python 3 (ipykernel)",
   "language": "python",
   "name": "python3"
  },
  "language_info": {
   "codemirror_mode": {
    "name": "ipython",
    "version": 3
   },
   "file_extension": ".py",
   "mimetype": "text/x-python",
   "name": "python",
   "nbconvert_exporter": "python",
   "pygments_lexer": "ipython3",
   "version": "3.9.12"
  }
 },
 "nbformat": 4,
 "nbformat_minor": 5
}
