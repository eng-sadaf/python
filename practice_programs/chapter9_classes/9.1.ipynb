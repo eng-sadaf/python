{
 "cells": [
  {
   "cell_type": "markdown",
   "id": "06e1ed2b",
   "metadata": {},
   "source": [
    "# 9-1. Restaurant: \n",
    "Make a class called Restaurant. The __init__() method for Restaurant should store two attributes: a restaurant_name and a cuisine_type. Make a method called describe_restaurant() that prints these two pieces of information, and a method called open_restaurant() that prints a message indicating\n",
    "that the restaurant is open.\n",
    "Make an instance called restaurant from your class. Print the two attributes individually, and then call both methods."
   ]
  },
  {
   "cell_type": "code",
   "execution_count": 10,
   "id": "4d508616",
   "metadata": {},
   "outputs": [
    {
     "name": "stdout",
     "output_type": "stream",
     "text": [
      "My Restaurant name is Food Corner .\n",
      "Punjabi is our cuisine.\n",
      "The Food Corner is open now.\n"
     ]
    }
   ],
   "source": [
    "class Restaurant:\n",
    "    def __init__(self, restaurant_name, cuisine_type):\n",
    "        self.restaurant_name = restaurant_name\n",
    "        self.cuisine_type = cuisine_type\n",
    "    \n",
    "    def describe_restaurant(self):\n",
    "        print(f\"My Restaurant name is {self.restaurant_name} .\")\n",
    "        print(f\"{self.cuisine_type} is our cuisine.\")\n",
    "    \n",
    "    def open_restaurant(self):\n",
    "        print(f\"The {self.restaurant_name} is open now.\")\n",
    "        \n",
    "my_restaurant = Restaurant('Food Corner','Punjabi')\n",
    "my_restaurant.describe_restaurant()\n",
    "my_restaurant.open_restaurant()\n",
    "        "
   ]
  },
  {
   "cell_type": "markdown",
   "id": "a383c921",
   "metadata": {},
   "source": [
    "# 9-2. Three Restaurants: \n",
    "Start with your class from Exercise 9-1. Create three different instances from the class, and call describe_restaurant() for each instance."
   ]
  },
  {
   "cell_type": "code",
   "execution_count": 7,
   "id": "d2670b8d",
   "metadata": {},
   "outputs": [
    {
     "name": "stdout",
     "output_type": "stream",
     "text": [
      "My Restaurant name is Food Corner .\n",
      "Punjabi is our cuisine.\n",
      "My Restaurant name is China Castle .\n",
      "Chineese is our cuisine.\n",
      "My Restaurant name is Côte Rôtie .\n",
      "French is our cuisine.\n"
     ]
    }
   ],
   "source": [
    "my_restaurant1 = Restaurant('Food Corner','Punjabi')\n",
    "my_restaurant2 = Restaurant('China Castle','Chineese')\n",
    "my_restaurant3 = Restaurant('Côte Rôtie','French')\n",
    "\n",
    "my_restaurant1.describe_restaurant()\n",
    "my_restaurant2.describe_restaurant()\n",
    "my_restaurant3.describe_restaurant()"
   ]
  },
  {
   "cell_type": "markdown",
   "id": "bfc56351",
   "metadata": {},
   "source": [
    "# 9-3. Users: \n",
    "Make a class called User. Create two attributes called first_name and last_name, and then create several other attributes that are typically stored in a user profile. Make a method called describe_user() that prints a summary of the user’s information. Make another method called greet_user() that prints a personalized greeting to the user.\n",
    "Create several instances representing different users, and call both methods for each user."
   ]
  },
  {
   "cell_type": "code",
   "execution_count": 18,
   "id": "043e2279",
   "metadata": {},
   "outputs": [
    {
     "name": "stdout",
     "output_type": "stream",
     "text": [
      "Name : Saba Aslam\n",
      "Gender : Female\n",
      "Age : 22\n",
      "Education : Matric\n",
      "Welcome Saba Aslam. We are glad to see you here... \n",
      "\n",
      "Name : Rabia Ashraf\n",
      "Gender : Female\n",
      "Age : 32\n",
      "Education : BS\n",
      "Welcome Rabia Ashraf. We are glad to see you here... \n",
      "\n",
      "Name : Iqra Akram\n",
      "Gender : Female\n",
      "Age : 28\n",
      "Education : Intermediate\n",
      "Welcome Iqra Akram. We are glad to see you here... \n",
      "\n"
     ]
    }
   ],
   "source": [
    "class User:\n",
    "    def __init__(self, first_name, last_name, gender, age, education):\n",
    "        self.first_name = first_name\n",
    "        self.last_name = last_name\n",
    "        self.gender = gender\n",
    "        self.age = age\n",
    "        self.education = education\n",
    "    \n",
    "    def describe_user(self):\n",
    "        full_name = f\"{self.first_name} {self.last_name}\"\n",
    "        print(f\"Name : {full_name.title()}\")\n",
    "        print(f\"Gender : {self.gender}\")\n",
    "        print(f\"Age : {self.age}\")\n",
    "        print(f\"Education : {self.education}\")\n",
    "        \n",
    "    def greet_user(self):\n",
    "        full_name = f\"{self.first_name} {self.last_name}\"\n",
    "        print(f\"Welcome {full_name.title()}. We are glad to see you here... \\n\")\n",
    "        \n",
    "\n",
    "user1 = User('Saba','Aslam','Female',22,'Matric')\n",
    "user1.describe_user()\n",
    "user1.greet_user()\n",
    "\n",
    "user2 = User('Rabia','Ashraf','Female',32,'BS')\n",
    "user2.describe_user()\n",
    "user2.greet_user()\n",
    "\n",
    "user3 = User('Iqra','Akram','Female',28,'Intermediate')\n",
    "user3.describe_user()\n",
    "user3.greet_user()\n",
    "        "
   ]
  },
  {
   "cell_type": "code",
   "execution_count": null,
   "id": "153d2f0b",
   "metadata": {},
   "outputs": [],
   "source": []
  },
  {
   "cell_type": "code",
   "execution_count": null,
   "id": "98139176",
   "metadata": {},
   "outputs": [],
   "source": []
  },
  {
   "cell_type": "code",
   "execution_count": null,
   "id": "0f7eae94",
   "metadata": {},
   "outputs": [],
   "source": []
  },
  {
   "cell_type": "code",
   "execution_count": null,
   "id": "94095484",
   "metadata": {},
   "outputs": [],
   "source": []
  }
 ],
 "metadata": {
  "kernelspec": {
   "display_name": "Python 3 (ipykernel)",
   "language": "python",
   "name": "python3"
  },
  "language_info": {
   "codemirror_mode": {
    "name": "ipython",
    "version": 3
   },
   "file_extension": ".py",
   "mimetype": "text/x-python",
   "name": "python",
   "nbconvert_exporter": "python",
   "pygments_lexer": "ipython3",
   "version": "3.9.12"
  }
 },
 "nbformat": 4,
 "nbformat_minor": 5
}
