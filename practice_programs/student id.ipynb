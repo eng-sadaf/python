{
 "cells": [
  {
   "cell_type": "code",
   "execution_count": 51,
   "id": "da34b926",
   "metadata": {},
   "outputs": [
    {
     "ename": "SyntaxError",
     "evalue": "invalid syntax (2856676579.py, line 7)",
     "output_type": "error",
     "traceback": [
      "\u001b[1;36m  Input \u001b[1;32mIn [51]\u001b[1;36m\u001b[0m\n\u001b[1;33m    import getStudentDetails:\u001b[0m\n\u001b[1;37m                            ^\u001b[0m\n\u001b[1;31mSyntaxError\u001b[0m\u001b[1;31m:\u001b[0m invalid syntax\n"
     ]
    }
   ],
   "source": [
    "def getStudentDetails(self):\n",
    "        self.rollno=input(\"Enter Roll Number : \")\n",
    "        self.name = input(\"Enter Name : \")\n",
    "        self.fname = input(\"Enter your Father name : \")\n",
    "        self.obtain_marks = int(input(\"Enter your obtained marks : \"))\n",
    "def printresult(self):\n",
    "        import getStudentDetails:\n",
    "        self.percentage = (int)(obtain_marks / 1100 * 100)\n",
    "\n",
    "x = Student()\n",
    "x.getStudentDetails()\n",
    "print(\"results : \")\n",
    "print(x.printresult())"
   ]
  }
 ],
 "metadata": {
  "kernelspec": {
   "display_name": "Python 3 (ipykernel)",
   "language": "python",
   "name": "python3"
  },
  "language_info": {
   "codemirror_mode": {
    "name": "ipython",
    "version": 3
   },
   "file_extension": ".py",
   "mimetype": "text/x-python",
   "name": "python",
   "nbconvert_exporter": "python",
   "pygments_lexer": "ipython3",
   "version": "3.9.12"
  }
 },
 "nbformat": 4,
 "nbformat_minor": 5
}
