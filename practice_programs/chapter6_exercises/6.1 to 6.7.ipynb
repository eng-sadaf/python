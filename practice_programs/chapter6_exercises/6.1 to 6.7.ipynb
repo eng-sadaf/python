{
 "cells": [
  {
   "cell_type": "markdown",
   "id": "ed912eac",
   "metadata": {},
   "source": [
    "# 6-1. Person: \n",
    "Use a dictionary to store information about a person you know. Store their first name, last name, age, and the city in which they live. You should have keys such as first_name, last_name, age, and city. Print each piece of information stored in your dictionary."
   ]
  },
  {
   "cell_type": "code",
   "execution_count": 1,
   "id": "2f813ba2",
   "metadata": {},
   "outputs": [
    {
     "name": "stdout",
     "output_type": "stream",
     "text": [
      "{'first_name': 'Rabia', 'last_name': 'Aslam', 'age': 30, 'city': 'Karachi'}\n"
     ]
    }
   ],
   "source": [
    "person = {'first_name':'Rabia','last_name':'Aslam','age':30,'city':'Karachi'}\n",
    "print(person)"
   ]
  },
  {
   "cell_type": "markdown",
   "id": "d105c49d",
   "metadata": {},
   "source": [
    "# 6-2. Favorite Numbers: \n",
    "Use a dictionary to store people’s favorite numbers. Think of five names, and use them as keys in your dictionary. Think of a favorite number for each person, and store each as a value in your dictionary. Print each person’s name and their favorite number. For even more fun, poll a few friends and get some actual data for your program."
   ]
  },
  {
   "cell_type": "code",
   "execution_count": 5,
   "id": "8bc05bff",
   "metadata": {},
   "outputs": [
    {
     "name": "stdout",
     "output_type": "stream",
     "text": [
      "Aqsa favorite number is 42.\n",
      "Ayesha favorite number is 32.\n",
      "Sania favorite number is 50.\n",
      "Erum favorite number is 49.\n",
      "Ifrah favorite number is 20.\n"
     ]
    }
   ],
   "source": [
    "favorite_num = {'Aqsa':42,'Ayesha':32,'Sania':50,'Erum':49,'Ifrah':20}\n",
    "print(f\"Aqsa favorite number is {favorite_num['Aqsa']}.\")\n",
    "print(f\"Ayesha favorite number is {favorite_num['Ayesha']}.\")\n",
    "print(f\"Sania favorite number is {favorite_num['Sania']}.\")\n",
    "print(f\"Erum favorite number is {favorite_num['Erum']}.\")\n",
    "print(f\"Ifrah favorite number is {favorite_num['Ifrah']}.\")"
   ]
  },
  {
   "cell_type": "markdown",
   "id": "988acd0d",
   "metadata": {},
   "source": [
    "# 6-3. Glossary: \n",
    "A Python dictionary can be used to model an actual dictionary. However, to avoid confusion, let’s call it a glossary.\n",
    "• Think of five programming words you’ve learned about in the previous chapters. Use these words as the keys in your glossary, and store their meanings as values.\n",
    "• Print each word and its meaning as neatly formatted output. You might print the word followed by a colon and then its meaning, or print the word on one line and then print its meaning indented on a second line. Use the newline character (\\n) to insert a blank line between each word-meaning pair in your output."
   ]
  },
  {
   "cell_type": "code",
   "execution_count": 16,
   "id": "bf7ceb2f",
   "metadata": {},
   "outputs": [
    {
     "name": "stdout",
     "output_type": "stream",
     "text": [
      "extend():\n",
      "\tCan add multiple individual elements to the end of the list.\n",
      "\n",
      "append():\n",
      "\tAdds a single element to the end of the list while.\n",
      "\n",
      "clear:\n",
      "\tThe clear() function in Python removes all elements from a list.\n",
      "\n",
      "get():\n",
      "\tThe get() method returns the value of the item with the specified key.\n",
      " \n",
      "del:\n",
      "\tThe del keyword is used to delete objects.\n"
     ]
    }
   ],
   "source": [
    "p_word = {\n",
    "    'extend':'extend():\\n\\tCan add multiple individual elements to the end of the list.\\n',\n",
    "    'append':'append():\\n\\tAdds a single element to the end of the list while.\\n',\n",
    "    'clear':'clear:\\n\\tThe clear() function in Python removes all elements from a list.\\n',\n",
    "    'get':'get():\\n\\tThe get() method returns the value of the item with the specified key.\\n ',\n",
    "    'del':'del:\\n\\tThe del keyword is used to delete objects.'\n",
    "}\n",
    "print(p_word['extend'])\n",
    "print(p_word['append'])\n",
    "print(p_word['clear'])\n",
    "print(p_word['get'])\n",
    "print(p_word['del'])"
   ]
  },
  {
   "cell_type": "markdown",
   "id": "9c40b8fd",
   "metadata": {},
   "source": [
    "# 6-4. Glossary 2: \n",
    "Now that you know how to loop through a dictionary, clean up the code from Exercise 6-3 (page 99) by replacing your series of print() calls with a loop that runs through the dictionary’s keys and values. When you’re sure that your loop works, add five more Python terms to your glossary. When you run your program again, these new words and meanings should automatically be included in the output."
   ]
  },
  {
   "cell_type": "code",
   "execution_count": 8,
   "id": "63723ffb",
   "metadata": {},
   "outputs": [
    {
     "name": "stdout",
     "output_type": "stream",
     "text": [
      "Extend():\n",
      "\tCan Add Multiple Individual Elements To The End Of The List.\n",
      "\n",
      "Append():\n",
      "\tAdds A Single Element To The End Of The List While.\n",
      "\n",
      "Clear:\n",
      "\tThe Clear() Function In Python Removes All Elements From A List.\n",
      "\n",
      "Get():\n",
      "\tThe Get() Method Returns The Value Of The Item With The Specified Key.\n",
      " \n",
      "Del:\n",
      "\tThe Del Keyword Is Used To Delete Objects.\n",
      "\n",
      "String():\n",
      "\tA String Is A Series Of Characters.\n",
      "\n",
      "Float:\n",
      "\tPython Calls Any Number With A Decimal Point A Float.\n",
      "\n",
      "Sort():\n",
      "\tPython’S Sort() Method Makes It Relatively Easy To Sort A List.\n",
      "\n",
      "Sorted():\n",
      "\tTo Maintain The Original Order Of A List But Present It In A Sorted Order.\n",
      "\n",
      "Function:\n",
      "\tAfunction Is A Block Of Code Which Only Runs When It Is Called.\n",
      "\n"
     ]
    }
   ],
   "source": [
    "p_word = {\n",
    "    'extend():': '\\n\\tCan add multiple individual elements to the end of the list.\\n',\n",
    "    'append():': '\\n\\tAdds a single element to the end of the list while.\\n',\n",
    "    'clear:': '\\n\\tThe clear() function in Python removes all elements from a list.\\n',\n",
    "    'get():': '\\n\\tThe get() method returns the value of the item with the specified key.\\n ',\n",
    "    'del:': '\\n\\tThe del keyword is used to delete objects.\\n',\n",
    "    'string():': '\\n\\tA string is a series of characters.\\n',\n",
    "    'float:': '\\n\\tPython calls any number with a decimal point a float.\\n',\n",
    "    'sort():': '\\n\\tPython’s sort() method makes it relatively easy to sort a list.\\n',\n",
    "    'sorted():': '\\n\\tTo maintain the original order of a list but present it in a sorted order.\\n',\n",
    "    'function:': '\\n\\tAfunction is a block of code which only runs when it is called.\\n'\n",
    "    \n",
    "    \n",
    "}\n",
    "for keys, values in p_word.items():\n",
    "    print(f\"{keys.title()}{values.title()}\")\n",
    "    "
   ]
  },
  {
   "cell_type": "markdown",
   "id": "a75f87b8",
   "metadata": {},
   "source": [
    "# 6-5. Rivers: \n",
    "Make a dictionary containing three major rivers and the country each river runs through. One key-value pair might be 'nile': 'egypt'.\n",
    "• Use a loop to print a sentence about each river, such as The Nile runs through Egypt.\n",
    "• Use a loop to print the name of each river included in the dictionary.\n",
    "• Use a loop to print the name of each country included in the dictionary."
   ]
  },
  {
   "cell_type": "code",
   "execution_count": 4,
   "id": "33704363",
   "metadata": {},
   "outputs": [
    {
     "name": "stdout",
     "output_type": "stream",
     "text": [
      "The Nile river runs through Egypt\n",
      "The Chenab river runs through Pakistan\n",
      "The Satluj river runs through Pakistan\n",
      "\n",
      "List of Rivers: \n",
      "Nile\n",
      "Chenab\n",
      "Satluj\n",
      "\n",
      "List of Countries: \n",
      "Egypt\n",
      "Pakistan\n",
      "Pakistan\n"
     ]
    }
   ],
   "source": [
    "major_rivers = {'nile':'Egypt','Chenab':'Pakistan','Satluj':'Pakistan'}\n",
    "for k,v in major_rivers.items():\n",
    "    print(f\"The {k.title()} river runs through {v.title()}\")\n",
    "\n",
    "print(\"\\nList of Rivers: \")\n",
    "for k in major_rivers.keys():\n",
    "    print(k.title())\n",
    "    \n",
    "print(\"\\nList of Countries: \")\n",
    "for v in major_rivers.values():\n",
    "    print(v.title())\n",
    "    \n",
    "    "
   ]
  },
  {
   "cell_type": "markdown",
   "id": "638c3185",
   "metadata": {},
   "source": [
    "# 6-6. Polling: \n",
    "Use the code in favorite_languages.py (page 97).\n",
    "• Make a list of people who should take the favorite languages poll. Include some names that are already in the dictionary and some that are not.\n",
    "• Loop through the list of people who should take the poll. If they have already taken the poll, print a message thanking them for responding. If they have not yet taken the poll, print a message inviting them to take\n",
    "the poll."
   ]
  },
  {
   "cell_type": "code",
   "execution_count": 22,
   "id": "a5ef828b",
   "metadata": {},
   "outputs": [
    {
     "name": "stdout",
     "output_type": "stream",
     "text": [
      "Jen favourite language is Python\n",
      "\n",
      "Sarah favourite language is C\n",
      "\n",
      "Edward favourite language is Ruby\n",
      "\n",
      "Phil favourite language is Python\n",
      "\n",
      "***************************************\n",
      "\n",
      "Please take the poll Sadaf\n",
      "\n",
      "Thank u for responding  jen\n",
      "\n",
      "Please take the poll Rabia\n",
      "\n",
      "Thank u for responding  edward\n",
      "\n",
      "Please take the poll Sadia\n",
      "\n",
      "Thank u for responding  sarah\n"
     ]
    }
   ],
   "source": [
    "favorite_languages = {\n",
    "    'jen': 'python',\n",
    "    'sarah': 'c',\n",
    "    'edward': 'ruby',\n",
    "    'phil': 'python',\n",
    "}\n",
    "for k,v in favorite_languages.items():\n",
    "    print( k.title() + \" favourite language is \" + v.title() + \"\\n\")\n",
    "    \n",
    "print(\"***************************************\")\n",
    "    \n",
    "people = ['Sadaf','jen','Rabia','edward','Sadia','sarah']\n",
    "for poll in people:\n",
    "    if poll in favorite_languages.keys():\n",
    "        print(\"\\nThank u for responding  \" + poll)\n",
    "    if poll not in favorite_languages.keys():\n",
    "        print( \"\\nPlease take the poll \" + poll.title() )\n"
   ]
  },
  {
   "cell_type": "markdown",
   "id": "d987fe4e",
   "metadata": {},
   "source": [
    "# 6-7. People: \n",
    "Start with the program you wrote for Exercise 6-1 (page 99). Make two new dictionaries representing different people, and store all three dictionaries in a list called people. Loop through your list of people. As you loop through the list, print everything you know about each person."
   ]
  },
  {
   "cell_type": "code",
   "execution_count": 4,
   "id": "c764affc",
   "metadata": {},
   "outputs": [
    {
     "name": "stdout",
     "output_type": "stream",
     "text": [
      "{'first_name': 'Rabia', 'last_name': 'Aslam', 'age': 30, 'city': 'Karachi'}\n",
      "{'first_name': 'Sadaf', 'last_name': 'Hina', 'age': 26, 'city': 'Lahore'}\n",
      "{'first_name': 'Sadia', 'last_name': 'Akram', 'age': 32, 'city': 'Islamabad'}\n"
     ]
    }
   ],
   "source": [
    "person = {'first_name':'Rabia','last_name':'Aslam','age':30,'city':'Karachi'}\n",
    "person1 = {'first_name':'Sadaf','last_name':'Hina','age':26,'city':'Lahore'}\n",
    "person2 = {'first_name':'Sadia','last_name':'Akram','age':32,'city':'Islamabad'}\n",
    "people = [person,person1,person2]\n",
    "for p in people:\n",
    "    print(p)"
   ]
  },
  {
   "cell_type": "code",
   "execution_count": null,
   "id": "84c4d0e4",
   "metadata": {},
   "outputs": [],
   "source": []
  },
  {
   "cell_type": "code",
   "execution_count": null,
   "id": "c0bf1e8e",
   "metadata": {},
   "outputs": [],
   "source": []
  },
  {
   "cell_type": "code",
   "execution_count": null,
   "id": "7d66bb05",
   "metadata": {},
   "outputs": [],
   "source": []
  },
  {
   "cell_type": "code",
   "execution_count": null,
   "id": "ff6fd501",
   "metadata": {},
   "outputs": [],
   "source": []
  },
  {
   "cell_type": "code",
   "execution_count": null,
   "id": "9274b7ae",
   "metadata": {},
   "outputs": [],
   "source": []
  }
 ],
 "metadata": {
  "kernelspec": {
   "display_name": "Python 3 (ipykernel)",
   "language": "python",
   "name": "python3"
  },
  "language_info": {
   "codemirror_mode": {
    "name": "ipython",
    "version": 3
   },
   "file_extension": ".py",
   "mimetype": "text/x-python",
   "name": "python",
   "nbconvert_exporter": "python",
   "pygments_lexer": "ipython3",
   "version": "3.9.12"
  }
 },
 "nbformat": 4,
 "nbformat_minor": 5
}
