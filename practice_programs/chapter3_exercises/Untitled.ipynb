{
 "cells": [
  {
   "cell_type": "markdown",
   "id": "fbc5eee8",
   "metadata": {},
   "source": [
    "# Names: \n",
    "Store the names of a few of your friends in a list called names. Print each person’s name by accessing each element in the list, one at a time."
   ]
  },
  {
   "cell_type": "code",
   "execution_count": 1,
   "id": "428c943b",
   "metadata": {},
   "outputs": [
    {
     "name": "stdout",
     "output_type": "stream",
     "text": [
      "Sidra\n",
      "Rabia\n",
      "Sadia\n"
     ]
    }
   ],
   "source": [
    "names = [\"Sidra\",\"Rabia\",\"Sadia\"]\n",
    "print (names[0])\n",
    "print (names[1])\n",
    "print (names[2])"
   ]
  },
  {
   "cell_type": "markdown",
   "id": "c2a966d2",
   "metadata": {},
   "source": [
    "# Greetings: \n",
    "Start with the list you used in Exercise 3-1, but instead of just printing each person’s name, print a message to them. The text of each message should be the same, but each message should be personalized with the person’s name."
   ]
  },
  {
   "cell_type": "code",
   "execution_count": 2,
   "id": "953edba4",
   "metadata": {},
   "outputs": [
    {
     "name": "stdout",
     "output_type": "stream",
     "text": [
      "You are my best friend Sidra\n",
      "You are my best friend Rabia\n",
      "You are my best friend Sadia\n"
     ]
    }
   ],
   "source": [
    "print (f\"You are my best friend {names[0].title()}\")\n",
    "print (f\"You are my best friend {names[1].title()}\")\n",
    "print (f\"You are my best friend {names[2].title()}\")"
   ]
  },
  {
   "cell_type": "markdown",
   "id": "eda33acc",
   "metadata": {},
   "source": [
    "# Guest List: \n",
    "If you could invite anyone, living or deceased, to dinner, who would you invite? Make a list that includes at least three people you’d like to invite to dinner. Then use your list to print a message to each person, inviting them to dinner."
   ]
  },
  {
   "cell_type": "code",
   "execution_count": 3,
   "id": "f8312c00",
   "metadata": {},
   "outputs": [
    {
     "name": "stdout",
     "output_type": "stream",
     "text": [
      "Sidra \n",
      "\"You are most cordially invited to be our guest at the dinner party we have arranged on 15th of Sep 2022. It will be great having you among us!\"\n",
      "Rabia \n",
      "\"You are most cordially invited to be our guest at the dinner party we have arranged on 15th of Sep 2022. It will be great having you among us!\"\n",
      "Sadia \n",
      "\"You are most cordially invited to be our guest at the dinner party we have arranged on 15th of Sep 2022. It will be great having you among us!\"\n"
     ]
    }
   ],
   "source": [
    "guest_list = [\"Sidra\",\"Rabia\",\"Sadia\",\"Erum\"]\n",
    "print (f\"{guest_list[0].title()} \\n\\\"You are most cordially invited to be our guest at the dinner party we have arranged on 15th of Sep 2022. It will be great having you among us!\\\"\")\n",
    "print (f\"{guest_list[1].title()} \\n\\\"You are most cordially invited to be our guest at the dinner party we have arranged on 15th of Sep 2022. It will be great having you among us!\\\"\")\n",
    "print (f\"{guest_list[2].title()} \\n\\\"You are most cordially invited to be our guest at the dinner party we have arranged on 15th of Sep 2022. It will be great having you among us!\\\"\")"
   ]
  },
  {
   "cell_type": "markdown",
   "id": "bd87cfde",
   "metadata": {},
   "source": [
    "# Changing Guest List: \n",
    "You just heard that one of your guests can’t make the dinner, so you need to send out a new set of invitations. You’ll have to think of someone else to invite.\n",
    "• Start with your program from Exercise 3-4. Add a print() call at the end of your program stating the name of the guest who can’t make it.\n",
    "• Modify your list, replacing the name of the guest who can’t make it with the name of the new person you are inviting.\n",
    "• Print a second set of invitation messages, one for each person who is still in your list."
   ]
  },
  {
   "cell_type": "code",
   "execution_count": 4,
   "id": "00503c10",
   "metadata": {},
   "outputs": [
    {
     "name": "stdout",
     "output_type": "stream",
     "text": [
      "Sidra \n",
      "\"You are most cordially invited to be our guest at the dinner party we have arranged on 15th of Sep 2022. It will be great having you among us!\"\n",
      "Rabia \n",
      "\"You are most cordially invited to be our guest at the dinner party we have arranged on 15th of Sep 2022. It will be great having you among us!\"\n",
      "Sadia \n",
      "\"You are most cordially invited to be our guest at the dinner party we have arranged on 15th of Sep 2022. It will be great having you among us!\"\n",
      "\n",
      "\t Unfortunately Sidra and Sadia are not coming at dinner party\n",
      "Laiba \n",
      "\"You are most cordially invited to be our guest at the dinner party we have arranged on 15th of Sep 2022. It will be great having you among us!\"\n",
      "Ayesha \n",
      "\"You are most cordially invited to be our guest at the dinner party we have arranged on 15th of Sep 2022. It will be great having you among us!\"\n"
     ]
    },
    {
     "data": {
      "text/plain": [
       "['Laiba', 'Rabia', 'Ayesha']"
      ]
     },
     "execution_count": 4,
     "metadata": {},
     "output_type": "execute_result"
    }
   ],
   "source": [
    "guest_list = [\"Sidra\",\"Rabia\",\"Sadia\"]\n",
    "print (f\"{guest_list[0].title()} \\n\\\"You are most cordially invited to be our guest at the dinner party we have arranged on 15th of Sep 2022. It will be great having you among us!\\\"\")\n",
    "print (f\"{guest_list[1].title()} \\n\\\"You are most cordially invited to be our guest at the dinner party we have arranged on 15th of Sep 2022. It will be great having you among us!\\\"\")\n",
    "print (f\"{guest_list[2].title()} \\n\\\"You are most cordially invited to be our guest at the dinner party we have arranged on 15th of Sep 2022. It will be great having you among us!\\\"\")\n",
    "\n",
    "print (\"\\n\\t Unfortunately Sidra and Sadia are not coming at dinner party\")\n",
    "\n",
    "guest_list[0] = \"Laiba\"\n",
    "guest_list[2] = \"Ayesha\"\n",
    "\n",
    "print (f\"{guest_list[0].title()} \\n\\\"You are most cordially invited to be our guest at the dinner party we have arranged on 15th of Sep 2022. It will be great having you among us!\\\"\")\n",
    "print (f\"{guest_list[2].title()} \\n\\\"You are most cordially invited to be our guest at the dinner party we have arranged on 15th of Sep 2022. It will be great having you among us!\\\"\")\n",
    "guest_list"
   ]
  },
  {
   "cell_type": "markdown",
   "id": "2917d483",
   "metadata": {},
   "source": [
    "# More Guests: \n",
    "You just found a bigger dinner table, so now more space is available. Think of three more guests to invite to dinner.\n",
    "• Start with your program from Exercise 3-4 or Exercise 3-5. Add a print() call to the end of your program informing people that you found a bigger dinner table.\n",
    "• Use insert() to add one new guest to the beginning of your list.\n",
    "• Use insert() to add one new guest to the middle of your list.\n",
    "• Use append() to add one new guest to the end of your list.\n",
    "• Print a new set of invitation messages, one for each person in your list."
   ]
  },
  {
   "cell_type": "code",
   "execution_count": 5,
   "id": "6979330b",
   "metadata": {},
   "outputs": [
    {
     "name": "stdout",
     "output_type": "stream",
     "text": [
      "Hello Everyone! i just foud that i have a bigger dinner table.\n",
      "['Erum', 'Laiba', 'Nazish', 'Rabia', 'Ayesha', 'Bisma']\n"
     ]
    }
   ],
   "source": [
    "print (\"Hello Everyone! i just foud that i have a bigger dinner table.\")\n",
    "guest_list.insert(0 , 'Erum')\n",
    "guest_list.insert(2 , 'Nazish')\n",
    "guest_list.append(\"Bisma\")\n",
    "print (guest_list)\n",
    "# same as already printed messages\n"
   ]
  },
  {
   "cell_type": "markdown",
   "id": "afcd12d4",
   "metadata": {},
   "source": [
    "# Length of Dinner Guests:\n",
    "Working with one of the programs from previous Exercises, use len() to print a message indicating the number of people you are inviting to dinner."
   ]
  },
  {
   "cell_type": "code",
   "execution_count": 6,
   "id": "f1fda104",
   "metadata": {},
   "outputs": [
    {
     "name": "stdout",
     "output_type": "stream",
     "text": [
      "I am inviting people : \n"
     ]
    },
    {
     "data": {
      "text/plain": [
       "6"
      ]
     },
     "execution_count": 6,
     "metadata": {},
     "output_type": "execute_result"
    }
   ],
   "source": [
    "print (\"I am inviting people : \")\n",
    "len(guest_list)"
   ]
  },
  {
   "cell_type": "markdown",
   "id": "a6cb2baa",
   "metadata": {},
   "source": [
    "# Seeing the World: \n",
    "Think of at least five places in the world you’d like to visit.\n",
    "• Store the locations in a list. Make sure the list is not in alphabetical order.\n",
    "• Print your list in its original order. Don’t worry about printing the list neatly, just print it as a raw Python list.\n",
    "• Use sorted() to print your list in alphabetical order without modifying the actual list.\n",
    "• Show that your list is still in its original order by printing it.\n",
    "• Use sorted() to print your list in reverse alphabetical order without changing the order of the original list.\n",
    "• Show that your list is still in its original order by printing it again.\n",
    "• Use reverse() to change the order of your list. Print the list to show that its order has changed.\n",
    "• Use reverse() to change the order of your list again. Print the list to show it’s back to its original order.\n",
    "• Use sort() to change your list so it’s stored in alphabetical order. Print the list to show that its order has been changed.\n",
    "• Use sort() to change your list so it’s stored in reverse alphabetical order.\n",
    "Print the list to show that its order has changed"
   ]
  },
  {
   "cell_type": "code",
   "execution_count": 33,
   "id": "03278f05",
   "metadata": {},
   "outputs": [
    {
     "name": "stdout",
     "output_type": "stream",
     "text": [
      "['Switzerland', 'Italy', 'Canada', 'France', 'Pakistan']\n",
      "['Canada', 'France', 'Italy', 'Pakistan', 'Switzerland']\n",
      "['Switzerland', 'Italy', 'Canada', 'France', 'Pakistan']\n",
      "['Switzerland', 'Pakistan', 'Italy', 'France', 'Canada']\n",
      "['Switzerland', 'Italy', 'Canada', 'France', 'Pakistan']\n",
      "['Pakistan', 'France', 'Canada', 'Italy', 'Switzerland']\n",
      "['Switzerland', 'Italy', 'Canada', 'France', 'Pakistan']\n",
      "['Canada', 'France', 'Italy', 'Pakistan', 'Switzerland']\n",
      "['Switzerland', 'Pakistan', 'Italy', 'France', 'Canada']\n"
     ]
    }
   ],
   "source": [
    "locations = [\"Switzerland\",\"Italy\",\"Canada\",\"France\",\"Pakistan\"]\n",
    "print (locations)    #print list\n",
    "print (sorted(locations))    #sort list without changing original\n",
    "print (locations)            #again show the original list\n",
    "print (sorted(locations,reverse=True))          #reverse this list\n",
    "print (locations)        #original list\n",
    "locations.reverse()          #reverse permanently\n",
    "print (locations)\n",
    "locations.reverse()        #again reverse to original\n",
    "print (locations)\n",
    "locations.sort()         #sort alphabetically\n",
    "print (locations)\n",
    "locations.sort(reverse=True)  #sort alphabetically reverse\n",
    "print (locations)"
   ]
  },
  {
   "cell_type": "code",
   "execution_count": null,
   "id": "94db1062",
   "metadata": {},
   "outputs": [],
   "source": []
  },
  {
   "cell_type": "code",
   "execution_count": null,
   "id": "adfda446",
   "metadata": {},
   "outputs": [],
   "source": []
  },
  {
   "cell_type": "code",
   "execution_count": null,
   "id": "a3b1a576",
   "metadata": {},
   "outputs": [],
   "source": []
  }
 ],
 "metadata": {
  "kernelspec": {
   "display_name": "Python 3 (ipykernel)",
   "language": "python",
   "name": "python3"
  },
  "language_info": {
   "codemirror_mode": {
    "name": "ipython",
    "version": 3
   },
   "file_extension": ".py",
   "mimetype": "text/x-python",
   "name": "python",
   "nbconvert_exporter": "python",
   "pygments_lexer": "ipython3",
   "version": "3.9.12"
  }
 },
 "nbformat": 4,
 "nbformat_minor": 5
}
