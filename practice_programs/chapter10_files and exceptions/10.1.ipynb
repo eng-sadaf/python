{
 "cells": [
  {
   "cell_type": "markdown",
   "id": "a20514c6",
   "metadata": {},
   "source": [
    "# 10-1. Learning Python:\n",
    "Open a blank file in your text editor and write a few lines summarizing what you’ve learned about Python so far. Start each line with the phrase In Python you can. . . . Save the file as learning_python.txt in the same directory as your exercises from this chapter. Write a program that\n",
    "reads the file and prints what you wrote three times. Print the contents once by reading in the entire file, once by looping over the file object, and once by storing the lines in a list and then working with them outside the with block."
   ]
  },
  {
   "cell_type": "code",
   "execution_count": 31,
   "id": "c617562d",
   "metadata": {},
   "outputs": [
    {
     "name": "stdout",
     "output_type": "stream",
     "text": [
      "In python you can create arcade games.\n",
      "In python you can create adventure games, and puzzle games. \n",
      "In python you can create code of classic games.\n"
     ]
    }
   ],
   "source": [
    "with open(\"learning_python.txt\") as file_object:\n",
    "    content = file_object.read()\n",
    "    print(content)"
   ]
  },
  {
   "cell_type": "code",
   "execution_count": 32,
   "id": "65d34a3f",
   "metadata": {},
   "outputs": [
    {
     "name": "stdout",
     "output_type": "stream",
     "text": [
      "In python you can create arcade games.\n",
      "In python you can create adventure games, and puzzle games.\n",
      "In python you can create code of classic games.\n"
     ]
    }
   ],
   "source": [
    "file_name = 'learning_python.txt'\n",
    "with open(file_name) as file_object:\n",
    "    for line in file_object:\n",
    "        print(line.strip())"
   ]
  },
  {
   "cell_type": "code",
   "execution_count": 36,
   "id": "a5a22d14",
   "metadata": {},
   "outputs": [
    {
     "name": "stdout",
     "output_type": "stream",
     "text": [
      "In python you can create arcade games.\n",
      "In python you can create adventure games, and puzzle games. \n",
      "In python you can create code of classic games.\n"
     ]
    }
   ],
   "source": [
    "file_name = 'learning_python.txt'\n",
    "file_string = ''\n",
    "with open(file_name) as file_object:\n",
    "    for line in file_object:\n",
    "        file_string += line\n",
    "        \n",
    "print(file_string)"
   ]
  },
  {
   "cell_type": "markdown",
   "id": "c2a81ebf",
   "metadata": {},
   "source": [
    "# 10-2. Learning C: \n",
    "You can use the replace() method to replace any word in a string with a different word. Here’s a quick example showing how to replace 'dog' with 'cat' in a sentence:\n",
    "\n",
    "#   >>> message = \"I really like dogs.\"\n",
    "#   >>> message.replace('dog', 'cat')\n",
    "#   'I really like cats.'\n",
    "\n",
    "Read in each line from the file you just created, learning_python.txt, and replace the word Python with the name of another language, such as C. Print each modified line to the screen."
   ]
  },
  {
   "cell_type": "code",
   "execution_count": 37,
   "id": "1a5d4647",
   "metadata": {},
   "outputs": [
    {
     "name": "stdout",
     "output_type": "stream",
     "text": [
      "In C you can create arcade games.\n",
      "In C you can create adventure games, and puzzle games. \n",
      "In C you can create code of classic games.\n"
     ]
    }
   ],
   "source": [
    "with open(\"learning_python.txt\") as file_object:\n",
    "    content = file_object.read()\n",
    "    contents = content.replace('python','C')\n",
    "print(contents)\n"
   ]
  },
  {
   "cell_type": "markdown",
   "id": "b7a570d7",
   "metadata": {},
   "source": [
    "# 10-3. Guest: \n",
    "Write a program that prompts the user for their name. When they respond, write their name to a file called guest.txt."
   ]
  },
  {
   "cell_type": "code",
   "execution_count": 43,
   "id": "1f44dec6",
   "metadata": {},
   "outputs": [
    {
     "name": "stdout",
     "output_type": "stream",
     "text": [
      "Enter your name : sadaf\n",
      "sadaf\n"
     ]
    }
   ],
   "source": [
    "file_name = 'guest.txt'\n",
    "with open(file_name,'r+') as file:\n",
    "    content = input(\"Enter your name : \")\n",
    "    file.write(content)\n",
    "    \n",
    "print(content)\n",
    "    "
   ]
  },
  {
   "cell_type": "markdown",
   "id": "ac1fc8a6",
   "metadata": {},
   "source": [
    "# 10-4. Guest Book: \n",
    "Write a while loop that prompts users for their name. When they enter their name, print a greeting to the screen and add a line recording their visit in a file called guest_book.txt. Make sure each entry appears on a new line in the file."
   ]
  },
  {
   "cell_type": "code",
   "execution_count": 44,
   "id": "b91c2d74",
   "metadata": {},
   "outputs": [
    {
     "name": "stdout",
     "output_type": "stream",
     "text": [
      "Enter 'quit' when you are finished...\n",
      "\n",
      "Enter your name : sadaf\n",
      "Hello sadaf Your have been added to guest book.\n",
      "Enter your name : shoaib\n",
      "Hello shoaib Your have been added to guest book.\n",
      "Enter your name : hina\n",
      "Hello hina Your have been added to guest book.\n",
      "Enter your name : alam\n",
      "Hello alam Your have been added to guest book.\n",
      "Enter your name : quit\n"
     ]
    }
   ],
   "source": [
    "file_name = 'guest_book.txt'\n",
    "print(\"Enter 'quit' when you are finished...\\n\")\n",
    "while True:\n",
    "    content = input(\"Enter your name : \")\n",
    "    if content == 'quit':\n",
    "        break\n",
    "    else:\n",
    "        with open(file_name,'a') as file_object:\n",
    "            file_object.write(content + '\\n')\n",
    "            print(\"Hello\",content,\"Your have been added to guest book.\")\n",
    "            "
   ]
  },
  {
   "cell_type": "markdown",
   "id": "8e08eb32",
   "metadata": {},
   "source": [
    "# 10-5. Programming Poll: \n",
    "Write a while loop that asks people why they like programming. Each time someone enters a reason, add their reason to a file that stores all the responses."
   ]
  },
  {
   "cell_type": "code",
   "execution_count": 54,
   "id": "56cea3f5",
   "metadata": {},
   "outputs": [
    {
     "name": "stdout",
     "output_type": "stream",
     "text": [
      "Enter 'quit' if finished...\n",
      "Why you like programming?\n",
      "Earning Potential. Python is the second-highest paid computer language, according to Indeed.\n",
      "Why you like programming?\n",
      "Ease of Comprehension. One of the top benefits of Python is that it is easy to learn and fun to use. \n",
      "Why you like programming?\n",
      "Flexibility. Not only is Python easy to learn, but also, it's flexible.\n",
      "Why you like programming?\n",
      "quit\n"
     ]
    }
   ],
   "source": [
    "file_name = 'responses.txt'\n",
    "responses = []\n",
    "\n",
    "print(\"Enter 'quit' if finished...\")\n",
    "while True:\n",
    "    reason = input(\"Why you like programming?\\n\")\n",
    "    if reason == 'quit':\n",
    "        break\n",
    "    else:\n",
    "        responses.append(reason)\n",
    "            \n",
    "with open(file_name,'a') as f:\n",
    "    for response in responses:\n",
    "        f.write(response + '\\n')\n",
    "        \n",
    "    "
   ]
  },
  {
   "cell_type": "code",
   "execution_count": null,
   "id": "70765621",
   "metadata": {},
   "outputs": [],
   "source": []
  },
  {
   "cell_type": "code",
   "execution_count": null,
   "id": "a0833bb8",
   "metadata": {},
   "outputs": [],
   "source": []
  },
  {
   "cell_type": "code",
   "execution_count": null,
   "id": "320a5299",
   "metadata": {},
   "outputs": [],
   "source": []
  }
 ],
 "metadata": {
  "kernelspec": {
   "display_name": "Python 3 (ipykernel)",
   "language": "python",
   "name": "python3"
  },
  "language_info": {
   "codemirror_mode": {
    "name": "ipython",
    "version": 3
   },
   "file_extension": ".py",
   "mimetype": "text/x-python",
   "name": "python",
   "nbconvert_exporter": "python",
   "pygments_lexer": "ipython3",
   "version": "3.9.12"
  }
 },
 "nbformat": 4,
 "nbformat_minor": 5
}
