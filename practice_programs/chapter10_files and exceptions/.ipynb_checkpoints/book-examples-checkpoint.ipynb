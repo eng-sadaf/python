{
 "cells": [
  {
   "cell_type": "markdown",
   "id": "a5f7cbec",
   "metadata": {},
   "source": [
    "# example from book"
   ]
  },
  {
   "cell_type": "code",
   "execution_count": 21,
   "id": "d45f0359",
   "metadata": {},
   "outputs": [
    {
     "name": "stdout",
     "output_type": "stream",
     "text": [
      "3.1415926535\n",
      "  8979323846\n",
      "  2643383279\n"
     ]
    }
   ],
   "source": [
    "#open a file called pi_digits.txt\n",
    "with open('pi_digits.txt') as file:\n",
    "    contents = file.read()\n",
    "    print(contents)"
   ]
  },
  {
   "cell_type": "code",
   "execution_count": 16,
   "id": "714e48da",
   "metadata": {},
   "outputs": [
    {
     "name": "stdout",
     "output_type": "stream",
     "text": [
      "3.1415926535\n",
      "  8979323846\n",
      "  2643383279\n"
     ]
    }
   ],
   "source": [
    "with open('pi_digits.txt') as file:\n",
    "    contents = file.read()\n",
    "    print(contents.rstrip())"
   ]
  },
  {
   "cell_type": "code",
   "execution_count": 20,
   "id": "c9e212c9",
   "metadata": {},
   "outputs": [
    {
     "name": "stdout",
     "output_type": "stream",
     "text": [
      "3.1415926535\n",
      "\n",
      "  8979323846\n",
      "\n",
      "  2643383279\n"
     ]
    }
   ],
   "source": [
    "#reading file line by line\n",
    "file_name = 'pi_digits.txt'\n",
    "with open(file_name) as file_object:\n",
    "    for line in file_object:\n",
    "        print(line)"
   ]
  },
  {
   "cell_type": "code",
   "execution_count": 19,
   "id": "06a45c83",
   "metadata": {},
   "outputs": [
    {
     "name": "stdout",
     "output_type": "stream",
     "text": [
      "3.1415926535\n",
      "  8979323846\n",
      "  2643383279\n"
     ]
    }
   ],
   "source": [
    "#removing extra lines\n",
    "file_name = 'pi_digits.txt'\n",
    "with open(file_name) as file_object:\n",
    "    for line in file_object:\n",
    "        print(line.rstrip())"
   ]
  },
  {
   "cell_type": "code",
   "execution_count": null,
   "id": "063c7033",
   "metadata": {},
   "outputs": [],
   "source": [
    "#working with file outside of with block thats why storinig lines in a list"
   ]
  },
  {
   "cell_type": "code",
   "execution_count": 23,
   "id": "a0b1dc13",
   "metadata": {},
   "outputs": [
    {
     "name": "stdout",
     "output_type": "stream",
     "text": [
      "3.1415926535\n",
      "  8979323846\n",
      "  2643383279\n"
     ]
    }
   ],
   "source": [
    "file_name = 'pi_digits.txt'\n",
    "with open(file_name) as file_object:\n",
    "    lines = file_object.readlines()\n",
    "\n",
    "for line in lines:\n",
    "    print(line.rstrip())"
   ]
  },
  {
   "cell_type": "code",
   "execution_count": 26,
   "id": "1dd168bf",
   "metadata": {},
   "outputs": [
    {
     "name": "stdout",
     "output_type": "stream",
     "text": [
      "3.1415926535\n",
      "  8979323846\n",
      "  2643383279\n",
      "38\n"
     ]
    }
   ],
   "source": [
    "#working with file contets\n",
    "#or appending all lines to a variable\n",
    "\n",
    "file_name = 'pi_digits.txt'\n",
    "with open(file_name) as file_object:\n",
    "    lines = file_object.readlines()\n",
    "\n",
    "file_text =''\n",
    "for line in lines:\n",
    "    file_text += line\n",
    "    \n",
    "print(file_text)\n",
    "print(len(file_text))\n"
   ]
  },
  {
   "cell_type": "code",
   "execution_count": 27,
   "id": "bf597c50",
   "metadata": {},
   "outputs": [
    {
     "name": "stdout",
     "output_type": "stream",
     "text": [
      "3.1415926535  8979323846  2643383279\n",
      "36\n"
     ]
    }
   ],
   "source": [
    "file_name = 'pi_digits.txt'\n",
    "with open(file_name) as file_object:\n",
    "    lines = file_object.readlines()\n",
    "\n",
    "file_text =''\n",
    "for line in lines:\n",
    "    file_text += line.rstrip()\n",
    "    \n",
    "print(file_text)\n",
    "print(len(file_text))"
   ]
  },
  {
   "cell_type": "code",
   "execution_count": 29,
   "id": "44fb80c5",
   "metadata": {},
   "outputs": [
    {
     "name": "stdout",
     "output_type": "stream",
     "text": [
      "3.141592653589793238462643383279\n",
      "32\n"
     ]
    }
   ],
   "source": [
    "file_name = 'pi_digits.txt'\n",
    "with open(file_name) as file_object:\n",
    "    lines = file_object.readlines()\n",
    "\n",
    "file_text =''\n",
    "for line in lines:\n",
    "    file_text += line.strip()\n",
    "    \n",
    "print(file_text)\n",
    "print(len(file_text))"
   ]
  },
  {
   "cell_type": "code",
   "execution_count": 30,
   "id": "c4167f90",
   "metadata": {},
   "outputs": [
    {
     "name": "stdout",
     "output_type": "stream",
     "text": [
      "3.141592653589793238462643383279502884197169399375\n",
      "1000002\n"
     ]
    }
   ],
   "source": [
    "#print first 50 srting from pi_milliondigits\n",
    "file_name = 'pi_milliondigits.txt'\n",
    "with open(file_name) as file_object:\n",
    "    lines = file_object.readlines()\n",
    "\n",
    "file_text =''\n",
    "for line in lines:\n",
    "    file_text += line.strip()\n",
    "    \n",
    "print(f\"{file_text[:50]}\")\n",
    "print(len(file_text))"
   ]
  },
  {
   "cell_type": "code",
   "execution_count": 36,
   "id": "36fc788b",
   "metadata": {},
   "outputs": [
    {
     "name": "stdout",
     "output_type": "stream",
     "text": [
      "Enter your birthday in this format (mmddyy): 120372\n",
      "Your birthdya exits in pi first million digits.\n"
     ]
    }
   ],
   "source": [
    "#is my birthday come in pi_milliondigits\n",
    "file_name = 'pi_milliondigits.txt'\n",
    "with open(file_name) as file_object:\n",
    "    lines = file_object.readlines()\n",
    "\n",
    "file_text =''\n",
    "for line in lines:\n",
    "    file_text += line.strip()\n",
    "    \n",
    "birthday = input(\"Enter your birthday in this format (mmddyy): \")\n",
    "if birthday in file_text:\n",
    "    print(\"Your birthdya exits in pi first million digits.\")\n",
    "else:\n",
    "    print(\"Your birthday does not exist in pi digits.\")\n",
    "    \n",
    "\n"
   ]
  }
 ],
 "metadata": {
  "kernelspec": {
   "display_name": "Python 3 (ipykernel)",
   "language": "python",
   "name": "python3"
  },
  "language_info": {
   "codemirror_mode": {
    "name": "ipython",
    "version": 3
   },
   "file_extension": ".py",
   "mimetype": "text/x-python",
   "name": "python",
   "nbconvert_exporter": "python",
   "pygments_lexer": "ipython3",
   "version": "3.9.12"
  }
 },
 "nbformat": 4,
 "nbformat_minor": 5
}
