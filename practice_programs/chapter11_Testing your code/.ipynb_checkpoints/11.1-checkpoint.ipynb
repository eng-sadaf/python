{
 "cells": [
  {
   "cell_type": "markdown",
   "id": "a6c2eba3",
   "metadata": {},
   "source": [
    "# 11-1. City, Country: \n",
    "Write a function that accepts two parameters: a city name and a country name. The function should return a single string of the form City, Country, such as Santiago, Chile. Store the function in a module called city_functions.py.\n",
    "Create a file called test_cities.py that tests the function you just wrote (remember that you need to import unittest and the function you want to test). Write a method called test_city_country() to verify that calling your function with values such as 'santiago' and 'chile' results in the correct string. Run test_cities.py, and make sure test_city_country() passes.\n",
    "\n",
    "(vscode)"
   ]
  },
  {
   "cell_type": "markdown",
   "id": "da8c9069",
   "metadata": {},
   "source": [
    "# 11-2. Population: \n",
    "Modify your function so it requires a third parameter, population. It should now return a single string of the form City, Country – population xxx, such as Santiago, Chile – population 5000000. Run test_cities.py again. Make sure test_city_country() fails this time.\n",
    "Modify the function so the population parameter is optional. Run test_cities.py again, and make sure test_city_country() passes again.\n",
    "Write a second test called test_city_country_population() that verifies you can call your function with the values 'santiago', 'chile', and 'population=5000000'. Run test_cities.py again, and make sure this new test spasses."
   ]
  },
  {
   "cell_type": "code",
   "execution_count": null,
   "id": "47e67db6",
   "metadata": {},
   "outputs": [],
   "source": [
    "# first condition test city fails (done)\n",
    "\"\"\"(vscode result)\n",
    "\n",
    "Traceback (most recent call last):\n",
    "  File \"f:\\pythonlearning\\practice_programs\\chapter11_Testing your code\\test_cities.py\", line 7, in test_city_country\n",
    "    formatted_name = names('santiago', 'chile')\n",
    "TypeError: names() missing 1 required positional argument: 'population'\n",
    "\n",
    "----------------------------------------------------------------------\n",
    "Ran 1 test in 0.001s\n",
    "\n",
    "FAILED (errors=1)\n",
    "\"\"\""
   ]
  },
  {
   "cell_type": "code",
   "execution_count": null,
   "id": "93d973a1",
   "metadata": {},
   "outputs": [],
   "source": [
    "#second condition passes with optional parameter\n",
    "\"\"\"\n",
    "(vscode result)\n",
    "\n",
    "Ran 1 test in 0.000s\n",
    "\n",
    "OK\n",
    "\"\"\""
   ]
  },
  {
   "cell_type": "code",
   "execution_count": null,
   "id": "d8dc91a3",
   "metadata": {},
   "outputs": [],
   "source": [
    "#third codition with second test\n",
    "\"\"\"\n",
    "(vscode result)\n",
    "\n",
    "Ran 2 tests in 0.001s\n",
    "\n",
    "OK\n",
    "\"\"\""
   ]
  },
  {
   "cell_type": "markdown",
   "id": "59163651",
   "metadata": {},
   "source": [
    "# 11-3. Employee: \n",
    "Write a class called Employee. The __init__() method should take in a first name, a last name, and an annual salary, and store each of these as attributes. Write a method called give_raise() that adds $5,000 to the annual salary by default but also accepts a different raise amount.\n",
    "Write a test case for Employee. Write two test methods, test_give_default _raise() and test_give_custom_raise(). Use the setUp() method so you don’t have to create a new employee instance in each test method. Run your test case, and make sure both tests pass."
   ]
  },
  {
   "cell_type": "code",
   "execution_count": null,
   "id": "f0b9ebfd",
   "metadata": {},
   "outputs": [],
   "source": [
    "\"\"\"\n",
    "(vscode result)\n",
    "\n",
    "..\n",
    "----------------------------------------------------------------------\n",
    "Ran 2 tests in 0.001s\n",
    "\n",
    "OK\n",
    "\n",
    "\"\"\""
   ]
  },
  {
   "cell_type": "code",
   "execution_count": null,
   "id": "55006b9c",
   "metadata": {},
   "outputs": [],
   "source": []
  }
 ],
 "metadata": {
  "kernelspec": {
   "display_name": "Python 3 (ipykernel)",
   "language": "python",
   "name": "python3"
  },
  "language_info": {
   "codemirror_mode": {
    "name": "ipython",
    "version": 3
   },
   "file_extension": ".py",
   "mimetype": "text/x-python",
   "name": "python",
   "nbconvert_exporter": "python",
   "pygments_lexer": "ipython3",
   "version": "3.9.12"
  }
 },
 "nbformat": 4,
 "nbformat_minor": 5
}
