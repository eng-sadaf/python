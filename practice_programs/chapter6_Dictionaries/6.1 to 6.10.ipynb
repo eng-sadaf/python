{
 "cells": [
  {
   "cell_type": "markdown",
   "id": "ed912eac",
   "metadata": {},
   "source": [
    "# 6-1. Person: \n",
    "Use a dictionary to store information about a person you know. Store their first name, last name, age, and the city in which they live. You should have keys such as first_name, last_name, age, and city. Print each piece of information stored in your dictionary."
   ]
  },
  {
   "cell_type": "code",
   "execution_count": 1,
   "id": "2f813ba2",
   "metadata": {},
   "outputs": [
    {
     "name": "stdout",
     "output_type": "stream",
     "text": [
      "{'first_name': 'Rabia', 'last_name': 'Aslam', 'age': 30, 'city': 'Karachi'}\n"
     ]
    }
   ],
   "source": [
    "person = {'first_name':'Rabia','last_name':'Aslam','age':30,'city':'Karachi'}\n",
    "print(person)"
   ]
  },
  {
   "cell_type": "markdown",
   "id": "d105c49d",
   "metadata": {},
   "source": [
    "# 6-2. Favorite Numbers: \n",
    "Use a dictionary to store people’s favorite numbers. Think of five names, and use them as keys in your dictionary. Think of a favorite number for each person, and store each as a value in your dictionary. Print each person’s name and their favorite number. For even more fun, poll a few friends and get some actual data for your program."
   ]
  },
  {
   "cell_type": "code",
   "execution_count": 5,
   "id": "8bc05bff",
   "metadata": {},
   "outputs": [
    {
     "name": "stdout",
     "output_type": "stream",
     "text": [
      "Aqsa favorite number is 42.\n",
      "Ayesha favorite number is 32.\n",
      "Sania favorite number is 50.\n",
      "Erum favorite number is 49.\n",
      "Ifrah favorite number is 20.\n"
     ]
    }
   ],
   "source": [
    "favorite_num = {'Aqsa':42,'Ayesha':32,'Sania':50,'Erum':49,'Ifrah':20}\n",
    "print(f\"Aqsa favorite number is {favorite_num['Aqsa']}.\")\n",
    "print(f\"Ayesha favorite number is {favorite_num['Ayesha']}.\")\n",
    "print(f\"Sania favorite number is {favorite_num['Sania']}.\")\n",
    "print(f\"Erum favorite number is {favorite_num['Erum']}.\")\n",
    "print(f\"Ifrah favorite number is {favorite_num['Ifrah']}.\")"
   ]
  },
  {
   "cell_type": "markdown",
   "id": "988acd0d",
   "metadata": {},
   "source": [
    "# 6-3. Glossary: \n",
    "A Python dictionary can be used to model an actual dictionary. However, to avoid confusion, let’s call it a glossary.\n",
    "• Think of five programming words you’ve learned about in the previous chapters. Use these words as the keys in your glossary, and store their meanings as values.\n",
    "• Print each word and its meaning as neatly formatted output. You might print the word followed by a colon and then its meaning, or print the word on one line and then print its meaning indented on a second line. Use the newline character (\\n) to insert a blank line between each word-meaning pair in your output."
   ]
  },
  {
   "cell_type": "code",
   "execution_count": 16,
   "id": "bf7ceb2f",
   "metadata": {},
   "outputs": [
    {
     "name": "stdout",
     "output_type": "stream",
     "text": [
      "extend():\n",
      "\tCan add multiple individual elements to the end of the list.\n",
      "\n",
      "append():\n",
      "\tAdds a single element to the end of the list while.\n",
      "\n",
      "clear:\n",
      "\tThe clear() function in Python removes all elements from a list.\n",
      "\n",
      "get():\n",
      "\tThe get() method returns the value of the item with the specified key.\n",
      " \n",
      "del:\n",
      "\tThe del keyword is used to delete objects.\n"
     ]
    }
   ],
   "source": [
    "p_word = {\n",
    "    'extend':'extend():\\n\\tCan add multiple individual elements to the end of the list.\\n',\n",
    "    'append':'append():\\n\\tAdds a single element to the end of the list while.\\n',\n",
    "    'clear':'clear:\\n\\tThe clear() function in Python removes all elements from a list.\\n',\n",
    "    'get':'get():\\n\\tThe get() method returns the value of the item with the specified key.\\n ',\n",
    "    'del':'del:\\n\\tThe del keyword is used to delete objects.'\n",
    "}\n",
    "print(p_word['extend'])\n",
    "print(p_word['append'])\n",
    "print(p_word['clear'])\n",
    "print(p_word['get'])\n",
    "print(p_word['del'])"
   ]
  },
  {
   "cell_type": "markdown",
   "id": "9c40b8fd",
   "metadata": {},
   "source": [
    "# 6-4. Glossary 2: \n",
    "Now that you know how to loop through a dictionary, clean up the code from Exercise 6-3 (page 99) by replacing your series of print() calls with a loop that runs through the dictionary’s keys and values. When you’re sure that your loop works, add five more Python terms to your glossary. When you run your program again, these new words and meanings should automatically be included in the output."
   ]
  },
  {
   "cell_type": "code",
   "execution_count": 8,
   "id": "63723ffb",
   "metadata": {},
   "outputs": [
    {
     "name": "stdout",
     "output_type": "stream",
     "text": [
      "Extend():\n",
      "\tCan Add Multiple Individual Elements To The End Of The List.\n",
      "\n",
      "Append():\n",
      "\tAdds A Single Element To The End Of The List While.\n",
      "\n",
      "Clear:\n",
      "\tThe Clear() Function In Python Removes All Elements From A List.\n",
      "\n",
      "Get():\n",
      "\tThe Get() Method Returns The Value Of The Item With The Specified Key.\n",
      " \n",
      "Del:\n",
      "\tThe Del Keyword Is Used To Delete Objects.\n",
      "\n",
      "String():\n",
      "\tA String Is A Series Of Characters.\n",
      "\n",
      "Float:\n",
      "\tPython Calls Any Number With A Decimal Point A Float.\n",
      "\n",
      "Sort():\n",
      "\tPython’S Sort() Method Makes It Relatively Easy To Sort A List.\n",
      "\n",
      "Sorted():\n",
      "\tTo Maintain The Original Order Of A List But Present It In A Sorted Order.\n",
      "\n",
      "Function:\n",
      "\tAfunction Is A Block Of Code Which Only Runs When It Is Called.\n",
      "\n"
     ]
    }
   ],
   "source": [
    "p_word = {\n",
    "    'extend():': '\\n\\tCan add multiple individual elements to the end of the list.\\n',\n",
    "    'append():': '\\n\\tAdds a single element to the end of the list while.\\n',\n",
    "    'clear:': '\\n\\tThe clear() function in Python removes all elements from a list.\\n',\n",
    "    'get():': '\\n\\tThe get() method returns the value of the item with the specified key.\\n ',\n",
    "    'del:': '\\n\\tThe del keyword is used to delete objects.\\n',\n",
    "    'string():': '\\n\\tA string is a series of characters.\\n',\n",
    "    'float:': '\\n\\tPython calls any number with a decimal point a float.\\n',\n",
    "    'sort():': '\\n\\tPython’s sort() method makes it relatively easy to sort a list.\\n',\n",
    "    'sorted():': '\\n\\tTo maintain the original order of a list but present it in a sorted order.\\n',\n",
    "    'function:': '\\n\\tAfunction is a block of code which only runs when it is called.\\n'\n",
    "    \n",
    "    \n",
    "}\n",
    "for keys, values in p_word.items():\n",
    "    print(f\"{keys.title()}{values.title()}\")\n",
    "    "
   ]
  },
  {
   "cell_type": "markdown",
   "id": "a75f87b8",
   "metadata": {},
   "source": [
    "# 6-5. Rivers: \n",
    "Make a dictionary containing three major rivers and the country each river runs through. One key-value pair might be 'nile': 'egypt'.\n",
    "• Use a loop to print a sentence about each river, such as The Nile runs through Egypt.\n",
    "• Use a loop to print the name of each river included in the dictionary.\n",
    "• Use a loop to print the name of each country included in the dictionary."
   ]
  },
  {
   "cell_type": "code",
   "execution_count": 4,
   "id": "33704363",
   "metadata": {},
   "outputs": [
    {
     "name": "stdout",
     "output_type": "stream",
     "text": [
      "The Nile river runs through Egypt\n",
      "The Chenab river runs through Pakistan\n",
      "The Satluj river runs through Pakistan\n",
      "\n",
      "List of Rivers: \n",
      "Nile\n",
      "Chenab\n",
      "Satluj\n",
      "\n",
      "List of Countries: \n",
      "Egypt\n",
      "Pakistan\n",
      "Pakistan\n"
     ]
    }
   ],
   "source": [
    "major_rivers = {'nile':'Egypt','Chenab':'Pakistan','Satluj':'Pakistan'}\n",
    "for k,v in major_rivers.items():\n",
    "    print(f\"The {k.title()} river runs through {v.title()}\")\n",
    "\n",
    "print(\"\\nList of Rivers: \")\n",
    "for k in major_rivers.keys():\n",
    "    print(k.title())\n",
    "    \n",
    "print(\"\\nList of Countries: \")\n",
    "for v in major_rivers.values():\n",
    "    print(v.title())\n",
    "    \n",
    "    "
   ]
  },
  {
   "cell_type": "markdown",
   "id": "638c3185",
   "metadata": {},
   "source": [
    "# 6-6. Polling: \n",
    "Use the code in favorite_languages.py (page 97).\n",
    "• Make a list of people who should take the favorite languages poll. Include some names that are already in the dictionary and some that are not.\n",
    "• Loop through the list of people who should take the poll. If they have already taken the poll, print a message thanking them for responding. If they have not yet taken the poll, print a message inviting them to take\n",
    "the poll."
   ]
  },
  {
   "cell_type": "code",
   "execution_count": 22,
   "id": "a5ef828b",
   "metadata": {},
   "outputs": [
    {
     "name": "stdout",
     "output_type": "stream",
     "text": [
      "Jen favourite language is Python\n",
      "\n",
      "Sarah favourite language is C\n",
      "\n",
      "Edward favourite language is Ruby\n",
      "\n",
      "Phil favourite language is Python\n",
      "\n",
      "***************************************\n",
      "\n",
      "Please take the poll Sadaf\n",
      "\n",
      "Thank u for responding  jen\n",
      "\n",
      "Please take the poll Rabia\n",
      "\n",
      "Thank u for responding  edward\n",
      "\n",
      "Please take the poll Sadia\n",
      "\n",
      "Thank u for responding  sarah\n"
     ]
    }
   ],
   "source": [
    "favorite_languages = {\n",
    "    'jen': 'python',\n",
    "    'sarah': 'c',\n",
    "    'edward': 'ruby',\n",
    "    'phil': 'python',\n",
    "}\n",
    "for k,v in favorite_languages.items():\n",
    "    print( k.title() + \" favourite language is \" + v.title() + \"\\n\")\n",
    "    \n",
    "print(\"***************************************\")\n",
    "    \n",
    "people = ['Sadaf','jen','Rabia','edward','Sadia','sarah']\n",
    "for poll in people:\n",
    "    if poll in favorite_languages.keys():\n",
    "        print(\"\\nThank u for responding  \" + poll)\n",
    "    if poll not in favorite_languages.keys():\n",
    "        print( \"\\nPlease take the poll \" + poll.title() )\n"
   ]
  },
  {
   "cell_type": "markdown",
   "id": "d987fe4e",
   "metadata": {},
   "source": [
    "# 6-7. People: \n",
    "Start with the program you wrote for Exercise 6-1 (page 99). Make two new dictionaries representing different people, and store all three dictionaries in a list called people. Loop through your list of people. As you loop through the list, print everything you know about each person."
   ]
  },
  {
   "cell_type": "code",
   "execution_count": 4,
   "id": "c764affc",
   "metadata": {},
   "outputs": [
    {
     "name": "stdout",
     "output_type": "stream",
     "text": [
      "{'first_name': 'Rabia', 'last_name': 'Aslam', 'age': 30, 'city': 'Karachi'}\n",
      "{'first_name': 'Sadaf', 'last_name': 'Hina', 'age': 26, 'city': 'Lahore'}\n",
      "{'first_name': 'Sadia', 'last_name': 'Akram', 'age': 32, 'city': 'Islamabad'}\n"
     ]
    }
   ],
   "source": [
    "person = {'first_name':'Rabia','last_name':'Aslam','age':30,'city':'Karachi'}\n",
    "person1 = {'first_name':'Sadaf','last_name':'Hina','age':26,'city':'Lahore'}\n",
    "person2 = {'first_name':'Sadia','last_name':'Akram','age':32,'city':'Islamabad'}\n",
    "people = [person,person1,person2]\n",
    "for p in people:\n",
    "    print(p)"
   ]
  },
  {
   "cell_type": "code",
   "execution_count": 11,
   "id": "89ef8803",
   "metadata": {},
   "outputs": [
    {
     "name": "stdout",
     "output_type": "stream",
     "text": [
      "Rabia Aslam\n",
      "\tAge :  30\n",
      "\tCity :  Karachi \n",
      "\n",
      "Sadaf Hina\n",
      "\tAge :  26\n",
      "\tCity :  Lahore \n",
      "\n",
      "Sadia Akram\n",
      "\tAge :  32\n",
      "\tCity :  Islamabad \n",
      "\n"
     ]
    }
   ],
   "source": [
    "person = {'first_name':'Rabia','last_name':'Aslam','age':30,'city':'Karachi'}\n",
    "person1 = {'first_name':'Sadaf','last_name':'Hina','age':26,'city':'Lahore'}\n",
    "person2 = {'first_name':'Sadia','last_name':'Akram','age':32,'city':'Islamabad'}\n",
    "people = [person,person1,person2]\n",
    "for p in people:\n",
    "    name = f\"{p['first_name']} {p['last_name']}\"\n",
    "    old = p['age']\n",
    "    city = p['city']\n",
    "    print(name)\n",
    "    print(\"\\tAge : \",old)\n",
    "    print(\"\\tCity : \",city,\"\\n\")"
   ]
  },
  {
   "cell_type": "markdown",
   "id": "c1a8e31b",
   "metadata": {},
   "source": [
    "# 6-8. Pets: \n",
    "Make several dictionaries, where each dictionary represents a different pet. In each dictionary, include the kind of animal and the owner’s name. Store these dictionaries in a list called pets. Next, loop through your list and as you do, print everything you know about each pet."
   ]
  },
  {
   "cell_type": "code",
   "execution_count": 15,
   "id": "c0bf1e8e",
   "metadata": {},
   "outputs": [
    {
     "name": "stdout",
     "output_type": "stream",
     "text": [
      "The pet is Dog and its Owner name is John\n",
      "The pet is Rabbit and its Owner name is Carolie\n",
      "The pet is Lion and its Owner name is Merry\n",
      "The pet is Monkey and its Owner name is Lareb\n"
     ]
    }
   ],
   "source": [
    "pet0 = {'kind':'Dog','Owner_name':'John'}\n",
    "pet1 = {'kind':'Rabbit','Owner_name':'Carolie'}\n",
    "pet2 = {'kind':'Lion','Owner_name':'Merry'}\n",
    "pet3 = {'kind':'Monkey','Owner_name':'Lareb'}\n",
    "pets = [pet0,pet1,pet2,pet3]\n",
    "for p in pets:\n",
    "    animal = f\"{p['kind']}\"\n",
    "    owner = f\"{p['Owner_name']}\"\n",
    "    print(\"The pet is\",animal,\"and its Owner name is\",owner)"
   ]
  },
  {
   "cell_type": "markdown",
   "id": "7d790762",
   "metadata": {},
   "source": [
    "# 6-9. Favorite Places:\n",
    "Make a dictionary called favorite_places. Think of three names to use as keys in the dictionary, and store one to three favorite places for each person. To make this exercise a bit more interesting, ask some friends to name a few of their favorite places. Loop through the dictionary, and print each person’s name and their favorite places."
   ]
  },
  {
   "cell_type": "code",
   "execution_count": 6,
   "id": "8b4d9c05",
   "metadata": {},
   "outputs": [
    {
     "name": "stdout",
     "output_type": "stream",
     "text": [
      "George favourite places are : \n",
      "\tSwitzerland\n",
      "\tCanada\n",
      "\tBritish\n",
      "\n",
      "\n",
      "Merry favourite places are : \n",
      "\tAmerica\n",
      "\tSouth Africa\n",
      "\tCanada\n",
      "\n",
      "\n",
      "Bisma favourite places are : \n",
      "\tPakistan\n",
      "\tSaudi Arabia\n",
      "\tDubai\n",
      "\n",
      "\n",
      "Laiba Please tell us your favourite place/places : \n",
      "pakistan\n",
      "Laiba your favourite place is :  pakistan\n"
     ]
    }
   ],
   "source": [
    "favorite_places = {\n",
    "    'George': ['Switzerland','Canada','British'],\n",
    "    'Merry': ['America','South Africa','Canada'],\n",
    "    'Bisma': ['Pakistan','Saudi Arabia','Dubai'],\n",
    "    'Laiba': []\n",
    "}\n",
    "for name,place in favorite_places.items():\n",
    "    if name == 'Laiba':\n",
    "        print(\"Laiba Please tell us your favourite place/places : \")\n",
    "        a = input()\n",
    "        favorite_places['Laiba'] = a   \n",
    "        print(\"Laiba your favourite place is : \",favorite_places['Laiba'])\n",
    "    else:\n",
    "        print(f\"{name.title()} favourite places are : \")\n",
    "        for places in place:\n",
    "            print(f\"\\t{places.title()}\")\n",
    "        print(\"\\n\")"
   ]
  },
  {
   "cell_type": "markdown",
   "id": "dbdbe888",
   "metadata": {},
   "source": [
    "# 6-10. Favorite Numbers: \n",
    "Modify your program from Exercise 6-2 (page 99) so each person can have more than one favorite number. Then print each person’s name along with their favorite numbers."
   ]
  },
  {
   "cell_type": "code",
   "execution_count": 27,
   "id": "41f102d3",
   "metadata": {},
   "outputs": [
    {
     "name": "stdout",
     "output_type": "stream",
     "text": [
      "Aqsa's favourite numbers are : \n",
      "\t42\n",
      "\t58\n",
      "Ayesha's favourite numbers are : \n",
      "\t32\n",
      "\t47\n",
      "Sania's favourite numbers are : \n",
      "\t50\n",
      "\t61\n",
      "Erum's favourite numbers are : \n",
      "\t49\n",
      "\t10\n",
      "Ifrah's favourite numbers are : \n",
      "\t20\n",
      "\t99\n"
     ]
    }
   ],
   "source": [
    "favorite_num = {\n",
    "    'Aqsa': [42,58],\n",
    "    'Ayesha': [32,47],\n",
    "    'Sania': [50,61],\n",
    "    'Erum': [49,10],\n",
    "    'Ifrah': [20,99]\n",
    "}\n",
    "for name,num in favorite_num.items():\n",
    "    print(f\"{name.title()}'s favourite numbers are : \")\n",
    "    for number in num:\n",
    "        print(f\"\\t{number}\")"
   ]
  },
  {
   "cell_type": "markdown",
   "id": "f4392464",
   "metadata": {},
   "source": [
    "# 6-11. Cities: \n",
    "Make a dictionary called cities. Use the names of three cities as keys in your dictionary. Create a dictionary of information about each city and include the country that the city is in, its approximate population, and one fact about that city. The keys for each city’s dictionary should be something like\n",
    "country, population, and fact. Print the name of each city and all of the information you have stored about it."
   ]
  },
  {
   "cell_type": "code",
   "execution_count": null,
   "id": "7a0a3db7",
   "metadata": {},
   "outputs": [],
   "source": [
    "cities = {\n",
    "    'Karachi':{\n",
    "        'country':'Pakistan',\n",
    "        'population':'22 cror',\n",
    "        'fact':''\n",
    "    },\n",
    "    'Lahore',:{\n",
    "        'country':'',\n",
    "        'population':'',\n",
    "        'fact':''       \n",
    "    },\n",
    "    'Islamabad':{\n",
    "        'country':'',\n",
    "        'population':'',\n",
    "        'fact':''         \n",
    "    }\n",
    "}"
   ]
  },
  {
   "cell_type": "markdown",
   "id": "b7cd6dc6",
   "metadata": {},
   "source": [
    "# 6-12. Extensions: \n",
    "We’re now working with examples that are complex enough that they can be extended in any number of ways. Use one of the example programs from this chapter, and extend it by adding new keys and values, changing the context of the program or improving the formatting of the output."
   ]
  },
  {
   "cell_type": "code",
   "execution_count": 23,
   "id": "466c19a1",
   "metadata": {},
   "outputs": [
    {
     "name": "stdout",
     "output_type": "stream",
     "text": [
      "{'color': 'green', 'points': 5, 'speed': 'slow'}\n",
      "{'color': 'green', 'points': 5, 'speed': 'slow'}\n",
      "{'color': 'green', 'points': 5, 'speed': 'slow'}\n",
      "{'color': 'green', 'points': 5, 'speed': 'slow'}\n",
      "{'color': 'green', 'points': 5, 'speed': 'slow'}\n",
      "{'color': 'yellow', 'points': 10, 'speed': 'medium'}\n",
      "{'color': 'yellow', 'points': 10, 'speed': 'medium'}\n",
      "{'color': 'yellow', 'points': 10, 'speed': 'medium'}\n",
      "{'color': 'yellow', 'points': 10, 'speed': 'medium'}\n",
      "{'color': 'yellow', 'points': 10, 'speed': 'medium'}\n",
      "{'color': 'red', 'points': 20, 'speed': 'fast'}\n",
      "{'color': 'red', 'points': 20, 'speed': 'fast'}\n",
      "{'color': 'red', 'points': 20, 'speed': 'fast'}\n",
      "{'color': 'red', 'points': 20, 'speed': 'fast'}\n",
      "{'color': 'red', 'points': 20, 'speed': 'fast'}\n",
      "................................................\n",
      "Total number of aliens: 15\n"
     ]
    }
   ],
   "source": [
    "# Make an empty list for storing aliens.\n",
    "aliens = []\n",
    "\n",
    "# Make 30 green aliens.\n",
    "for green_alien in range(5):\n",
    "    new_alien = {'color': 'green', 'points': 5, 'speed': 'slow'}\n",
    "    aliens.append(new_alien)\n",
    "\n",
    "for yellow_alien in range(5):\n",
    "    new_alien = {'color': 'yellow', 'points': 10, 'speed': 'medium'}\n",
    "    aliens.append(new_alien)\n",
    "    \n",
    "for red_alien in range(5):\n",
    "    new_alien = {'color': 'red', 'points': 20, 'speed': 'fast'}\n",
    "    aliens.append(new_alien)\n",
    "    \n",
    "# Show the first 5 aliens.\n",
    "for alien in aliens:\n",
    "    print(alien)\n",
    "print(\"................................................\")\n",
    "\n",
    "# Show how many aliens have been created.\n",
    "print(f\"Total number of aliens: {len(aliens)}\")"
   ]
  }
 ],
 "metadata": {
  "kernelspec": {
   "display_name": "Python 3 (ipykernel)",
   "language": "python",
   "name": "python3"
  },
  "language_info": {
   "codemirror_mode": {
    "name": "ipython",
    "version": 3
   },
   "file_extension": ".py",
   "mimetype": "text/x-python",
   "name": "python",
   "nbconvert_exporter": "python",
   "pygments_lexer": "ipython3",
   "version": "3.9.12"
  }
 },
 "nbformat": 4,
 "nbformat_minor": 5
}
