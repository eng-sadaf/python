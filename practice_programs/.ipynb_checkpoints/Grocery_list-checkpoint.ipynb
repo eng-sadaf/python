{
 "cells": [
  {
   "cell_type": "code",
   "execution_count": 5,
   "id": "e9b841d5",
   "metadata": {},
   "outputs": [
    {
     "name": "stdout",
     "output_type": "stream",
     "text": [
      "['Milk', 'Cheese', 'Sugar', 'Oil', 'Meat', 'Eggs', 'Bread', 'Spices', 'Rice', 'Jam']\n",
      "input value:Milk\n",
      "['Cheese', 'Sugar', 'Oil', 'Meat', 'Eggs', 'Bread', 'Spices', 'Rice', 'Jam']\n",
      "input value:Sugar\n",
      "['Cheese', 'Oil', 'Meat', 'Eggs', 'Bread', 'Spices', 'Rice', 'Jam']\n",
      "input value:Oil\n",
      "['Cheese', 'Meat', 'Eggs', 'Bread', 'Spices', 'Rice', 'Jam']\n",
      "input value:Eggs\n",
      "['Cheese', 'Meat', 'Bread', 'Spices', 'Rice', 'Jam']\n",
      "input value:Bread\n",
      "['Cheese', 'Meat', 'Spices', 'Rice', 'Jam']\n",
      "input value:Spices\n",
      "['Cheese', 'Meat', 'Rice', 'Jam']\n",
      "input value:Cheese\n",
      "['Meat', 'Rice', 'Jam']\n",
      "input value:Meat\n",
      "['Rice', 'Jam']\n",
      "input value:Rice\n",
      "['Jam']\n",
      "input value:Jam\n",
      "[]\n",
      "Here is Your Bought list:\n",
      "['Milk', 'Sugar', 'Oil', 'Eggs', 'Bread', 'Spices', 'Cheese', 'Meat', 'Rice', 'Jam']\n"
     ]
    }
   ],
   "source": [
    "list = ['Milk','Cheese','Sugar','Oil','Meat','Eggs','Bread','Spices','Rice','Jam']\n",
    "print (list)\n",
    "final_list = []\n",
    "i =1\n",
    "while i<=10: \n",
    " x = input(\"input value:\")\n",
    " list.remove(x)\n",
    " print(list)\n",
    " final_list.append(x)\n",
    " \n",
    " i = i+1\n",
    "else:\n",
    " print (\"Here is Your Bought list:\" )\n",
    " print (final_list)"
   ]
  },
  {
   "cell_type": "code",
   "execution_count": null,
   "id": "7ec97f31",
   "metadata": {},
   "outputs": [],
   "source": []
  }
 ],
 "metadata": {
  "kernelspec": {
   "display_name": "Python 3 (ipykernel)",
   "language": "python",
   "name": "python3"
  },
  "language_info": {
   "codemirror_mode": {
    "name": "ipython",
    "version": 3
   },
   "file_extension": ".py",
   "mimetype": "text/x-python",
   "name": "python",
   "nbconvert_exporter": "python",
   "pygments_lexer": "ipython3",
   "version": "3.9.12"
  }
 },
 "nbformat": 4,
 "nbformat_minor": 5
}
