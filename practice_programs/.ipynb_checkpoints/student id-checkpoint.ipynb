{
 "cells": [
  {
   "cell_type": "code",
   "execution_count": 36,
   "id": "da1fda3c",
   "metadata": {},
   "outputs": [
    {
     "name": "stdout",
     "output_type": "stream",
     "text": [
      "Enter Roll Number : 00123\n",
      "Enter Name : sadaf\n",
      "Enter your Father name : zahid\n",
      "Enter your obtained marks : 750\n",
      "results :  <bound method Student.printresult of <__main__.Student object at 0x000001661285E610>>\n"
     ]
    }
   ],
   "source": [
    "class Student:\n",
    "    def getStudentDetails(self):\n",
    "        self.rollno=input(\"Enter Roll Number : \")\n",
    "        self.name = input(\"Enter Name : \")\n",
    "        self.fname = input(\"Enter your Father name : \")\n",
    "        self.obtain_marks =int(input(\"Enter your obtained marks : \"))\n",
    "    def printresult(self):\n",
    "        self.percentage = (int)(obtain_marks / 1100 * 100)\n",
    "\n",
    "x = Student()\n",
    "x.getStudentDetails()\n",
    "print(\"results : \",x.printresult)"
   ]
  }
 ],
 "metadata": {
  "kernelspec": {
   "display_name": "Python 3 (ipykernel)",
   "language": "python",
   "name": "python3"
  },
  "language_info": {
   "codemirror_mode": {
    "name": "ipython",
    "version": 3
   },
   "file_extension": ".py",
   "mimetype": "text/x-python",
   "name": "python",
   "nbconvert_exporter": "python",
   "pygments_lexer": "ipython3",
   "version": "3.9.12"
  }
 },
 "nbformat": 4,
 "nbformat_minor": 5
}
