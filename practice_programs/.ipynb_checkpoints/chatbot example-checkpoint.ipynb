{
 "cells": [
  {
   "cell_type": "code",
   "execution_count": null,
   "id": "0c339d0f",
   "metadata": {},
   "outputs": [
    {
     "name": "stdout",
     "output_type": "stream",
     "text": [
      "You: sadaf\n",
      "Chatbot: I'm sorry, I didn't understand what you said.\n",
      "You: hello\n",
      "Chatbot: I'm sorry, I didn't understand what you said.\n",
      "You: jjj\n",
      "Chatbot: I'm sorry, I didn't understand what you said.\n",
      "You: bk\n",
      "Chatbot: I'm sorry, I didn't understand what you said.\n"
     ]
    }
   ],
   "source": [
    "import random\n",
    "\n",
    "# List of possible responses\n",
    "responses = {\n",
    "    \"hi\": [\"Hello!\", \"Hi there!\", \"Hey!\"],\n",
    "    \"how are you\": [\"I'm doing well, thanks!\", \"I'm great, thanks for asking!\", \"I'm doing okay.\"],\n",
    "    \"bye\": [\"Goodbye!\", \"See you later!\", \"Bye!\"]\n",
    "}\n",
    "\n",
    "# Function to get a response from the chatbot\n",
    "def get_response(message):\n",
    "    message = message.lower()\n",
    "    if message in responses:\n",
    "        return random.choice(responses[message])\n",
    "    else:\n",
    "        return \"I'm sorry, I didn't understand what you said.\"\n",
    "\n",
    "# Main loop\n",
    "while True:\n",
    "    message = input(\"You: \")\n",
    "    if message.lower() == \"bye\":\n",
    "        print(\"Chatbot: \" + get_response(message))\n",
    "        break\n",
    "    else:\n",
    "        print(\"Chatbot: \" + get_response(message))"
   ]
  },
  {
   "cell_type": "code",
   "execution_count": null,
   "id": "a77fa676",
   "metadata": {},
   "outputs": [],
   "source": []
  }
 ],
 "metadata": {
  "kernelspec": {
   "display_name": "Python 3 (ipykernel)",
   "language": "python",
   "name": "python3"
  },
  "language_info": {
   "codemirror_mode": {
    "name": "ipython",
    "version": 3
   },
   "file_extension": ".py",
   "mimetype": "text/x-python",
   "name": "python",
   "nbconvert_exporter": "python",
   "pygments_lexer": "ipython3",
   "version": "3.9.12"
  }
 },
 "nbformat": 4,
 "nbformat_minor": 5
}
