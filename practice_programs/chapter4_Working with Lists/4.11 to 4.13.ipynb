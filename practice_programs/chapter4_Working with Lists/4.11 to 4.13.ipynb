{
 "cells": [
  {
   "cell_type": "markdown",
   "id": "8a8b9663",
   "metadata": {},
   "source": [
    "# 4.11 . My Pizzas, Your Pizzas:\n",
    "Start with your program from Exercise 4-1 (page 56). Make a copy of the list of pizzas, and call it friend_pizzas.\n",
    "Then, do the following:\n",
    "• Add a new pizza to the original list.\n",
    "• Add a different pizza to the list friend_pizzas.\n",
    "• Prove that you have two separate lists. Print the message My favorite pizzas are:, and then use a for loop to print the first list. Print the message My friend’s favorite pizzas are:, and then use a for loop to print the second list. Make sure each new pizza is stored in the appropriate list."
   ]
  },
  {
   "cell_type": "code",
   "execution_count": 7,
   "id": "643d7bcd",
   "metadata": {},
   "outputs": [
    {
     "name": "stdout",
     "output_type": "stream",
     "text": [
      "My favorite pizzas are:\n",
      "Cheese Pizza\n",
      "Veggie Pizza\n",
      "BBQ Pizza\n",
      "Pepperoni Pizza\n",
      "My friend’s favorite pizzas are:\n",
      "Cheese Pizza\n",
      "Veggie Pizza\n",
      "BBQ Pizza\n",
      "Meat Pizza\n"
     ]
    }
   ],
   "source": [
    "pizzas = [\"Cheese Pizza\",\"Veggie Pizza\",\"BBQ Pizza\"]\n",
    "friend_pizza = pizzas[:]\n",
    "\n",
    "pizzas.append(\"Pepperoni Pizza\")\n",
    "friend_pizza.append(\"Meat Pizza\")\n",
    "\n",
    "print (\"My favorite pizzas are:\")\n",
    "for pizza in pizzas[:]:\n",
    "    print (pizza)\n",
    "    \n",
    "print (\"My friend’s favorite pizzas are:\")\n",
    "for fpizza in friend_pizza:\n",
    "    print(fpizza)"
   ]
  },
  {
   "cell_type": "markdown",
   "id": "08d98f9b",
   "metadata": {},
   "source": [
    "# Buffet: \n",
    "A buffet-style restaurant offers only five basic foods. Think of five simple foods, and store them in a tuple.\n",
    "• Use a for loop to print each food the restaurant offers.\n",
    "• Try to modify one of the items, and make sure that Python rejects the change.\n",
    "• The restaurant changes its menu, replacing two of the items with different foods. Add a line that rewrites the tuple, and then use a for loop to print each of the items on the revised menu."
   ]
  },
  {
   "cell_type": "code",
   "execution_count": 8,
   "id": "d7566cef",
   "metadata": {},
   "outputs": [
    {
     "name": "stdout",
     "output_type": "stream",
     "text": [
      "Burger\n",
      "Boiled Rice\n",
      "BBQ\n",
      "Spegetti\n",
      "Macroni\n",
      "\n",
      "Here is our revised menu:\n",
      "Burger\n",
      "Boiled Rice\n",
      "Chicken Roll\n",
      "Spegetti\n",
      "Noodles\n"
     ]
    }
   ],
   "source": [
    "restaurant_menu = ('Burger','Boiled Rice','BBQ','Spegetti','Macroni')\n",
    "for menu in restaurant_menu:\n",
    "    print (menu)\n",
    "\n",
    "#restaurant_menu[0] = 'Noodles'       #error occurs\n",
    "restaurant_menu = ('Burger','Boiled Rice','Chicken Roll','Spegetti','Noodles')\n",
    "print (\"\\nHere is our revised menu:\")\n",
    "for menu in restaurant_menu:\n",
    "    \n",
    "    print (menu)"
   ]
  },
  {
   "cell_type": "code",
   "execution_count": null,
   "id": "db1e8422",
   "metadata": {},
   "outputs": [],
   "source": []
  },
  {
   "cell_type": "code",
   "execution_count": null,
   "id": "1082e32e",
   "metadata": {},
   "outputs": [],
   "source": []
  }
 ],
 "metadata": {
  "kernelspec": {
   "display_name": "Python 3 (ipykernel)",
   "language": "python",
   "name": "python3"
  },
  "language_info": {
   "codemirror_mode": {
    "name": "ipython",
    "version": 3
   },
   "file_extension": ".py",
   "mimetype": "text/x-python",
   "name": "python",
   "nbconvert_exporter": "python",
   "pygments_lexer": "ipython3",
   "version": "3.9.12"
  }
 },
 "nbformat": 4,
 "nbformat_minor": 5
}
