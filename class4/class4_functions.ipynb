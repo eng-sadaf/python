{
 "cells": [
  {
   "cell_type": "markdown",
   "id": "ade837de",
   "metadata": {},
   "source": [
    "# function\n",
    "```\n",
    "def function_name(arg1,arg2,..):\n",
    "    statment1\n",
    "\n",
    "function_name(\"a\",\"b\")\n",
    "\n",
    "```"
   ]
  },
  {
   "cell_type": "markdown",
   "id": "2c97f1d5",
   "metadata": {},
   "source": [
    "# String Formation"
   ]
  },
  {
   "cell_type": "code",
   "execution_count": 11,
   "id": "0d03a14d",
   "metadata": {},
   "outputs": [],
   "source": [
    "name = \"Muhammad \\\"Q\\\"asim\"\n",
    "fname = 'Muhammad \"A\"slam'\n",
    "education = \"MSDS\"\n",
    "roll_no = 111"
   ]
  },
  {
   "cell_type": "code",
   "execution_count": 4,
   "id": "3265ec55",
   "metadata": {},
   "outputs": [
    {
     "name": "stdout",
     "output_type": "stream",
     "text": [
      "Muhammad \"Q\"asim\n",
      "Muhammad \"A\"slam\n",
      "MSDS\n",
      "111\n"
     ]
    }
   ],
   "source": [
    "print(name)\n",
    "print(fname)\n",
    "print(education)\n",
    "print(roll_no)"
   ]
  },
  {
   "cell_type": "code",
   "execution_count": 7,
   "id": "8827f367",
   "metadata": {},
   "outputs": [
    {
     "data": {
      "text/plain": [
       "\"\\nNED University\\nBatch-3\\n\\nroll no: 122\\nstudent name: ABC\\nFather's Name: xyz\\nEducation: aaa\\n\""
      ]
     },
     "execution_count": 7,
     "metadata": {},
     "output_type": "execute_result"
    }
   ],
   "source": [
    "card = \"\"\"\n",
    "NED University\n",
    "Batch-3\n",
    "\n",
    "roll no: 122\n",
    "student name: ABC\n",
    "Father's Name: xyz\n",
    "Education: aaa\n",
    "\"\"\"\n",
    "card"
   ]
  },
  {
   "cell_type": "code",
   "execution_count": 12,
   "id": "05658ed1",
   "metadata": {},
   "outputs": [
    {
     "ename": "TypeError",
     "evalue": "can only concatenate str (not \"int\") to str",
     "output_type": "error",
     "traceback": [
      "\u001b[1;31m---------------------------------------------------------------------------\u001b[0m",
      "\u001b[1;31mTypeError\u001b[0m                                 Traceback (most recent call last)",
      "Input \u001b[1;32mIn [12]\u001b[0m, in \u001b[0;36m<cell line: 1>\u001b[1;34m()\u001b[0m\n\u001b[1;32m----> 1\u001b[0m \u001b[38;5;124;43m\"\u001b[39;49m\u001b[38;5;124;43mStudent Name: \u001b[39;49m\u001b[38;5;124;43m\"\u001b[39;49m\u001b[43m \u001b[49m\u001b[38;5;241;43m+\u001b[39;49m\u001b[43m \u001b[49m\u001b[43mname\u001b[49m\u001b[43m \u001b[49m\u001b[38;5;241;43m+\u001b[39;49m\u001b[43m \u001b[49m\u001b[38;5;124;43m\"\u001b[39;49m\u001b[38;5;130;43;01m\\n\u001b[39;49;00m\u001b[38;5;124;43m Roll no: \u001b[39;49m\u001b[38;5;124;43m\"\u001b[39;49m\u001b[43m \u001b[49m\u001b[38;5;241;43m+\u001b[39;49m\u001b[43m \u001b[49m\u001b[43mroll_no\u001b[49m\n",
      "\u001b[1;31mTypeError\u001b[0m: can only concatenate str (not \"int\") to str"
     ]
    }
   ],
   "source": [
    "\"Student Name: \" + name + \"\\n Roll no: \" + roll_no"
   ]
  },
  {
   "cell_type": "code",
   "execution_count": 13,
   "id": "2fb259b1",
   "metadata": {},
   "outputs": [
    {
     "data": {
      "text/plain": [
       "'Student Name: Muhammad \"Q\"asim\\n Roll no: 111'"
      ]
     },
     "execution_count": 13,
     "metadata": {},
     "output_type": "execute_result"
    }
   ],
   "source": [
    "\"Student Name: \" + name + \"\\n Roll no: \" + str(roll_no)"
   ]
  },
  {
   "cell_type": "code",
   "execution_count": null,
   "id": "0eb7603d",
   "metadata": {},
   "outputs": [],
   "source": []
  },
  {
   "cell_type": "code",
   "execution_count": null,
   "id": "64fd808e",
   "metadata": {},
   "outputs": [],
   "source": []
  },
  {
   "cell_type": "code",
   "execution_count": 16,
   "id": "2d6a14a3",
   "metadata": {},
   "outputs": [
    {
     "name": "stdout",
     "output_type": "stream",
     "text": [
      "NED University\n",
      "Batch-3\n",
      "\n",
      "roll no: 111\n",
      "student name: Muhammad Qasim\n",
      "Father's Name: Muhammad Aslam\n",
      "Education: MSDS\n"
     ]
    }
   ],
   "source": [
    "name = \"Muhammad Qasim\"\n",
    "fname = 'Muhammad Aslam'\n",
    "education = \"MSDS\"\n",
    "roll_no = 111\n",
    "\n",
    "card = \"NED University\\nBatch-3\\n\\nroll no: \"+ str(roll_no)+\"\\nstudent name: \"+ name + \"\\nFather's Name: \"+fname+\"\\nEducation: \"+ education\n",
    "\n",
    "print(card)"
   ]
  },
  {
   "cell_type": "code",
   "execution_count": 17,
   "id": "f339b1cf",
   "metadata": {},
   "outputs": [
    {
     "name": "stdout",
     "output_type": "stream",
     "text": [
      "\n",
      "NED University\n",
      "Batch-3\n",
      "\n",
      "roll no: 111\n",
      "student name: Muhammad Qasim\n",
      "Father's Name: Muhammad Aslam\n",
      "Education: MSDS\n",
      "\n"
     ]
    }
   ],
   "source": [
    "\n",
    "name = \"Muhammad Qasim\"\n",
    "fname = 'Muhammad Aslam'\n",
    "education = \"MSDS\"\n",
    "roll_no = 111\n",
    "\n",
    "card = \"\"\"\n",
    "NED University\n",
    "Batch-3\n",
    "\n",
    "roll no: {}\n",
    "student name: {}\n",
    "Father's Name: {}\n",
    "Education: {}\n",
    "\"\"\".format(roll_no, name, fname, education)\n",
    "\n",
    "print(card)"
   ]
  },
  {
   "cell_type": "code",
   "execution_count": 19,
   "id": "d63b51b5",
   "metadata": {},
   "outputs": [
    {
     "name": "stdout",
     "output_type": "stream",
     "text": [
      "\n",
      "NED University\n",
      "Batch-3\n",
      "\n",
      "roll no: 111\n",
      "student name: Muhammad Qasim\n",
      "Father's Name: Muhammad Aslam\n",
      "Education: MSDS\n",
      "\n"
     ]
    }
   ],
   "source": [
    "\n",
    "name = \"Muhammad Qasim\"\n",
    "fname = 'Muhammad Aslam'\n",
    "education = \"MSDS\"\n",
    "roll_no = 111\n",
    "\n",
    "card = \"\"\"\n",
    "NED University\n",
    "Batch-3\n",
    "\n",
    "roll no: {1}\n",
    "student name: {2}\n",
    "Father's Name: {3}\n",
    "Education: {0}\n",
    "\"\"\".format(education, roll_no, name, fname)\n",
    "\n",
    "print(card)"
   ]
  },
  {
   "cell_type": "code",
   "execution_count": 21,
   "id": "2d316b17",
   "metadata": {},
   "outputs": [
    {
     "name": "stdout",
     "output_type": "stream",
     "text": [
      "\n",
      "NED University\n",
      "Batch-3\n",
      "\n",
      "roll no: 111\n",
      "student name: Muhammad Qasim\n",
      "Father's Name: Muhammad Aslam\n",
      "Education: MSDS\n",
      "\n"
     ]
    }
   ],
   "source": [
    "\n",
    "name = \"Muhammad Qasim\"\n",
    "fname = 'Muhammad Aslam'\n",
    "education = \"MSDS\"\n",
    "roll_no = 111\n",
    "\n",
    "card = f\"\"\"\n",
    "NED University\n",
    "Batch-3\n",
    "\n",
    "roll no: {roll_no}\n",
    "student name: {name}\n",
    "Father's Name: {fname}\n",
    "Education: {education}\n",
    "\"\"\"\n",
    "\n",
    "print(card)"
   ]
  },
  {
   "cell_type": "code",
   "execution_count": null,
   "id": "1a699066",
   "metadata": {},
   "outputs": [],
   "source": []
  },
  {
   "cell_type": "code",
   "execution_count": null,
   "id": "52f15f93",
   "metadata": {},
   "outputs": [],
   "source": []
  },
  {
   "cell_type": "code",
   "execution_count": 8,
   "id": "cf6ae8d2",
   "metadata": {},
   "outputs": [
    {
     "name": "stdout",
     "output_type": "stream",
     "text": [
      "\n",
      "NED University\n",
      "Batch-3\n",
      "\n",
      "roll no: 122\n",
      "student name: ABC\n",
      "Father's Name: xyz\n",
      "Education: aaa\n",
      "\n"
     ]
    }
   ],
   "source": [
    "print(card)"
   ]
  },
  {
   "cell_type": "code",
   "execution_count": 22,
   "id": "995c3966",
   "metadata": {},
   "outputs": [
    {
     "name": "stdout",
     "output_type": "stream",
     "text": [
      "Add two number\n",
      "Number 7 and Number 20 = 27\n"
     ]
    }
   ],
   "source": [
    "def add_two_numbers(num1, num2):# function define\n",
    "    print(\"Add two number\")\n",
    "    print(f\"Number {num1} and Number {num2} = {num1+num2}\")\n",
    "    \n",
    "    \n",
    "add_two_numbers(7,20)"
   ]
  },
  {
   "cell_type": "code",
   "execution_count": 23,
   "id": "8753f76c",
   "metadata": {},
   "outputs": [
    {
     "name": "stdout",
     "output_type": "stream",
     "text": [
      "Add two number\n",
      "Number 1 and Number 9 = 10\n",
      "Add two number\n",
      "Number 20 and Number 5 = 25\n"
     ]
    }
   ],
   "source": [
    "add_two_numbers(1,9)\n",
    "add_two_numbers(20,5)"
   ]
  },
  {
   "cell_type": "code",
   "execution_count": 25,
   "id": "d941d960",
   "metadata": {},
   "outputs": [
    {
     "name": "stdout",
     "output_type": "stream",
     "text": [
      "\n",
      "    NED University\n",
      "    Batch-3\n",
      "\n",
      "    roll no: 1\n",
      "    student name: Qasim\n",
      "    Father's Name: Aslam\n",
      "    Education: MSDS\n",
      "    \n"
     ]
    }
   ],
   "source": [
    "def id_card(roll_no, name, fname, education):\n",
    "    card = f\"\"\"\n",
    "    NED University\n",
    "    Batch-3\n",
    "\n",
    "    roll no: {roll_no}\n",
    "    student name: {name}\n",
    "    Father's Name: {fname}\n",
    "    Education: {education}\n",
    "    \"\"\"\n",
    "    return card\n",
    "\n",
    "print(id_card(1,\"Qasim\",\"Aslam\",\"MSDS\"))"
   ]
  },
  {
   "cell_type": "code",
   "execution_count": 26,
   "id": "4c7b1169",
   "metadata": {},
   "outputs": [
    {
     "name": "stdout",
     "output_type": "stream",
     "text": [
      "\n",
      "    NED University\n",
      "    Batch-3\n",
      "\n",
      "    roll no: 2\n",
      "    student name: Asif\n",
      "    Father's Name: Abid\n",
      "    Education: MSDS\n",
      "    \n"
     ]
    }
   ],
   "source": [
    "print(id_card(2,\"Asif\",\"Abid\",\"MSDS\"))"
   ]
  },
  {
   "cell_type": "code",
   "execution_count": null,
   "id": "28e3b4e0",
   "metadata": {},
   "outputs": [],
   "source": [
    "print(id_card(1,\"Qasim\",\"Aslam\",\"MSDS\"))"
   ]
  },
  {
   "cell_type": "code",
   "execution_count": 27,
   "id": "efa4cdfa",
   "metadata": {},
   "outputs": [
    {
     "ename": "TypeError",
     "evalue": "id_card() missing 1 required positional argument: 'education'",
     "output_type": "error",
     "traceback": [
      "\u001b[1;31m---------------------------------------------------------------------------\u001b[0m",
      "\u001b[1;31mTypeError\u001b[0m                                 Traceback (most recent call last)",
      "Input \u001b[1;32mIn [27]\u001b[0m, in \u001b[0;36m<cell line: 1>\u001b[1;34m()\u001b[0m\n\u001b[1;32m----> 1\u001b[0m \u001b[43mid_card\u001b[49m\u001b[43m(\u001b[49m\u001b[38;5;241;43m3\u001b[39;49m\u001b[43m,\u001b[49m\u001b[38;5;124;43m\"\u001b[39;49m\u001b[38;5;124;43mABC\u001b[39;49m\u001b[38;5;124;43m\"\u001b[39;49m\u001b[43m,\u001b[49m\u001b[38;5;124;43m\"\u001b[39;49m\u001b[38;5;124;43mXYx\u001b[39;49m\u001b[38;5;124;43m\"\u001b[39;49m\u001b[43m)\u001b[49m\n",
      "\u001b[1;31mTypeError\u001b[0m: id_card() missing 1 required positional argument: 'education'"
     ]
    }
   ],
   "source": [
    "id_card(3,\"ABC\",\"XYx\")"
   ]
  },
  {
   "cell_type": "code",
   "execution_count": 29,
   "id": "eb6fe796",
   "metadata": {},
   "outputs": [
    {
     "name": "stdout",
     "output_type": "stream",
     "text": [
      "\n",
      "    NED University\n",
      "    Batch-3\n",
      "\n",
      "    roll no: Qasim\n",
      "    student name: MSDS\n",
      "    Father's Name: Aslam\n",
      "    Education: 123\n",
      "    \n"
     ]
    }
   ],
   "source": [
    "print(id_card(\"Qasim\",\"MSDS\",\"Aslam\",123))"
   ]
  },
  {
   "cell_type": "code",
   "execution_count": 31,
   "id": "22670279",
   "metadata": {},
   "outputs": [
    {
     "name": "stdout",
     "output_type": "stream",
     "text": [
      "\n",
      "    NED University\n",
      "    Batch-3\n",
      "\n",
      "    roll no: 123\n",
      "    student name: Qasim\n",
      "    Father's Name: Aslam\n",
      "    Education: MSDS\n",
      "    \n"
     ]
    }
   ],
   "source": [
    "print(id_card(name=\"Qasim\", education=\"MSDS\", fname=\"Aslam\",roll_no=123))"
   ]
  },
  {
   "cell_type": "code",
   "execution_count": 32,
   "id": "65d5bbeb",
   "metadata": {},
   "outputs": [
    {
     "name": "stdout",
     "output_type": "stream",
     "text": [
      "\n",
      "    NED University\n",
      "    Batch-3\n",
      "\n",
      "    roll no: 123\n",
      "    student name: Qasim\n",
      "    Father's Name: Aslam\n",
      "    Education: MSDS\n",
      "    \n"
     ]
    }
   ],
   "source": [
    "s1 = [123,\"Qasim\",\"Aslam\",\"MSDS\"]\n",
    "print(id_card(s1[0], s1[1],s1[2], s1[3]))"
   ]
  },
  {
   "cell_type": "code",
   "execution_count": 33,
   "id": "852fbba4",
   "metadata": {},
   "outputs": [
    {
     "name": "stdout",
     "output_type": "stream",
     "text": [
      "1\n",
      "2\n",
      "3\n"
     ]
    }
   ],
   "source": [
    "a,b,c = [1,2,3] # unzip\n",
    "print(a)\n",
    "print(b)\n",
    "print(c)"
   ]
  },
  {
   "cell_type": "code",
   "execution_count": 34,
   "id": "3ccc8893",
   "metadata": {},
   "outputs": [
    {
     "name": "stdout",
     "output_type": "stream",
     "text": [
      "\n",
      "    NED University\n",
      "    Batch-3\n",
      "\n",
      "    roll no: 123\n",
      "    student name: Qasim\n",
      "    Father's Name: Aslam\n",
      "    Education: MSDS\n",
      "    \n"
     ]
    }
   ],
   "source": [
    "s1 = [123,\"Qasim\",\"Aslam\",\"MSDS\"]\n",
    "print(id_card(*s1))"
   ]
  },
  {
   "cell_type": "code",
   "execution_count": 35,
   "id": "8067a81d",
   "metadata": {},
   "outputs": [
    {
     "name": "stdout",
     "output_type": "stream",
     "text": [
      "\n",
      "    NED University\n",
      "    Batch-3\n",
      "\n",
      "    roll no: 200\n",
      "    student name: Muhammad Qasim\n",
      "    Father's Name: Muhammad Aslam\n",
      "    Education: MSDS\n",
      "    \n"
     ]
    }
   ],
   "source": [
    "s1 = {\"education\":\"MSDS\",\n",
    "     \"name\":\"Muhammad Qasim\",\n",
    "     \"fname\":\"Muhammad Aslam\",\n",
    "     \"roll_no\":200}\n",
    "# print(id_card(name=\"Qasim\", education=\"MSDS\", fname=\"Aslam\",roll_no=123))\n",
    "print(id_card(**s1))"
   ]
  },
  {
   "cell_type": "markdown",
   "id": "55f4bdb2",
   "metadata": {},
   "source": [
    "# Optional argument n number"
   ]
  },
  {
   "cell_type": "code",
   "execution_count": 38,
   "id": "709f7195",
   "metadata": {},
   "outputs": [
    {
     "name": "stdout",
     "output_type": "stream",
     "text": [
      "100 200 (1, 2, 3, 4, 5)\n"
     ]
    }
   ],
   "source": [
    "def my_sum(num1, num2, *num):\n",
    "    print(num1 , num2 , num)\n",
    "    \n",
    "    \n",
    "    \n",
    "my_sum(100,200,1,2,3,4,5)"
   ]
  },
  {
   "cell_type": "code",
   "execution_count": 42,
   "id": "57efbfab",
   "metadata": {},
   "outputs": [
    {
     "name": "stdout",
     "output_type": "stream",
     "text": [
      "100 200 (1, 2, 3, 4, 5)\n"
     ]
    },
    {
     "data": {
      "text/plain": [
       "315"
      ]
     },
     "execution_count": 42,
     "metadata": {},
     "output_type": "execute_result"
    }
   ],
   "source": [
    "def my_sum(num1, num2, *num):\n",
    "    print(num1 , num2 , num)\n",
    "\n",
    "    output = num1 + num2\n",
    "    for n in num:\n",
    "        output += n\n",
    "        \n",
    "    return output\n",
    "    \n",
    "    \n",
    "    \n",
    "    \n",
    "my_sum(100,200,1,2,3,4,5)"
   ]
  },
  {
   "cell_type": "code",
   "execution_count": 44,
   "id": "2f97a17c",
   "metadata": {},
   "outputs": [
    {
     "name": "stdout",
     "output_type": "stream",
     "text": [
      "100 200 {'num3': 7, 'num8': 20, 'pak': '123', 'abc': 'xyz'}\n"
     ]
    },
    {
     "data": {
      "text/plain": [
       "327"
      ]
     },
     "execution_count": 44,
     "metadata": {},
     "output_type": "execute_result"
    }
   ],
   "source": [
    "def my_sum(num1, num2, **num):\n",
    "    print(num1 , num2 , num)\n",
    "    output = num1 + num2\n",
    "    \n",
    "    for n in num.values():\n",
    "        if type(n) is type(1):\n",
    "            output += n\n",
    "            \n",
    "    return output\n",
    "    \n",
    "    \n",
    "    \n",
    "my_sum(100,200,num3=7, num8=20, pak='123', abc=\"xyz\")"
   ]
  },
  {
   "cell_type": "code",
   "execution_count": null,
   "id": "5b464a70",
   "metadata": {},
   "outputs": [],
   "source": [
    "def my_sum(num1, num2, **num):\n",
    "    print(num1 , num2 , num)\n",
    "    \n",
    "    \n",
    "    \n",
    "my_sum(100,200,num3=7, num8=20, pak='123')"
   ]
  },
  {
   "cell_type": "code",
   "execution_count": 40,
   "id": "69c6e4ad",
   "metadata": {},
   "outputs": [
    {
     "name": "stdout",
     "output_type": "stream",
     "text": [
      "100 200 (1, 2, 3, 4, 5)\n",
      "315\n"
     ]
    }
   ],
   "source": [
    "def my_sum(num1, num2, *num):\n",
    "    print(num1 , num2 , num)\n",
    "    print(num1 + num2 + sum(num))\n",
    "    \n",
    "    \n",
    "    \n",
    "my_sum(100,200,1,2,3,4,5)"
   ]
  },
  {
   "cell_type": "code",
   "execution_count": 45,
   "id": "5bfde945",
   "metadata": {},
   "outputs": [
    {
     "name": "stdout",
     "output_type": "stream",
     "text": [
      "The Zen of Python, by Tim Peters\n",
      "\n",
      "Beautiful is better than ugly.\n",
      "Explicit is better than implicit.\n",
      "Simple is better than complex.\n",
      "Complex is better than complicated.\n",
      "Flat is better than nested.\n",
      "Sparse is better than dense.\n",
      "Readability counts.\n",
      "Special cases aren't special enough to break the rules.\n",
      "Although practicality beats purity.\n",
      "Errors should never pass silently.\n",
      "Unless explicitly silenced.\n",
      "In the face of ambiguity, refuse the temptation to guess.\n",
      "There should be one-- and preferably only one --obvious way to do it.\n",
      "Although that way may not be obvious at first unless you're Dutch.\n",
      "Now is better than never.\n",
      "Although never is often better than *right* now.\n",
      "If the implementation is hard to explain, it's a bad idea.\n",
      "If the implementation is easy to explain, it may be a good idea.\n",
      "Namespaces are one honking great idea -- let's do more of those!\n"
     ]
    }
   ],
   "source": [
    "import this"
   ]
  },
  {
   "cell_type": "code",
   "execution_count": 46,
   "id": "7f4b131f",
   "metadata": {},
   "outputs": [
    {
     "name": "stdout",
     "output_type": "stream",
     "text": [
      "Pakistan zinda bad\n"
     ]
    }
   ],
   "source": [
    "def abc():\n",
    "    print(\"Pakistan zinda bad\")\n",
    "    \n",
    "abc()"
   ]
  },
  {
   "cell_type": "code",
   "execution_count": 50,
   "id": "7bfa1141",
   "metadata": {},
   "outputs": [
    {
     "name": "stdout",
     "output_type": "stream",
     "text": [
      "10\n",
      "6\n",
      "173\n"
     ]
    }
   ],
   "source": [
    "def add_num(num1,num2,*n):\n",
    "    return num1 + num2 + sum(n)\n",
    "\n",
    "data = [[1,2,3,4],\n",
    "       [1,2,3],\n",
    "       [7,8,9,20,20,20,89]]\n",
    "\n",
    "\n",
    "for row in data:\n",
    "    print(add_num(*row))"
   ]
  },
  {
   "cell_type": "code",
   "execution_count": 52,
   "id": "55923abb",
   "metadata": {},
   "outputs": [
    {
     "name": "stdout",
     "output_type": "stream",
     "text": [
      "1\n",
      "2\n",
      "3\n",
      "4\n"
     ]
    }
   ],
   "source": [
    "for abc in [1,2,3,4]:\n",
    "    print(abc)"
   ]
  },
  {
   "cell_type": "markdown",
   "id": "6d338d3a",
   "metadata": {},
   "source": [
    "# Generator Functions"
   ]
  },
  {
   "cell_type": "code",
   "execution_count": 54,
   "id": "4d389cf4",
   "metadata": {},
   "outputs": [
    {
     "name": "stdout",
     "output_type": "stream",
     "text": [
      "1\n",
      "2\n",
      "3\n",
      "4\n",
      "5\n"
     ]
    }
   ],
   "source": [
    "def my_range(s,e):\n",
    "    for i in range(s,e+1):\n",
    "        print(i)\n",
    "        \n",
    "my_range(1,5)"
   ]
  },
  {
   "cell_type": "code",
   "execution_count": 59,
   "id": "3d4b7ca8",
   "metadata": {},
   "outputs": [
    {
     "name": "stdout",
     "output_type": "stream",
     "text": [
      "<generator object my_range at 0x00000252794DF040>\n",
      "1\n",
      "2\n",
      "3\n",
      "4\n"
     ]
    }
   ],
   "source": [
    "def my_range(s,e):\n",
    "    for i in range(s,e+1):\n",
    "        yield i\n",
    "        \n",
    "a = my_range(1,5)\n",
    "print(a)\n",
    "print(next(a))\n",
    "print(next(a))\n",
    "print(next(a))\n",
    "print(next(a))"
   ]
  },
  {
   "cell_type": "code",
   "execution_count": 60,
   "id": "c474ba57",
   "metadata": {},
   "outputs": [
    {
     "data": {
      "text/plain": [
       "[1, 2, 3, 4, 5]"
      ]
     },
     "execution_count": 60,
     "metadata": {},
     "output_type": "execute_result"
    }
   ],
   "source": [
    "list(my_range(1,5))"
   ]
  },
  {
   "cell_type": "markdown",
   "id": "a3c3588f",
   "metadata": {},
   "source": [
    "# Recursive function"
   ]
  },
  {
   "cell_type": "code",
   "execution_count": 63,
   "id": "e034f267",
   "metadata": {},
   "outputs": [
    {
     "data": {
      "text/plain": [
       "15"
      ]
     },
     "execution_count": 63,
     "metadata": {},
     "output_type": "execute_result"
    }
   ],
   "source": [
    "def abc(n):\n",
    "    if n==0:\n",
    "        return n\n",
    "    return n+abc(n-1)\n",
    "\n",
    "abc(5)\n",
    "[5,4,3,2,1]"
   ]
  },
  {
   "cell_type": "code",
   "execution_count": 71,
   "id": "a3bfd41a",
   "metadata": {},
   "outputs": [
    {
     "data": {
      "text/plain": [
       "15"
      ]
     },
     "execution_count": 71,
     "metadata": {},
     "output_type": "execute_result"
    }
   ],
   "source": [
    "# def abc(num1,num2):\n",
    "#     return num1 + num2\n",
    "\n",
    "#     (num1,num2) \n",
    "a = lambda num1,num2: num1 + num2\n",
    "\n",
    "a(7,8)"
   ]
  },
  {
   "cell_type": "code",
   "execution_count": null,
   "id": "f2d2f3e2",
   "metadata": {},
   "outputs": [],
   "source": []
  },
  {
   "cell_type": "code",
   "execution_count": 69,
   "id": "93adadac",
   "metadata": {},
   "outputs": [
    {
     "data": {
      "text/plain": [
       "[[3, 'X'], [2, 'Y'], [1, 'Z']]"
      ]
     },
     "execution_count": 69,
     "metadata": {},
     "output_type": "execute_result"
    }
   ],
   "source": [
    "data = [[1,\"Z\"],\n",
    "       [2,\"Y\"],\n",
    "       [3,\"X\"]]\n",
    "\n",
    "data.sort(key=lambda x:x[1])\n",
    "data"
   ]
  },
  {
   "cell_type": "code",
   "execution_count": 70,
   "id": "edeb7b97",
   "metadata": {},
   "outputs": [
    {
     "data": {
      "text/plain": [
       "[[3, 'X'], [2, 'Y'], [1, 'Z']]"
      ]
     },
     "execution_count": 70,
     "metadata": {},
     "output_type": "execute_result"
    }
   ],
   "source": [
    "data = [[1,\"Z\"],\n",
    "       [2,\"Y\"],\n",
    "       [3,\"X\"]]\n",
    "\n",
    "data.sort(key=lambda x:x[0], reverse=True)\n",
    "data"
   ]
  },
  {
   "cell_type": "code",
   "execution_count": 72,
   "id": "39bacad9",
   "metadata": {},
   "outputs": [
    {
     "name": "stdout",
     "output_type": "stream",
     "text": [
      "[('apple', '10', '200'), ('baby', '20', '300'), ('candy', '30', '100')]\n"
     ]
    }
   ],
   "source": [
    "lst = [('candy','30','100'), \n",
    "       ('apple','10','200'), \n",
    "       ('baby','20','300')]\n",
    "lst.sort(key=lambda x:x[1])\n",
    "print(lst)"
   ]
  },
  {
   "cell_type": "code",
   "execution_count": 74,
   "id": "4e7cfbe9",
   "metadata": {},
   "outputs": [
    {
     "name": "stdout",
     "output_type": "stream",
     "text": [
      "[('candy', '30', '100'), ('apple', '10', '200'), ('baby', '20', '300')]\n"
     ]
    }
   ],
   "source": [
    "lst = [('candy','30','100'), \n",
    "       ('apple','10','200'), \n",
    "       ('baby','20','300')]\n",
    "lst.sort(key=lambda x:x[2], reverse=False)\n",
    "print(lst)"
   ]
  },
  {
   "cell_type": "code",
   "execution_count": 76,
   "id": "624a0504",
   "metadata": {},
   "outputs": [
    {
     "data": {
      "text/plain": [
       "[6, 7, 8, 9]"
      ]
     },
     "execution_count": 76,
     "metadata": {},
     "output_type": "execute_result"
    }
   ],
   "source": [
    "l=[1,2,3,4]\n",
    "\n",
    "list(map(lambda x:x+5, l))"
   ]
  },
  {
   "cell_type": "code",
   "execution_count": 79,
   "id": "ab1b8a22",
   "metadata": {},
   "outputs": [
    {
     "data": {
      "text/plain": [
       "[6, 7, 8, 9]"
      ]
     },
     "execution_count": 79,
     "metadata": {},
     "output_type": "execute_result"
    }
   ],
   "source": [
    "l=[1,2,3,4]\n",
    "\n",
    "def abc(x):\n",
    "    return x + 5\n",
    "\n",
    "list(map(abc, l))"
   ]
  },
  {
   "cell_type": "code",
   "execution_count": 80,
   "id": "0b31d99b",
   "metadata": {},
   "outputs": [
    {
     "name": "stdout",
     "output_type": "stream",
     "text": [
      "6\n",
      "7\n",
      "8\n",
      "9\n"
     ]
    }
   ],
   "source": [
    "l=[1,2,3,4]\n",
    "def abc(x):\n",
    "    return x + 5\n",
    "\n",
    "for i in l:\n",
    "    print(abc(i))"
   ]
  },
  {
   "cell_type": "code",
   "execution_count": 83,
   "id": "9cea36c1",
   "metadata": {},
   "outputs": [
    {
     "data": {
      "text/plain": [
       "[20, 30, 50]"
      ]
     },
     "execution_count": 83,
     "metadata": {},
     "output_type": "execute_result"
    }
   ],
   "source": [
    "l = [20,27,30,50]\n",
    "def abc(x):\n",
    "    if x%2!=0:\n",
    "        return x\n",
    "\n",
    "list(filter(abc, l))"
   ]
  },
  {
   "cell_type": "code",
   "execution_count": 85,
   "id": "0378ee6b",
   "metadata": {},
   "outputs": [
    {
     "name": "stdout",
     "output_type": "stream",
     "text": [
      "None\n"
     ]
    }
   ],
   "source": [
    "l = [20,27,30,50]\n",
    "def abc(x):\n",
    "    if x%2!=0:\n",
    "        return x\n",
    "\n",
    "print(abc(20))"
   ]
  },
  {
   "cell_type": "code",
   "execution_count": 96,
   "id": "87d99db9",
   "metadata": {},
   "outputs": [
    {
     "name": "stdout",
     "output_type": "stream",
     "text": [
      "53\n",
      "[None, '4220105630741', '4220105436681', '4230108335683', '4210126974647', '4230139662957', '4250119167549', '4230187282502', '4220165351957', '4210145447712', '4220110596563', '4210170151767', '4240126592861', '4210133115704', '4220140225263', '4250155843080', '4220169252467', '5140176791651', '4210120075463', '4250125987808', '4220104505899', '4220159083880', '4220156089133', '4210164790696', '4220101410369', '4410242997959', '4210198030681', '4220117852609', '4230123126547', '3720198153543', '4210182767349', '3520269403788', '4250105286907', '4220121181003', '4220194464618', '4230189725317', '4210129511133', '4210151751811', '4250104502069', '4210185211999', '4210113863591', '4220122868467', '4220113316709', '3130399221225', '4240151906335', '4240105171159', '4200052746960', '4210174905059', '4220178699027', '4420626938874', '4220113823383', '4130110912633', '4230110912633']\n"
     ]
    }
   ],
   "source": [
    "import re\n",
    "def attendance(x):\n",
    "    x = x.replace(\"-\",\"\")\n",
    "    nic = re.findall(r\"\\b[0-9]{13}\\b\",x)\n",
    "    if len(nic)>=1:\n",
    "        return nic[0]\n",
    "    \n",
    "with open(\"attendance.txt\", encoding='utf-8') as f:\n",
    "    l = f.readlines()\n",
    "    cnic = []\n",
    "    for line in l:\n",
    "        a = attendance(line)\n",
    "        \n",
    "        if a not in cnic:\n",
    "            cnic.append(a)\n",
    "            \n",
    "print(len(cnic))            \n",
    "print(cnic)\n",
    "\n",
    "    "
   ]
  },
  {
   "cell_type": "code",
   "execution_count": 97,
   "id": "738d1f9e",
   "metadata": {},
   "outputs": [
    {
     "data": {
      "text/plain": [
       "['__add__',\n",
       " '__class__',\n",
       " '__contains__',\n",
       " '__delattr__',\n",
       " '__dir__',\n",
       " '__doc__',\n",
       " '__eq__',\n",
       " '__format__',\n",
       " '__ge__',\n",
       " '__getattribute__',\n",
       " '__getitem__',\n",
       " '__getnewargs__',\n",
       " '__gt__',\n",
       " '__hash__',\n",
       " '__init__',\n",
       " '__init_subclass__',\n",
       " '__iter__',\n",
       " '__le__',\n",
       " '__len__',\n",
       " '__lt__',\n",
       " '__mod__',\n",
       " '__mul__',\n",
       " '__ne__',\n",
       " '__new__',\n",
       " '__reduce__',\n",
       " '__reduce_ex__',\n",
       " '__repr__',\n",
       " '__rmod__',\n",
       " '__rmul__',\n",
       " '__setattr__',\n",
       " '__sizeof__',\n",
       " '__str__',\n",
       " '__subclasshook__',\n",
       " 'capitalize',\n",
       " 'casefold',\n",
       " 'center',\n",
       " 'count',\n",
       " 'encode',\n",
       " 'endswith',\n",
       " 'expandtabs',\n",
       " 'find',\n",
       " 'format',\n",
       " 'format_map',\n",
       " 'index',\n",
       " 'isalnum',\n",
       " 'isalpha',\n",
       " 'isascii',\n",
       " 'isdecimal',\n",
       " 'isdigit',\n",
       " 'isidentifier',\n",
       " 'islower',\n",
       " 'isnumeric',\n",
       " 'isprintable',\n",
       " 'isspace',\n",
       " 'istitle',\n",
       " 'isupper',\n",
       " 'join',\n",
       " 'ljust',\n",
       " 'lower',\n",
       " 'lstrip',\n",
       " 'maketrans',\n",
       " 'partition',\n",
       " 'removeprefix',\n",
       " 'removesuffix',\n",
       " 'replace',\n",
       " 'rfind',\n",
       " 'rindex',\n",
       " 'rjust',\n",
       " 'rpartition',\n",
       " 'rsplit',\n",
       " 'rstrip',\n",
       " 'split',\n",
       " 'splitlines',\n",
       " 'startswith',\n",
       " 'strip',\n",
       " 'swapcase',\n",
       " 'title',\n",
       " 'translate',\n",
       " 'upper',\n",
       " 'zfill']"
      ]
     },
     "execution_count": 97,
     "metadata": {},
     "output_type": "execute_result"
    }
   ],
   "source": [
    "dir(\"adasd\")"
   ]
  },
  {
   "cell_type": "code",
   "execution_count": null,
   "id": "16e81389",
   "metadata": {},
   "outputs": [],
   "source": []
  }
 ],
 "metadata": {
  "kernelspec": {
   "display_name": "Python 3 (ipykernel)",
   "language": "python",
   "name": "python3"
  },
  "language_info": {
   "codemirror_mode": {
    "name": "ipython",
    "version": 3
   },
   "file_extension": ".py",
   "mimetype": "text/x-python",
   "name": "python",
   "nbconvert_exporter": "python",
   "pygments_lexer": "ipython3",
   "version": "3.9.12"
  }
 },
 "nbformat": 4,
 "nbformat_minor": 5
}
