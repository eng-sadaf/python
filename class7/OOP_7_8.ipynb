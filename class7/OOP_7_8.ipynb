{
 "cells": [
  {
   "cell_type": "markdown",
   "metadata": {},
   "source": [
    "# Object\n",
    "* method/function/procedure/sub_routine\n",
    "    * Action\n",
    "    * which performe some change or return some thing\n",
    "    * `def function_name(self,arg1,arg2,,):`\n",
    "        * <b>self</b> not sepcific you can use any variable name here which you want\n",
    "            * <b>this, self, abc, xyz</b>\n",
    "        * arg1 and arg2\n",
    "            * during function decleration `(self,arg1,arg2)`\n",
    "            ```\n",
    "            self.arg1 = arg1\n",
    "            self.arg2 = arg2\n",
    "            ```\n",
    "                * as a local variable\n",
    "            * now store object attribute value from <b>arg1 and arg2</b>\n",
    "            \n",
    "        * all attributes you should write in constructor function\n",
    "* Attribute/properties/field/characterstics\n",
    "    * it store value for perticulr time\n",
    "    \n",
    "# Class\n",
    "define any object method and attributes in class, this blue print of any object whic\n",
    "reflect this object all methods and attribute\n",
    "\n",
    "## constructor\n",
    "* old programing language properties:\n",
    "    * same function name as class name\n",
    "        * now name replace with `__init__`\n",
    "    * always call when we will create this class object instance(run only one time per obj)\n",
    "    \n",
    "# Four plour of OOPs\n",
    "## 1. Inheritance\n",
    "## 2. polymorphism\n",
    "any object which behave more than one behaviour with same function name is called ploymorphism.\n",
    "\n",
    "    * overloading\n",
    "        * same function recreate with different data type args in same class.\n",
    "    * overriding\n",
    "        * same function recreate with different data type args in defferent class(mean parent vs child).\n",
    "## 3. Incapsulation\n",
    "## 4. Abstraction\n",
    "    "
   ]
  },
  {
   "cell_type": "markdown",
   "metadata": {},
   "source": [
    "# Class"
   ]
  },
  {
   "cell_type": "code",
   "execution_count": 9,
   "metadata": {},
   "outputs": [],
   "source": [
    "class Male():# class\n",
    "    def __init__(self, name, age):# name, age parameters\n",
    "        \"\"\"\n",
    "        ABC\n",
    "        \"\"\"\n",
    "#       slef.attribute = parameter        \n",
    "        self.name = name # attribute 1\n",
    "        self.age = age # attribute 2\n",
    "        self.id = None# attribute 3\n",
    "        self.education = None# attribute 4\n",
    "        self.address = None# attribute 5\n",
    "\n",
    "    # Method message and mother_tongue 1\n",
    "    def speak(self,message, mother_tongue=\"Urdu\" ):\n",
    "        wording = f\"I can speak {mother_tongue} \\n {message}\"\n",
    "        return wording\n",
    "    \n",
    "    # Method 2\n",
    "    def listing(self):\n",
    "        return \"I'm listing you...!\"\n",
    "    \n",
    "    # Method 2\n",
    "    def eating(self,food=\"Biryani\"):\n",
    "        return f\"Start eating {food}\"\n",
    "    "
   ]
  },
  {
   "cell_type": "markdown",
   "metadata": {},
   "source": [
    "# Create class instance or make new object"
   ]
  },
  {
   "cell_type": "code",
   "execution_count": 20,
   "metadata": {},
   "outputs": [],
   "source": [
    "obj1 = Male(\"Shoaib\",30)\n",
    "obj2 = Male(\"Muhammad Qasim\",30)\n",
    "obj3 = Male(\"Niaz Ahmed\",41)"
   ]
  },
  {
   "cell_type": "code",
   "execution_count": 21,
   "metadata": {},
   "outputs": [
    {
     "name": "stdout",
     "output_type": "stream",
     "text": [
      "Shoaib\n",
      "30\n",
      "None\n",
      "None\n",
      "I can speak Punjabi \n",
      " Pakistan zinda bad!\n",
      "I'm listing you...!\n",
      "Start eating Tikka\n"
     ]
    }
   ],
   "source": [
    "# object1\n",
    "print(obj1.name) #call attribute value\n",
    "print(obj1.age)#call attribute value\n",
    "print(obj1.education)#call attribute value\n",
    "print(obj1.address)#call attribute value\n",
    "\n",
    "# object1 methods\n",
    "print(obj1.speak(\"Pakistan zinda bad!\",\"Punjabi\"))\n",
    "print(obj1.listing())\n",
    "print(obj1.eating(\"Tikka\"))"
   ]
  },
  {
   "cell_type": "code",
   "execution_count": 22,
   "metadata": {},
   "outputs": [
    {
     "name": "stdout",
     "output_type": "stream",
     "text": [
      "Muhammad Qasim\n",
      "30\n",
      "None\n",
      "None\n",
      "I can speak Urdu \n",
      " We love our country\n",
      "I'm listing you...!\n",
      "Start eating Tikka, Biryani, Kharai\n"
     ]
    }
   ],
   "source": [
    "# object1\n",
    "print(obj2.name) #call attribute value\n",
    "print(obj2.age)#call attribute value\n",
    "print(obj2.education)#call attribute value\n",
    "print(obj2.address)#call attribute value\n",
    "\n",
    "# object1 methods\n",
    "print(obj2.speak(\"We love our country\"))\n",
    "print(obj2.listing())\n",
    "print(obj2.eating(\"Tikka, Biryani, Kharai\"))"
   ]
  },
  {
   "cell_type": "code",
   "execution_count": 23,
   "metadata": {},
   "outputs": [
    {
     "name": "stdout",
     "output_type": "stream",
     "text": [
      "Niaz Ahmed\n",
      "41\n",
      "None\n",
      "None\n",
      "I can speak Urdu \n",
      " Me nhi bulaonga!....\n",
      "I'm listing you...!\n",
      "Start eating Biryani\n"
     ]
    }
   ],
   "source": [
    "# object1\n",
    "print(obj3.name) #call attribute value\n",
    "print(obj3.age)#call attribute value\n",
    "print(obj3.education)#call attribute value\n",
    "print(obj3.address)#call attribute value\n",
    "\n",
    "# object1 methods\n",
    "print(obj3.speak(\"Me nhi bulaonga!....\"))\n",
    "print(obj3.listing())\n",
    "print(obj3.eating(\"Biryani\"))"
   ]
  },
  {
   "cell_type": "markdown",
   "metadata": {},
   "source": [
    "# Inheritance\n",
    "* we can get each and everything from our parents"
   ]
  },
  {
   "cell_type": "code",
   "execution_count": 26,
   "metadata": {},
   "outputs": [],
   "source": [
    "class Baba(Male):\n",
    "    def eating(self,food=\"Milk\"):\n",
    "        return f\"Start eating {food}\"\n",
    "    "
   ]
  },
  {
   "cell_type": "code",
   "execution_count": 27,
   "metadata": {},
   "outputs": [],
   "source": [
    "b1 = Baba(\"Baba1\",\"2 month\")"
   ]
  },
  {
   "cell_type": "code",
   "execution_count": 29,
   "metadata": {},
   "outputs": [
    {
     "name": "stdout",
     "output_type": "stream",
     "text": [
      "Baba1\n",
      "2 month\n",
      "None\n",
      "None\n",
      "I can speak Urdu \n",
      " Haaa Aaa\n",
      "I'm listing you...!\n",
      "Start eating Milk\n"
     ]
    }
   ],
   "source": [
    "# object1\n",
    "print(b1.name) #call attribute value\n",
    "print(b1.age)#call attribute value\n",
    "print(b1.education)#call attribute value\n",
    "print(b1.address)#call attribute value\n",
    "\n",
    "# object1 methods\n",
    "print(b1.speak(\"Haaa Aaa\"))\n",
    "print(b1.listing())\n",
    "print(b1.eating())"
   ]
  },
  {
   "cell_type": "code",
   "execution_count": 75,
   "metadata": {},
   "outputs": [
    {
     "name": "stdout",
     "output_type": "stream",
     "text": [
      "\n",
      "Intravenous Parecoxib ('Dynastat' Pfizer) \n",
      "1 intravenous parecoxib\n",
      "1 dynastat\n",
      "olmesartan medoxomil / amlodipine or azelnidipine \n",
      "2 olmesartan medoxomil\n",
      "2 amlodipine\n",
      "2 azelnidipine\n",
      "pakistan + zinda bad \n",
      "3 pakistan\n",
      "3 zinda bad\n",
      "SinemetÃ‚Â®️ controlled release (Carbidopa/levodopa) \n",
      "4 sinemetã‚â®️ controlled release\n",
      "4 carbidopa\n",
      "4 levodopa\n",
      "\n"
     ]
    }
   ],
   "source": [
    "import numpy as np\n",
    "import re\n",
    "x = \"\"\"\n",
    "Intravenous Parecoxib ('Dynastat' Pfizer) \n",
    "olmesartan medoxomil / amlodipine or azelnidipine \n",
    "pakistan + zinda bad \n",
    "SinemetÃ‚Â®️ controlled release (Carbidopa/levodopa) \n",
    "\"\"\"\n",
    "\n",
    "def abc(x):\n",
    "    x = str(x).lower()\n",
    "    x = re.sub(r'\\bpfizer\\b',\"\",x)\n",
    "\n",
    "    x = re.split(\"/\",x)\n",
    "    x = [j for i in [re.split(r\" or \",i.strip()) for i in x] for j in i]\n",
    "    x = [j for i in [re.split(r\"\\(|\\)\",i) for i in x] for j in i if j!='']\n",
    "    x = [j.strip() for i in [re.split(r\"'\",i) for i in x] for j in i if j.strip()!='']\n",
    "    x = [j.strip() for i in [re.split(r\"[+]\",i) for i in x] for j in i if j.strip()!='']\n",
    "    \n",
    "    return x\n",
    "\n",
    "for idx, i in enumerate(x.split(\"\\n\")):\n",
    "    print(i)\n",
    "    for drug in abc(i):\n",
    "        print(idx, drug)\n",
    "    \n",
    "    "
   ]
  },
  {
   "cell_type": "code",
   "execution_count": 1,
   "metadata": {},
   "outputs": [
    {
     "name": "stdout",
     "output_type": "stream",
     "text": [
      "20\n"
     ]
    }
   ],
   "source": [
    "a = 1 #intialize\n",
    "a = 7 #overload\n",
    "a = 20 #overload\n",
    "\n",
    "# if we re asign any variable, function on same level is call\n",
    "# overloading\n",
    "\n",
    "print(a)"
   ]
  },
  {
   "cell_type": "markdown",
   "metadata": {},
   "source": [
    "# Class7\n",
    "# Polymorphism\n",
    "### Overloading"
   ]
  },
  {
   "cell_type": "code",
   "execution_count": 3,
   "metadata": {},
   "outputs": [
    {
     "name": "stdout",
     "output_type": "stream",
     "text": [
      "1\n",
      "9\n",
      "64.5\n"
     ]
    }
   ],
   "source": [
    "class Mother():\n",
    "    def __init__(self):\n",
    "        self.eycolor = \"blue\"\n",
    "        self.height = \"average\"\n",
    "        \n",
    "    def speak(self,words,language=\"punjabi\"):\n",
    "        return words+\" \",\"language = \"+language\n",
    "    \n",
    "    # overloading\n",
    "    def my_sum(self,*numbers):\n",
    "        return sum(numbers)\n",
    "    \n",
    "obj1 = Mother()  \n",
    "\n",
    "print(obj1.my_sum(1))# accept one parameter\n",
    "print(obj1.my_sum(1,2,3,3)) # also accept more than one pars\n",
    "print(obj1.my_sum(15.3,4,42,2.2,1))"
   ]
  },
  {
   "cell_type": "code",
   "execution_count": null,
   "metadata": {},
   "outputs": [],
   "source": [
    "# using old programming lanaguages like java, c++\n",
    "add(int,int)\n",
    "add(float,float)\n",
    "add(int,float)\n",
    "add(float,int)"
   ]
  },
  {
   "cell_type": "markdown",
   "metadata": {},
   "source": [
    "# Overriding"
   ]
  },
  {
   "cell_type": "code",
   "execution_count": 8,
   "metadata": {},
   "outputs": [
    {
     "name": "stdout",
     "output_type": "stream",
     "text": [
      "blue\n",
      "average\n",
      "('Pakistan zinda bad ', 'language = punjabi')\n",
      "======================\n",
      "blue\n",
      "tall\n",
      "('Pakistan zinda bad ', 'language = english')\n"
     ]
    }
   ],
   "source": [
    "class Mother():\n",
    "    def __init__(self):\n",
    "        self.eycolor = \"blue\"\n",
    "        self.height = \"average\"\n",
    "        \n",
    "    def speak(self,words,language=\"punjabi\"):\n",
    "        return words+\" \",\"language = \"+language\n",
    "    \n",
    "\n",
    "class Child(Mother):\n",
    "    def __init__(self):\n",
    "        self.eycolor = \"blue\"\n",
    "        self.height = \"tall\" # override\n",
    "        self.education=\"MSDS\"\n",
    "        \n",
    "    def speak(self,words,language=\"english\"): # overriding\n",
    "        return words+\" \",\"language = \"+language\n",
    "    \n",
    "\n",
    "m1 = Mother() \n",
    "print(m1.eycolor)\n",
    "print(m1.height)\n",
    "print(m1.speak(\"Pakistan zinda bad\"))\n",
    "\n",
    "print('======================')\n",
    "\n",
    "# now create child object \n",
    "c1 = Child()\n",
    "print(c1.eycolor)\n",
    "print(c1.height)\n",
    "print(c1.speak(\"Pakistan zinda bad\"))\n"
   ]
  },
  {
   "cell_type": "code",
   "execution_count": 20,
   "metadata": {},
   "outputs": [],
   "source": [
    "class Mother():\n",
    "    def __init__(self):\n",
    "        self.eycolor = \"blue\"\n",
    "        self.height = \"average\"\n",
    "        \n",
    "    def speak(self,words,language=\"punjabi\"):\n",
    "        return words+\" \",\"language = \"+language\n",
    "    \n",
    "\n",
    "class Father():\n",
    "    def __init__(self):\n",
    "        self.color = \"fair\"\n",
    "        self.height = 'tall'\n",
    "        self.hair_color = 'dark brown'\n",
    "    \n",
    "    def speak(self, words, language=\"urdu\"):\n",
    "        return words+\" \",\"language = \"+language\n",
    "        \n",
    "        \n",
    "class Child(Mother,Father):\n",
    "    def __init__(self):\n",
    "        super().__init__(self)\n",
    "        super().super().__init__(self)\n",
    "\n",
    "\n",
    "   \n",
    "      "
   ]
  },
  {
   "cell_type": "code",
   "execution_count": 21,
   "metadata": {},
   "outputs": [
    {
     "name": "stdout",
     "output_type": "stream",
     "text": [
      "blue\n",
      "average\n",
      "('Pakistan zinda bad ', 'language = punjabi')\n",
      "======================\n",
      "fair\n",
      "tall\n",
      "dark brown\n",
      "('Pakistan zinda bad ', 'language = urdu')\n",
      "======================\n"
     ]
    },
    {
     "ename": "TypeError",
     "evalue": "__init__() takes 1 positional argument but 2 were given",
     "output_type": "error",
     "traceback": [
      "\u001b[0;31m----------------------------------------------------------------------\u001b[0m",
      "\u001b[0;31mTypeError\u001b[0m                            Traceback (most recent call last)",
      "\u001b[0;32m<ipython-input-21-1b8851720cea>\u001b[0m in \u001b[0;36m<module>\u001b[0;34m\u001b[0m\n\u001b[1;32m     12\u001b[0m \u001b[0mprint\u001b[0m\u001b[0;34m(\u001b[0m\u001b[0;34m'======================'\u001b[0m\u001b[0;34m)\u001b[0m\u001b[0;34m\u001b[0m\u001b[0;34m\u001b[0m\u001b[0m\n\u001b[1;32m     13\u001b[0m \u001b[0;34m\u001b[0m\u001b[0m\n\u001b[0;32m---> 14\u001b[0;31m \u001b[0mc1\u001b[0m \u001b[0;34m=\u001b[0m \u001b[0mChild\u001b[0m\u001b[0;34m(\u001b[0m\u001b[0;34m)\u001b[0m\u001b[0;34m\u001b[0m\u001b[0;34m\u001b[0m\u001b[0m\n\u001b[0m\u001b[1;32m     15\u001b[0m \u001b[0mprint\u001b[0m\u001b[0;34m(\u001b[0m\u001b[0mc1\u001b[0m\u001b[0;34m.\u001b[0m\u001b[0meycolor\u001b[0m\u001b[0;34m)\u001b[0m\u001b[0;34m\u001b[0m\u001b[0;34m\u001b[0m\u001b[0m\n\u001b[1;32m     16\u001b[0m \u001b[0mprint\u001b[0m\u001b[0;34m(\u001b[0m\u001b[0mc1\u001b[0m\u001b[0;34m.\u001b[0m\u001b[0mheight\u001b[0m\u001b[0;34m)\u001b[0m\u001b[0;34m\u001b[0m\u001b[0;34m\u001b[0m\u001b[0m\n",
      "\u001b[0;32m<ipython-input-20-5fc25035f021>\u001b[0m in \u001b[0;36m__init__\u001b[0;34m(self)\u001b[0m\n\u001b[1;32m     20\u001b[0m \u001b[0;32mclass\u001b[0m \u001b[0mChild\u001b[0m\u001b[0;34m(\u001b[0m\u001b[0mMother\u001b[0m\u001b[0;34m,\u001b[0m\u001b[0mFather\u001b[0m\u001b[0;34m)\u001b[0m\u001b[0;34m:\u001b[0m\u001b[0;34m\u001b[0m\u001b[0;34m\u001b[0m\u001b[0m\n\u001b[1;32m     21\u001b[0m     \u001b[0;32mdef\u001b[0m \u001b[0m__init__\u001b[0m\u001b[0;34m(\u001b[0m\u001b[0mself\u001b[0m\u001b[0;34m)\u001b[0m\u001b[0;34m:\u001b[0m\u001b[0;34m\u001b[0m\u001b[0;34m\u001b[0m\u001b[0m\n\u001b[0;32m---> 22\u001b[0;31m         \u001b[0msuper\u001b[0m\u001b[0;34m(\u001b[0m\u001b[0;34m)\u001b[0m\u001b[0;34m.\u001b[0m\u001b[0m__init__\u001b[0m\u001b[0;34m(\u001b[0m\u001b[0mself\u001b[0m\u001b[0;34m)\u001b[0m\u001b[0;34m\u001b[0m\u001b[0;34m\u001b[0m\u001b[0m\n\u001b[0m\u001b[1;32m     23\u001b[0m         \u001b[0msuper\u001b[0m\u001b[0;34m(\u001b[0m\u001b[0;34m)\u001b[0m\u001b[0;34m.\u001b[0m\u001b[0msuper\u001b[0m\u001b[0;34m(\u001b[0m\u001b[0;34m)\u001b[0m\u001b[0;34m.\u001b[0m\u001b[0m__init__\u001b[0m\u001b[0;34m(\u001b[0m\u001b[0mself\u001b[0m\u001b[0;34m)\u001b[0m\u001b[0;34m\u001b[0m\u001b[0;34m\u001b[0m\u001b[0m\n\u001b[1;32m     24\u001b[0m \u001b[0;34m\u001b[0m\u001b[0m\n",
      "\u001b[0;31mTypeError\u001b[0m: __init__() takes 1 positional argument but 2 were given"
     ]
    }
   ],
   "source": [
    "m1 = Mother() \n",
    "print(m1.eycolor)\n",
    "print(m1.height)\n",
    "print(m1.speak(\"Pakistan zinda bad\"))\n",
    "print('======================')\n",
    "\n",
    "f1 = Father() \n",
    "print(f1.color)\n",
    "print(f1.height)\n",
    "print(f1.hair_color)\n",
    "print(f1.speak(\"Pakistan zinda bad\"))\n",
    "print('======================')\n",
    "\n",
    "c1 = Child()\n",
    "print(c1.eycolor)\n",
    "print(c1.height)\n",
    "print(c1.color)\n",
    "print(c1.hair_color)\n",
    "print(c1.speak(\"Pakistan zinda bad\"))"
   ]
  },
  {
   "cell_type": "markdown",
   "metadata": {},
   "source": [
    "# Encapsulation\n",
    "* cappsole\n",
    "    * hide foruma from public no one can change directly\n",
    "    * have some getter setter function which we can use to update \n",
    "    attributes values\n",
    "    * make some attribute/function as private (__ before name)\n",
    "    * private methods/attribute can also acces within a class or inhertance class\n",
    " "
   ]
  },
  {
   "cell_type": "code",
   "execution_count": 24,
   "metadata": {},
   "outputs": [
    {
     "name": "stdout",
     "output_type": "stream",
     "text": [
      "blue\n",
      "average\n",
      "('Pakistan zinda bad ', 'language = punjabi')\n",
      "black\n"
     ]
    }
   ],
   "source": [
    "c1 = Mother()\n",
    "print(c1.eycolor)# publicly access\n",
    "print(c1.height)# publicly access\n",
    "print(c1.speak(\"Pakistan zinda bad\"))\n",
    "c1.eycolor = \"black\" # we can update pulic access attribute\n",
    "print(c1.eycolor)"
   ]
  },
  {
   "cell_type": "code",
   "execution_count": 68,
   "metadata": {},
   "outputs": [
    {
     "ename": "NameError",
     "evalue": "name 'self' is not defined",
     "output_type": "error",
     "traceback": [
      "\u001b[0;31m----------------------------------------------------------------------\u001b[0m",
      "\u001b[0;31mNameError\u001b[0m                            Traceback (most recent call last)",
      "\u001b[0;32m<ipython-input-68-f8a148ff4a2b>\u001b[0m in \u001b[0;36m<module>\u001b[0;34m\u001b[0m\n\u001b[0;32m----> 1\u001b[0;31m \u001b[0;32mclass\u001b[0m \u001b[0mUser\u001b[0m\u001b[0;34m(\u001b[0m\u001b[0;34m)\u001b[0m\u001b[0;34m:\u001b[0m\u001b[0;34m\u001b[0m\u001b[0;34m\u001b[0m\u001b[0m\n\u001b[0m\u001b[1;32m      2\u001b[0m     \u001b[0;32mdef\u001b[0m \u001b[0m__init__\u001b[0m\u001b[0;34m(\u001b[0m\u001b[0mself\u001b[0m\u001b[0;34m,\u001b[0m\u001b[0muser_name\u001b[0m\u001b[0;34m,\u001b[0m \u001b[0mpassword\u001b[0m\u001b[0;34m,\u001b[0m\u001b[0memail\u001b[0m\u001b[0;34m)\u001b[0m\u001b[0;34m:\u001b[0m\u001b[0;34m\u001b[0m\u001b[0;34m\u001b[0m\u001b[0m\n\u001b[1;32m      3\u001b[0m         \u001b[0mself\u001b[0m\u001b[0;34m.\u001b[0m\u001b[0m__user_name\u001b[0m \u001b[0;34m=\u001b[0m \u001b[0muser_name\u001b[0m \u001b[0;31m# private att\u001b[0m\u001b[0;34m\u001b[0m\u001b[0;34m\u001b[0m\u001b[0m\n\u001b[1;32m      4\u001b[0m         \u001b[0mself\u001b[0m\u001b[0;34m.\u001b[0m\u001b[0m__password\u001b[0m \u001b[0;34m=\u001b[0m \u001b[0mpassword\u001b[0m \u001b[0;31m# private att\u001b[0m\u001b[0;34m\u001b[0m\u001b[0;34m\u001b[0m\u001b[0m\n\u001b[1;32m      5\u001b[0m         \u001b[0mself\u001b[0m\u001b[0;34m.\u001b[0m\u001b[0memail\u001b[0m \u001b[0;34m=\u001b[0m \u001b[0memail\u001b[0m \u001b[0;31m#pub\u001b[0m\u001b[0;34m\u001b[0m\u001b[0;34m\u001b[0m\u001b[0m\n",
      "\u001b[0;32m<ipython-input-68-f8a148ff4a2b>\u001b[0m in \u001b[0;36mUser\u001b[0;34m()\u001b[0m\n\u001b[1;32m      7\u001b[0m     \u001b[0;32mdef\u001b[0m \u001b[0m__connect_database\u001b[0m\u001b[0;34m(\u001b[0m\u001b[0mself\u001b[0m\u001b[0;34m)\u001b[0m\u001b[0;34m:\u001b[0m \u001b[0;31m# private method\u001b[0m\u001b[0;34m\u001b[0m\u001b[0;34m\u001b[0m\u001b[0m\n\u001b[1;32m      8\u001b[0m         \u001b[0;32mreturn\u001b[0m \u001b[0;34m\"connectd...\"\u001b[0m\u001b[0;34m\u001b[0m\u001b[0;34m\u001b[0m\u001b[0m\n\u001b[0;32m----> 9\u001b[0;31m     \u001b[0mprint\u001b[0m\u001b[0;34m(\u001b[0m\u001b[0m__connect_database\u001b[0m\u001b[0;34m(\u001b[0m\u001b[0mself\u001b[0m\u001b[0;34m)\u001b[0m\u001b[0;34m)\u001b[0m\u001b[0;34m\u001b[0m\u001b[0;34m\u001b[0m\u001b[0m\n\u001b[0m\u001b[1;32m     10\u001b[0m     \u001b[0;32mdef\u001b[0m \u001b[0minformation\u001b[0m\u001b[0;34m(\u001b[0m\u001b[0mself\u001b[0m\u001b[0;34m)\u001b[0m\u001b[0;34m:\u001b[0m \u001b[0;31m# getter method\u001b[0m\u001b[0;34m\u001b[0m\u001b[0;34m\u001b[0m\u001b[0m\n\u001b[1;32m     11\u001b[0m \u001b[0;34m\u001b[0m\u001b[0m\n",
      "\u001b[0;31mNameError\u001b[0m: name 'self' is not defined"
     ]
    }
   ],
   "source": [
    "class User():\n",
    "    def __init__(self,user_name, password,email):\n",
    "        self.__user_name = user_name # private att\n",
    "        self.__password = password # private att\n",
    "        self.email = email #pub\n",
    "        \n",
    "    def __connect_database(self): # private method\n",
    "        return \"connectd...\"\n",
    "\n",
    "    def information(self): # getter method\n",
    "        \n",
    "        result = \"name: \"+ self.__user_name + \"\\npassword :\"+self.__password+\"\\n email :\"+self.email\n",
    "        return result\n",
    "        \n",
    "    def update(self,name,pas): # setter method\n",
    "        self.__user_name = name\n",
    "        self.__password = pas\n",
    "        \n",
    "u1 = User(\"m.qasim\",\"abc123\",'m.qasim077@gmail.com')        "
   ]
  },
  {
   "cell_type": "code",
   "execution_count": 69,
   "metadata": {},
   "outputs": [
    {
     "name": "stdout",
     "output_type": "stream",
     "text": [
      "m.qasim077@gmail.com\n"
     ]
    }
   ],
   "source": [
    "print(u1.email)# public access"
   ]
  },
  {
   "cell_type": "code",
   "execution_count": 70,
   "metadata": {},
   "outputs": [
    {
     "name": "stdout",
     "output_type": "stream",
     "text": [
      "qasim00\n"
     ]
    }
   ],
   "source": [
    "print(u1.user_name)"
   ]
  },
  {
   "cell_type": "code",
   "execution_count": 71,
   "metadata": {},
   "outputs": [
    {
     "ename": "AttributeError",
     "evalue": "'User' object has no attribute '__user_name'",
     "output_type": "error",
     "traceback": [
      "\u001b[0;31m----------------------------------------------------------------------\u001b[0m",
      "\u001b[0;31mAttributeError\u001b[0m                       Traceback (most recent call last)",
      "\u001b[0;32m<ipython-input-71-d782cb01798b>\u001b[0m in \u001b[0;36m<module>\u001b[0;34m\u001b[0m\n\u001b[0;32m----> 1\u001b[0;31m \u001b[0mprint\u001b[0m\u001b[0;34m(\u001b[0m\u001b[0mu1\u001b[0m\u001b[0;34m.\u001b[0m\u001b[0m__user_name\u001b[0m\u001b[0;34m)\u001b[0m\u001b[0;34m\u001b[0m\u001b[0;34m\u001b[0m\u001b[0m\n\u001b[0m",
      "\u001b[0;31mAttributeError\u001b[0m: 'User' object has no attribute '__user_name'"
     ]
    }
   ],
   "source": [
    "print(u1.__user_name)"
   ]
  },
  {
   "cell_type": "code",
   "execution_count": 72,
   "metadata": {},
   "outputs": [],
   "source": [
    "u1.user_name = \"qasim00\""
   ]
  },
  {
   "cell_type": "code",
   "execution_count": 66,
   "metadata": {},
   "outputs": [
    {
     "ename": "AttributeError",
     "evalue": "'User' object has no attribute 'connect_database'",
     "output_type": "error",
     "traceback": [
      "\u001b[0;31m----------------------------------------------------------------------\u001b[0m",
      "\u001b[0;31mAttributeError\u001b[0m                       Traceback (most recent call last)",
      "\u001b[0;32m<ipython-input-66-499106355929>\u001b[0m in \u001b[0;36m<module>\u001b[0;34m\u001b[0m\n\u001b[0;32m----> 1\u001b[0;31m \u001b[0mprint\u001b[0m\u001b[0;34m(\u001b[0m\u001b[0mu1\u001b[0m\u001b[0;34m.\u001b[0m\u001b[0minformation\u001b[0m\u001b[0;34m(\u001b[0m\u001b[0;34m)\u001b[0m\u001b[0;34m)\u001b[0m\u001b[0;34m\u001b[0m\u001b[0;34m\u001b[0m\u001b[0m\n\u001b[0m",
      "\u001b[0;32m<ipython-input-61-374b2b392077>\u001b[0m in \u001b[0;36minformation\u001b[0;34m(self)\u001b[0m\n\u001b[1;32m      9\u001b[0m \u001b[0;34m\u001b[0m\u001b[0m\n\u001b[1;32m     10\u001b[0m     \u001b[0;32mdef\u001b[0m \u001b[0minformation\u001b[0m\u001b[0;34m(\u001b[0m\u001b[0mself\u001b[0m\u001b[0;34m)\u001b[0m\u001b[0;34m:\u001b[0m \u001b[0;31m# getter method\u001b[0m\u001b[0;34m\u001b[0m\u001b[0;34m\u001b[0m\u001b[0m\n\u001b[0;32m---> 11\u001b[0;31m         \u001b[0mprint\u001b[0m\u001b[0;34m(\u001b[0m\u001b[0mself\u001b[0m\u001b[0;34m.\u001b[0m\u001b[0mconnect_database\u001b[0m\u001b[0;34m(\u001b[0m\u001b[0;34m)\u001b[0m\u001b[0;34m)\u001b[0m\u001b[0;34m\u001b[0m\u001b[0;34m\u001b[0m\u001b[0m\n\u001b[0m\u001b[1;32m     12\u001b[0m         \u001b[0mresult\u001b[0m \u001b[0;34m=\u001b[0m \u001b[0;34m\"name: \"\u001b[0m\u001b[0;34m+\u001b[0m \u001b[0mself\u001b[0m\u001b[0;34m.\u001b[0m\u001b[0m__user_name\u001b[0m \u001b[0;34m+\u001b[0m \u001b[0;34m\"\\npassword :\"\u001b[0m\u001b[0;34m+\u001b[0m\u001b[0mself\u001b[0m\u001b[0;34m.\u001b[0m\u001b[0m__password\u001b[0m\u001b[0;34m+\u001b[0m\u001b[0;34m\"\\n email :\"\u001b[0m\u001b[0;34m+\u001b[0m\u001b[0mself\u001b[0m\u001b[0;34m.\u001b[0m\u001b[0memail\u001b[0m\u001b[0;34m\u001b[0m\u001b[0;34m\u001b[0m\u001b[0m\n\u001b[1;32m     13\u001b[0m         \u001b[0;32mreturn\u001b[0m \u001b[0mresult\u001b[0m\u001b[0;34m\u001b[0m\u001b[0;34m\u001b[0m\u001b[0m\n",
      "\u001b[0;31mAttributeError\u001b[0m: 'User' object has no attribute 'connect_database'"
     ]
    }
   ],
   "source": [
    "print(u1.information())"
   ]
  },
  {
   "cell_type": "code",
   "execution_count": 46,
   "metadata": {},
   "outputs": [],
   "source": [
    "u1.update(\"abc_qasim077\",\"abc111\")"
   ]
  },
  {
   "cell_type": "code",
   "execution_count": 47,
   "metadata": {},
   "outputs": [
    {
     "name": "stdout",
     "output_type": "stream",
     "text": [
      "name: abc_qasim077\n",
      "password :abc111\n",
      " email :m.qasim077@gmail.com\n"
     ]
    }
   ],
   "source": [
    "print(u1.information())"
   ]
  },
  {
   "cell_type": "code",
   "execution_count": 48,
   "metadata": {},
   "outputs": [
    {
     "ename": "AttributeError",
     "evalue": "'User' object has no attribute 'connect_database'",
     "output_type": "error",
     "traceback": [
      "\u001b[0;31m----------------------------------------------------------------------\u001b[0m",
      "\u001b[0;31mAttributeError\u001b[0m                       Traceback (most recent call last)",
      "\u001b[0;32m<ipython-input-48-718bdccf57ce>\u001b[0m in \u001b[0;36m<module>\u001b[0;34m\u001b[0m\n\u001b[0;32m----> 1\u001b[0;31m \u001b[0mu1\u001b[0m\u001b[0;34m.\u001b[0m\u001b[0mconnect_database\u001b[0m\u001b[0;34m(\u001b[0m\u001b[0;34m)\u001b[0m\u001b[0;34m\u001b[0m\u001b[0;34m\u001b[0m\u001b[0m\n\u001b[0m",
      "\u001b[0;31mAttributeError\u001b[0m: 'User' object has no attribute 'connect_database'"
     ]
    }
   ],
   "source": [
    "u1.connect_database()"
   ]
  },
  {
   "cell_type": "code",
   "execution_count": 75,
   "metadata": {},
   "outputs": [
    {
     "data": {
      "text/plain": [
       "'m.qasim'"
      ]
     },
     "execution_count": 75,
     "metadata": {},
     "output_type": "execute_result"
    }
   ],
   "source": [
    "#ojb._Class__attribute\n",
    "u1._User__user_name\n"
   ]
  },
  {
   "cell_type": "code",
   "execution_count": null,
   "metadata": {},
   "outputs": [],
   "source": []
  }
 ],
 "metadata": {
  "kernelspec": {
   "display_name": "Python 3",
   "language": "python",
   "name": "python3"
  },
  "language_info": {
   "codemirror_mode": {
    "name": "ipython",
    "version": 3
   },
   "file_extension": ".py",
   "mimetype": "text/x-python",
   "name": "python",
   "nbconvert_exporter": "python",
   "pygments_lexer": "ipython3",
   "version": "3.7.6"
  }
 },
 "nbformat": 4,
 "nbformat_minor": 4
}
