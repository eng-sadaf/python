{
 "cells": [
  {
   "cell_type": "code",
   "execution_count": 7,
   "id": "b8fc9642",
   "metadata": {},
   "outputs": [
    {
     "name": "stdout",
     "output_type": "stream",
     "text": [
      "Enter any num : 88\n",
      "88 is not a prime number\n"
     ]
    }
   ],
   "source": [
    "enter_num = int(input('Enter any num : '))\n",
    "if enter_num > 1:\n",
    "    # Iterate from 2 to n / 2\n",
    "    for i in range(2, int(enter_num/2)+1):\n",
    "        # If enter_num is divisible by any number between\n",
    "        # 2 and n / 2, it is not prime\n",
    "        if (enter_num % i) == 0:\n",
    "            print(enter_num, \"is not a prime number\")\n",
    "            break\n",
    "    else:\n",
    "        print(enter_num, \"is a prime number\")\n",
    "else:\n",
    "    print(enter_num, \"is not a prime number\")"
   ]
  }
 ],
 "metadata": {
  "kernelspec": {
   "display_name": "Python 3 (ipykernel)",
   "language": "python",
   "name": "python3"
  },
  "language_info": {
   "codemirror_mode": {
    "name": "ipython",
    "version": 3
   },
   "file_extension": ".py",
   "mimetype": "text/x-python",
   "name": "python",
   "nbconvert_exporter": "python",
   "pygments_lexer": "ipython3",
   "version": "3.9.12"
  }
 },
 "nbformat": 4,
 "nbformat_minor": 5
}
