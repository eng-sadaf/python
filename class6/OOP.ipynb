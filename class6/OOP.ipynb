{
 "cells": [
  {
   "cell_type": "markdown",
   "metadata": {},
   "source": [
    "# Object\n",
    "* method/function/procedure/sub_routine\n",
    "    * Action\n",
    "    * which performe some change or return some thing\n",
    "    * `def function_name(self,arg1,arg2,,):`\n",
    "        * <b>self</b> not sepcific you can use any variable name here which you want\n",
    "            * <b>this, self, abc, xyz</b>\n",
    "        * arg1 and arg2\n",
    "            * during function decleration `(self,arg1,arg2)`\n",
    "            ```\n",
    "            self.arg1 = arg1\n",
    "            self.arg2 = arg2\n",
    "            ```\n",
    "                * as a local variable\n",
    "            * now store object attribute value from <b>arg1 and arg2</b>\n",
    "            \n",
    "        * all attributes you should write in constructor function\n",
    "* Attribute/properties/field/characterstics\n",
    "    * it store value for perticulr time\n",
    "    \n",
    "# Class\n",
    "define any object method and attributes in class, this blue print of any object whic\n",
    "reflect this object all methods and attribute\n",
    "\n",
    "## constructor\n",
    "* old programing language properties:\n",
    "    * same function name as class name\n",
    "        * now name replace with `__init__`\n",
    "    * always call when we will create this class object instance(run only one time per obj)\n",
    "    "
   ]
  },
  {
   "cell_type": "markdown",
   "metadata": {},
   "source": [
    "# Class"
   ]
  },
  {
   "cell_type": "code",
   "execution_count": 9,
   "metadata": {},
   "outputs": [],
   "source": [
    "class Male():# class\n",
    "    def __init__(self, name, age):# name, age parameters\n",
    "        \"\"\"\n",
    "        ABC\n",
    "        \"\"\"\n",
    "#       slef.attribute = parameter        \n",
    "        self.name = name # attribute 1\n",
    "        self.age = age # attribute 2\n",
    "        self.id = None# attribute 3\n",
    "        self.education = None# attribute 4\n",
    "        self.address = None# attribute 5\n",
    "\n",
    "    # Method message and mother_tongue 1\n",
    "    def speak(self,message, mother_tongue=\"Urdu\" ):\n",
    "        wording = f\"I can speak {mother_tongue} \\n {message}\"\n",
    "        return wording\n",
    "    \n",
    "    # Method 2\n",
    "    def listing(self):\n",
    "        return \"I'm listing you...!\"\n",
    "    \n",
    "    # Method 2\n",
    "    def eating(self,food=\"Biryani\"):\n",
    "        return f\"Start eating {food}\"\n",
    "    "
   ]
  },
  {
   "cell_type": "markdown",
   "metadata": {},
   "source": [
    "# Create class instance or make new object"
   ]
  },
  {
   "cell_type": "code",
   "execution_count": 20,
   "metadata": {},
   "outputs": [],
   "source": [
    "obj1 = Male(\"Shoaib\",30)\n",
    "obj2 = Male(\"Muhammad Qasim\",30)\n",
    "obj3 = Male(\"Niaz Ahmed\",41)"
   ]
  },
  {
   "cell_type": "code",
   "execution_count": 21,
   "metadata": {},
   "outputs": [
    {
     "name": "stdout",
     "output_type": "stream",
     "text": [
      "Shoaib\n",
      "30\n",
      "None\n",
      "None\n",
      "I can speak Punjabi \n",
      " Pakistan zinda bad!\n",
      "I'm listing you...!\n",
      "Start eating Tikka\n"
     ]
    }
   ],
   "source": [
    "# object1\n",
    "print(obj1.name) #call attribute value\n",
    "print(obj1.age)#call attribute value\n",
    "print(obj1.education)#call attribute value\n",
    "print(obj1.address)#call attribute value\n",
    "\n",
    "# object1 methods\n",
    "print(obj1.speak(\"Pakistan zinda bad!\",\"Punjabi\"))\n",
    "print(obj1.listing())\n",
    "print(obj1.eating(\"Tikka\"))"
   ]
  },
  {
   "cell_type": "code",
   "execution_count": 22,
   "metadata": {},
   "outputs": [
    {
     "name": "stdout",
     "output_type": "stream",
     "text": [
      "Muhammad Qasim\n",
      "30\n",
      "None\n",
      "None\n",
      "I can speak Urdu \n",
      " We love our country\n",
      "I'm listing you...!\n",
      "Start eating Tikka, Biryani, Kharai\n"
     ]
    }
   ],
   "source": [
    "# object1\n",
    "print(obj2.name) #call attribute value\n",
    "print(obj2.age)#call attribute value\n",
    "print(obj2.education)#call attribute value\n",
    "print(obj2.address)#call attribute value\n",
    "\n",
    "# object1 methods\n",
    "print(obj2.speak(\"We love our country\"))\n",
    "print(obj2.listing())\n",
    "print(obj2.eating(\"Tikka, Biryani, Kharai\"))"
   ]
  },
  {
   "cell_type": "code",
   "execution_count": 23,
   "metadata": {},
   "outputs": [
    {
     "name": "stdout",
     "output_type": "stream",
     "text": [
      "Niaz Ahmed\n",
      "41\n",
      "None\n",
      "None\n",
      "I can speak Urdu \n",
      " Me nhi bulaonga!....\n",
      "I'm listing you...!\n",
      "Start eating Biryani\n"
     ]
    }
   ],
   "source": [
    "# object1\n",
    "print(obj3.name) #call attribute value\n",
    "print(obj3.age)#call attribute value\n",
    "print(obj3.education)#call attribute value\n",
    "print(obj3.address)#call attribute value\n",
    "\n",
    "# object1 methods\n",
    "print(obj3.speak(\"Me nhi bulaonga!....\"))\n",
    "print(obj3.listing())\n",
    "print(obj3.eating(\"Biryani\"))"
   ]
  },
  {
   "cell_type": "markdown",
   "metadata": {},
   "source": [
    "# Inheritance\n",
    "* we can get each and everything from our parents"
   ]
  },
  {
   "cell_type": "code",
   "execution_count": 26,
   "metadata": {},
   "outputs": [],
   "source": [
    "class Baba(Male):\n",
    "    def eating(self,food=\"Milk\"):\n",
    "        return f\"Start eating {food}\"\n",
    "    "
   ]
  },
  {
   "cell_type": "code",
   "execution_count": 27,
   "metadata": {},
   "outputs": [],
   "source": [
    "b1 = Baba(\"Baba1\",\"2 month\")"
   ]
  },
  {
   "cell_type": "code",
   "execution_count": 29,
   "metadata": {},
   "outputs": [
    {
     "name": "stdout",
     "output_type": "stream",
     "text": [
      "Baba1\n",
      "2 month\n",
      "None\n",
      "None\n",
      "I can speak Urdu \n",
      " Haaa Aaa\n",
      "I'm listing you...!\n",
      "Start eating Milk\n"
     ]
    }
   ],
   "source": [
    "# object1\n",
    "print(b1.name) #call attribute value\n",
    "print(b1.age)#call attribute value\n",
    "print(b1.education)#call attribute value\n",
    "print(b1.address)#call attribute value\n",
    "\n",
    "# object1 methods\n",
    "print(b1.speak(\"Haaa Aaa\"))\n",
    "print(b1.listing())\n",
    "print(b1.eating())"
   ]
  },
  {
   "cell_type": "code",
   "execution_count": null,
   "metadata": {},
   "outputs": [],
   "source": []
  }
 ],
 "metadata": {
  "kernelspec": {
   "display_name": "Python 3",
   "language": "python",
   "name": "python3"
  },
  "language_info": {
   "codemirror_mode": {
    "name": "ipython",
    "version": 3
   },
   "file_extension": ".py",
   "mimetype": "text/x-python",
   "name": "python",
   "nbconvert_exporter": "python",
   "pygments_lexer": "ipython3",
   "version": "3.7.6"
  }
 },
 "nbformat": 4,
 "nbformat_minor": 4
}
